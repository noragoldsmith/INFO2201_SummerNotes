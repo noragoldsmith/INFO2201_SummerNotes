{
 "cells": [
  {
   "cell_type": "markdown",
   "metadata": {
    "id": "zV2otJc9rswa"
   },
   "source": [
    "# Week 2 Day 2: Functions\n",
    "A function is a block of code which only runs when it is called.\n",
    "You can pass data, known as parameters, into a function.\n",
    "A function can return data as a result.\n",
    "\n",
    "In Python a function is defined using the def keyword.\n",
    "\n",
    "Information can be passed into functions as arguments.\n",
    "Arguments are specified after the function name, inside the parentheses. You can add as many arguments as you want, just separate them with a comma.\n",
    "*The terms parameter and argument can be used for the same thing: information that are passed into a function.*\n",
    "From a function's perspective:\n",
    "\n",
    "----A parameter is the variable listed inside the parentheses in the function definition.\n",
    "\n",
    "----An argument is the value that is sent to the function when it is called.\n",
    "\n",
    "There are some functions that are built into python that you do not need to build in order to call them.\n",
    "\n",
    "Built in functions\n",
    "- type()\n",
    "- min()\n",
    "- max()\n",
    "- len()\n",
    "- int()\n",
    "- float()\n",
    "- str()"
   ]
  },
  {
   "cell_type": "markdown",
   "metadata": {
    "id": "ZV4G5902sM9y"
   },
   "source": [
    "### Defining a function"
   ]
  },
  {
   "cell_type": "code",
   "execution_count": 5,
   "metadata": {
    "id": "BplAGLhwsVvP"
   },
   "outputs": [],
   "source": [
    "# Make a function to that prints out 'this is my first function'\n",
    "\n",
    "def myFirstFunction():\n",
    "    print(\"This is my first function\")\n"
   ]
  },
  {
   "cell_type": "code",
   "execution_count": 7,
   "metadata": {
    "colab": {
     "base_uri": "https://localhost:8080/"
    },
    "executionInfo": {
     "elapsed": 143,
     "status": "ok",
     "timestamp": 1686687637184,
     "user": {
      "displayName": "Anas X384569",
      "userId": "13931278578707862625"
     },
     "user_tz": 300
    },
    "id": "g7gAaH6NsYe7",
    "outputId": "d2195c01-a985-49b7-d7a2-f5cb72542c4f"
   },
   "outputs": [
    {
     "name": "stdout",
     "output_type": "stream",
     "text": [
      "This is my first function\n"
     ]
    }
   ],
   "source": [
    "# call the function\n",
    "myFirstFunction()"
   ]
  },
  {
   "cell_type": "code",
   "execution_count": 9,
   "metadata": {},
   "outputs": [],
   "source": [
    "# make a funciton that prints out many print statements\n",
    "\n",
    "def printLyrics():\n",
    "    print(\"There's always gonna be another mountain\")\n",
    "    print(\"I'm always gonna wanna make it move\")\n",
    "    print(\"Always gonna be an uphill battle\")"
   ]
  },
  {
   "cell_type": "code",
   "execution_count": 13,
   "metadata": {},
   "outputs": [
    {
     "name": "stdout",
     "output_type": "stream",
     "text": [
      "There's always gonna be another mountain\n",
      "I'm always gonna wanna make it move\n",
      "Always gonna be an uphill battle\n"
     ]
    }
   ],
   "source": [
    "# call the function\n",
    "printLyrics()"
   ]
  },
  {
   "cell_type": "code",
   "execution_count": 19,
   "metadata": {},
   "outputs": [
    {
     "name": "stdout",
     "output_type": "stream",
     "text": [
      "This is my first function\n"
     ]
    }
   ],
   "source": [
    "#put it in an if statement \n",
    "\n",
    "a = 10\n",
    "\n",
    "if (a == 10):\n",
    "    myFirstFunction()\n",
    "\n",
    "else:\n",
    "    print(\"jk idk how to do this yet\")"
   ]
  },
  {
   "cell_type": "code",
   "execution_count": 25,
   "metadata": {
    "id": "tBiJhrCxaxOb"
   },
   "outputs": [],
   "source": [
    "#make another function that adds two variables together\n",
    "\n",
    "def addVarFunction():\n",
    "    var1 = 5\n",
    "    var2 = 7\n",
    "\n",
    "    print(var1+var2)"
   ]
  },
  {
   "cell_type": "code",
   "execution_count": 27,
   "metadata": {
    "colab": {
     "base_uri": "https://localhost:8080/"
    },
    "executionInfo": {
     "elapsed": 144,
     "status": "ok",
     "timestamp": 1686687686496,
     "user": {
      "displayName": "Anas X384569",
      "userId": "13931278578707862625"
     },
     "user_tz": 300
    },
    "id": "smVhHQetaxKr",
    "outputId": "e32bc2a1-d5f8-4ab8-fd7d-307abd56f197"
   },
   "outputs": [
    {
     "name": "stdout",
     "output_type": "stream",
     "text": [
      "12\n"
     ]
    }
   ],
   "source": [
    "#call the second function\n",
    "addVarFunction()"
   ]
  },
  {
   "cell_type": "code",
   "execution_count": 31,
   "metadata": {},
   "outputs": [
    {
     "ename": "NameError",
     "evalue": "name 'var1' is not defined",
     "output_type": "error",
     "traceback": [
      "\u001b[0;31m---------------------------------------------------------------------------\u001b[0m",
      "\u001b[0;31mNameError\u001b[0m                                 Traceback (most recent call last)",
      "Cell \u001b[0;32mIn[31], line 1\u001b[0m\n\u001b[0;32m----> 1\u001b[0m \u001b[38;5;28mprint\u001b[39m(var1)\n",
      "\u001b[0;31mNameError\u001b[0m: name 'var1' is not defined"
     ]
    }
   ],
   "source": [
    "print(var1)\n",
    "# not defined, only exists within the task of the function"
   ]
  },
  {
   "cell_type": "code",
   "execution_count": 33,
   "metadata": {
    "id": "dO3FXPrDaxGq"
   },
   "outputs": [],
   "source": [
    "#make a third funciton that adds two values adn returns the new value\n",
    "\n",
    "def myThirdFunction():\n",
    "    var1 = 19\n",
    "    var2 = 2\n",
    "\n",
    "    return var1 + var2"
   ]
  },
  {
   "cell_type": "code",
   "execution_count": 39,
   "metadata": {
    "id": "1A1F0ukdaxBp"
   },
   "outputs": [
    {
     "data": {
      "text/plain": [
       "21"
      ]
     },
     "execution_count": 39,
     "metadata": {},
     "output_type": "execute_result"
    }
   ],
   "source": [
    "# assign that function to a value\n",
    "myValue = myThirdFunction()\n",
    "\n",
    "#check\n",
    "\n",
    "myValue"
   ]
  },
  {
   "cell_type": "code",
   "execution_count": 41,
   "metadata": {},
   "outputs": [],
   "source": [
    "# pass argument\n",
    "\n",
    "def passFunct():\n",
    "    pass\n",
    "\n",
    "passFunct()"
   ]
  },
  {
   "cell_type": "markdown",
   "metadata": {
    "id": "igSYnhZOs3y_"
   },
   "source": [
    "### Arguments and default values\n",
    "\n",
    "Arguments are specified after the function name, inside the parentheses. You can add as many arguments as you want, just separate them with a comma.\n",
    "*The terms parameter and argument can be used for the same thing: information that are passed into a function.*"
   ]
  },
  {
   "cell_type": "code",
   "execution_count": 43,
   "metadata": {
    "id": "MPe04w8JsaSZ"
   },
   "outputs": [],
   "source": [
    "#make a function with three arguments that returns the sum of the three arguments\n",
    "\n",
    "def SumFunction(val1, val2, val3):\n",
    "    return val1 + val2 + val3"
   ]
  },
  {
   "cell_type": "code",
   "execution_count": 47,
   "metadata": {
    "colab": {
     "base_uri": "https://localhost:8080/"
    },
    "executionInfo": {
     "elapsed": 262,
     "status": "ok",
     "timestamp": 1686687942960,
     "user": {
      "displayName": "Anas X384569",
      "userId": "13931278578707862625"
     },
     "user_tz": 300
    },
    "id": "TD1aMAuyo1B4",
    "outputId": "4d755506-037d-4abe-e275-d9032c1f3e34"
   },
   "outputs": [
    {
     "data": {
      "text/plain": [
       "6"
      ]
     },
     "execution_count": 47,
     "metadata": {},
     "output_type": "execute_result"
    }
   ],
   "source": [
    "#call the function\n",
    "\n",
    "answer = SumFunction(1, 2, 3)\n",
    "answer"
   ]
  },
  {
   "cell_type": "code",
   "execution_count": 49,
   "metadata": {
    "id": "gDdLhGwgbcy3"
   },
   "outputs": [],
   "source": [
    "# make a function that takes in a first and last name and returns a string of a full name\n",
    "\n",
    "def fullName(firstName, lastName):\n",
    "    return firstName + \" \" + lastName"
   ]
  },
  {
   "cell_type": "code",
   "execution_count": 51,
   "metadata": {
    "colab": {
     "base_uri": "https://localhost:8080/",
     "height": 35
    },
    "executionInfo": {
     "elapsed": 129,
     "status": "ok",
     "timestamp": 1686688018923,
     "user": {
      "displayName": "Anas X384569",
      "userId": "13931278578707862625"
     },
     "user_tz": 300
    },
    "id": "76aPjOxtbcq7",
    "outputId": "10bb7971-ef57-444d-fc14-d1aee8875168"
   },
   "outputs": [
    {
     "data": {
      "text/plain": [
       "'Nora Goldsmith'"
      ]
     },
     "execution_count": 51,
     "metadata": {},
     "output_type": "execute_result"
    }
   ],
   "source": [
    "#call the name function\n",
    "\n",
    "fullName(\"Nora\", \"Goldsmith\")"
   ]
  },
  {
   "cell_type": "code",
   "execution_count": 53,
   "metadata": {
    "executionInfo": {
     "elapsed": 8,
     "status": "ok",
     "timestamp": 1686769716654,
     "user": {
      "displayName": "Anas X384569",
      "userId": "13931278578707862625"
     },
     "user_tz": 300
    },
    "id": "MXoAxH_qbcfX"
   },
   "outputs": [],
   "source": [
    "# make a function that takes in a first and last name as well as an argument called 'occupation' \n",
    "# make the degault occupation 'student'\n",
    "# retun a string that has the names and occupation\n",
    "\n",
    "# the argument becomes optional if we define it (default)\n",
    "\n",
    "def fullNameInfo(fName, lName, occupation = \"Student\"):\n",
    "    return fName + \" \" + lName + \" is a \" + occupation"
   ]
  },
  {
   "cell_type": "code",
   "execution_count": 55,
   "metadata": {
    "colab": {
     "base_uri": "https://localhost:8080/",
     "height": 35
    },
    "executionInfo": {
     "elapsed": 10,
     "status": "ok",
     "timestamp": 1686769737947,
     "user": {
      "displayName": "Anas X384569",
      "userId": "13931278578707862625"
     },
     "user_tz": 300
    },
    "id": "FWjVRPbqcmV7",
    "outputId": "8da59875-d004-414d-e090-2f87813262bf"
   },
   "outputs": [
    {
     "data": {
      "text/plain": [
       "'Nora Goldsmith is a Student'"
      ]
     },
     "execution_count": 55,
     "metadata": {},
     "output_type": "execute_result"
    }
   ],
   "source": [
    "# call the function without the third argument\n",
    "\n",
    "fullNameInfo(\"Nora\", \"Goldsmith\")"
   ]
  },
  {
   "cell_type": "code",
   "execution_count": 59,
   "metadata": {
    "colab": {
     "base_uri": "https://localhost:8080/",
     "height": 35
    },
    "executionInfo": {
     "elapsed": 9,
     "status": "ok",
     "timestamp": 1686688116910,
     "user": {
      "displayName": "Anas X384569",
      "userId": "13931278578707862625"
     },
     "user_tz": 300
    },
    "id": "2Y-IzM3-cdrv",
    "outputId": "8a64f0e9-8ace-470f-a5bc-37466fe4f4b8"
   },
   "outputs": [
    {
     "data": {
      "text/plain": [
       "'Nora Goldsmith is a Welder'"
      ]
     },
     "execution_count": 59,
     "metadata": {},
     "output_type": "execute_result"
    }
   ],
   "source": [
    "# call the function with a new occupation\n",
    "\n",
    "fullNameInfo(\"Nora\", \"Goldsmith\", \"Welder\")"
   ]
  },
  {
   "cell_type": "markdown",
   "metadata": {
    "id": "aaUZkjVts5t-"
   },
   "source": [
    "### Scopes\n",
    "\n",
    "a funciton has its own scope. Things that are mutated within the funciton aren't necessarily changed outside of the function. This means that you can call and create a variable outside of the function and reference the a variable by the same name. However, this doesn't overwright the original variable because the second one is only referencable and called within the function"
   ]
  },
  {
   "cell_type": "code",
   "execution_count": 62,
   "metadata": {
    "colab": {
     "base_uri": "https://localhost:8080/"
    },
    "executionInfo": {
     "elapsed": 8,
     "status": "ok",
     "timestamp": 1686688401826,
     "user": {
      "displayName": "Anas X384569",
      "userId": "13931278578707862625"
     },
     "user_tz": 300
    },
    "id": "0lhqzR1Zs7b4",
    "outputId": "567a0852-09fc-48e6-82b2-32a5ed065848"
   },
   "outputs": [
    {
     "name": "stdout",
     "output_type": "stream",
     "text": [
      "Word is cool\n",
      "Word\n"
     ]
    }
   ],
   "source": [
    "# assign a variable\n",
    "\n",
    "var1 = \"Word\"\n",
    "\n",
    "# make a function that has the variable as an argument\n",
    "# have it return the mutated variable\n",
    "\n",
    "def updateVar(var1):\n",
    "    var1 = var1 + \" is cool\"\n",
    "    return var1\n",
    "\n",
    "\n",
    "#print the output of the funciton and the original variable\n",
    "\n",
    "print(updateVar(var1))\n",
    "print(var1)\n"
   ]
  },
  {
   "cell_type": "code",
   "execution_count": 68,
   "metadata": {
    "colab": {
     "base_uri": "https://localhost:8080/"
    },
    "executionInfo": {
     "elapsed": 137,
     "status": "ok",
     "timestamp": 1686688580277,
     "user": {
      "displayName": "Anas X384569",
      "userId": "13931278578707862625"
     },
     "user_tz": 300
    },
    "id": "T4WOdG3EduEi",
    "outputId": "b18e02ee-5386-438f-9bdf-226e769b9faa"
   },
   "outputs": [
    {
     "name": "stdout",
     "output_type": "stream",
     "text": [
      "10\n",
      "5\n"
     ]
    }
   ],
   "source": [
    "# make a variable\n",
    "\n",
    "a = 5\n",
    "\n",
    "# make a function that prints the variable with 5 added to it\n",
    "\n",
    "def addToVar(number):\n",
    "    print(number + 5)\n",
    "\n",
    "# call the funciton and print the original variable\n",
    "\n",
    "addToVar(a)\n",
    "print(a)"
   ]
  },
  {
   "cell_type": "markdown",
   "metadata": {
    "id": "wNbWyht2psyE"
   },
   "source": [
    "### Arbitrary Arguments, *args\n",
    "\n",
    "\n",
    "This way the function will receive a tuple of arguments, and can access the items accordingly:"
   ]
  },
  {
   "cell_type": "code",
   "execution_count": 70,
   "metadata": {
    "colab": {
     "base_uri": "https://localhost:8080/"
    },
    "executionInfo": {
     "elapsed": 7,
     "status": "ok",
     "timestamp": 1686688704230,
     "user": {
      "displayName": "Anas X384569",
      "userId": "13931278578707862625"
     },
     "user_tz": 300
    },
    "id": "Nc5tHhE3puEq",
    "outputId": "a668d87c-e1f6-4dd8-b799-1e561f80f350"
   },
   "outputs": [
    {
     "name": "stdout",
     "output_type": "stream",
     "text": [
      "(1, 2, 3, 4, 5)\n",
      "2\n"
     ]
    }
   ],
   "source": [
    "# make function that can take in as many arguments as it needs\n",
    "# print the 2nd item in the arguments\n",
    "\n",
    "def argFunction(*lyst):\n",
    "    print(lyst)\n",
    "    print(lyst[1])\n",
    "\n",
    "argFunction(1, 2, 3, 4, 5)"
   ]
  },
  {
   "cell_type": "code",
   "execution_count": 72,
   "metadata": {
    "id": "vL9YD9FXelP1"
   },
   "outputs": [
    {
     "name": "stdout",
     "output_type": "stream",
     "text": [
      "('Emile', 'Tobias', 'Linus')\n",
      "The youngest child is  Emile\n"
     ]
    }
   ],
   "source": [
    "# make function that can take in as many arguments as it needs\n",
    "# make the arguments a list of names\n",
    "# print 'The youngest child is'... and then add the first name in the list of names\n",
    "\n",
    "def myChildren(*kids):\n",
    "    print(kids)\n",
    "    print(\"The youngest child is \", kids[0])\n",
    "\n",
    "myChildren(\"Emile\", \"Tobias\", \"Linus\")"
   ]
  },
  {
   "cell_type": "markdown",
   "metadata": {
    "id": "g3Lc8OO0rDWg"
   },
   "source": [
    "### Arbitrary Keyword Arguments, **kwargs\n",
    "\n",
    "This way the function will receive a dictionary of arguments, and can access the items accordingly:\n",
    "\n"
   ]
  },
  {
   "cell_type": "code",
   "execution_count": 78,
   "metadata": {
    "colab": {
     "base_uri": "https://localhost:8080/"
    },
    "executionInfo": {
     "elapsed": 6,
     "status": "ok",
     "timestamp": 1686688772317,
     "user": {
      "displayName": "Anas X384569",
      "userId": "13931278578707862625"
     },
     "user_tz": 300
    },
    "id": "qh5bvZ8qrMlR",
    "outputId": "b05b63cf-38a2-4e2d-9025-b7d1344489da"
   },
   "outputs": [
    {
     "name": "stdout",
     "output_type": "stream",
     "text": [
      "{'fname': 'Kelly', 'lname': 'Green'}\n",
      "Her last name is  Green\n"
     ]
    }
   ],
   "source": [
    "#make a function that asks for variables to be defined within the argument of the function\n",
    "# reference 'lname' within the function\n",
    "\n",
    "def myFunction(**kid):\n",
    "    print(kid)\n",
    "    print(\"Her last name is \", kid[\"lname\"])\n",
    "\n",
    "myFunction(fname = \"Kelly\", lname = \"Green\")"
   ]
  },
  {
   "cell_type": "code",
   "execution_count": 82,
   "metadata": {
    "colab": {
     "base_uri": "https://localhost:8080/"
    },
    "executionInfo": {
     "elapsed": 294,
     "status": "ok",
     "timestamp": 1686769954836,
     "user": {
      "displayName": "Anas X384569",
      "userId": "13931278578707862625"
     },
     "user_tz": 300
    },
    "id": "c-3k8iBkp5eH",
    "outputId": "56b483fd-3cb5-42a0-c2a5-04f86f051565"
   },
   "outputs": [
    {
     "name": "stdout",
     "output_type": "stream",
     "text": [
      "I have a cat named  Ginger\n",
      "I have a dog named  Luna\n",
      "I have a fish named  Bubbles\n"
     ]
    }
   ],
   "source": [
    "#keyword arguments\n",
    "#make a function that sets the arugment variables within the function call\n",
    "#call one of the keyword arugments within the funciton\n",
    "\n",
    "def myPetsFunction(cat, dog, fish):\n",
    "    print(\"I have a cat named \", cat)\n",
    "    print(\"I have a dog named \", dog)\n",
    "    print(\"I have a fish named \", fish)\n",
    "\n",
    "myPetsFunction(cat = \"Ginger\", dog = \"Luna\", fish = \"Bubbles\")"
   ]
  },
  {
   "cell_type": "code",
   "execution_count": 86,
   "metadata": {
    "colab": {
     "base_uri": "https://localhost:8080/"
    },
    "executionInfo": {
     "elapsed": 293,
     "status": "ok",
     "timestamp": 1686770023078,
     "user": {
      "displayName": "Anas X384569",
      "userId": "13931278578707862625"
     },
     "user_tz": 300
    },
    "id": "M0scBC2oqjqx",
    "outputId": "2c16d8e3-80ef-487d-d815-6f3a2de7ebf6"
   },
   "outputs": [
    {
     "data": {
      "text/plain": [
       "95"
      ]
     },
     "execution_count": 86,
     "metadata": {},
     "output_type": "execute_result"
    }
   ],
   "source": [
    "# passing a list as an argument\n",
    "# define a funciton with a list as an argument\n",
    "# return a sum of the list\n",
    "# make the argument a list of numbers\n",
    "\n",
    "def mySumFunction(myList):\n",
    "    return sum(myList)\n",
    "\n",
    "mySumFunction([9, 10, 11, 11, 54])"
   ]
  },
  {
   "cell_type": "markdown",
   "metadata": {},
   "source": [
    "### Built in Functions\n",
    "\n",
    "These functions are built in python and are referencable without having to define them\n",
    "\n",
    "Array functions\n",
    "- type()\n",
    "- min()\n",
    "- max()\n",
    "- len()\n",
    "\n",
    "\n",
    "Type conversion functions\n",
    "- int()\n",
    "- float()\n",
    "- str()"
   ]
  },
  {
   "cell_type": "code",
   "execution_count": 88,
   "metadata": {},
   "outputs": [],
   "source": [
    "# create a string variable\n",
    "\n",
    "myString = \"hoodie\""
   ]
  },
  {
   "cell_type": "code",
   "execution_count": 90,
   "metadata": {},
   "outputs": [
    {
     "data": {
      "text/plain": [
       "str"
      ]
     },
     "execution_count": 90,
     "metadata": {},
     "output_type": "execute_result"
    }
   ],
   "source": [
    "#check the type of the variable\n",
    "\n",
    "type(myString)"
   ]
  },
  {
   "cell_type": "code",
   "execution_count": 92,
   "metadata": {},
   "outputs": [
    {
     "data": {
      "text/plain": [
       "'d'"
      ]
     },
     "execution_count": 92,
     "metadata": {},
     "output_type": "execute_result"
    }
   ],
   "source": [
    "# Find the minimum of that variable\n",
    "\n",
    "min(myString)"
   ]
  },
  {
   "cell_type": "code",
   "execution_count": 94,
   "metadata": {},
   "outputs": [
    {
     "data": {
      "text/plain": [
       "'o'"
      ]
     },
     "execution_count": 94,
     "metadata": {},
     "output_type": "execute_result"
    }
   ],
   "source": [
    "#find the maximum of that variable\n",
    "\n",
    "max(myString)"
   ]
  },
  {
   "cell_type": "code",
   "execution_count": 96,
   "metadata": {},
   "outputs": [
    {
     "data": {
      "text/plain": [
       "6"
      ]
     },
     "execution_count": 96,
     "metadata": {},
     "output_type": "execute_result"
    }
   ],
   "source": [
    "#find the length of that variable \n",
    "\n",
    "len(myString)"
   ]
  },
  {
   "cell_type": "code",
   "execution_count": 98,
   "metadata": {},
   "outputs": [],
   "source": [
    "#make a string of numbers\n",
    "\n",
    "myNums = \"123456\""
   ]
  },
  {
   "cell_type": "code",
   "execution_count": 100,
   "metadata": {},
   "outputs": [
    {
     "data": {
      "text/plain": [
       "str"
      ]
     },
     "execution_count": 100,
     "metadata": {},
     "output_type": "execute_result"
    }
   ],
   "source": [
    "#find the type of the variable\n",
    "\n",
    "type(myNums)"
   ]
  },
  {
   "cell_type": "code",
   "execution_count": 110,
   "metadata": {},
   "outputs": [
    {
     "data": {
      "text/plain": [
       "int"
      ]
     },
     "execution_count": 110,
     "metadata": {},
     "output_type": "execute_result"
    }
   ],
   "source": [
    "# reassign the variable to be an integer\n",
    "\n",
    "myNums = int(myNums)\n",
    "\n",
    "#check\n",
    "\n",
    "type(myNums)"
   ]
  },
  {
   "cell_type": "code",
   "execution_count": 112,
   "metadata": {},
   "outputs": [
    {
     "data": {
      "text/plain": [
       "int"
      ]
     },
     "execution_count": 112,
     "metadata": {},
     "output_type": "execute_result"
    }
   ],
   "source": [
    "#check the type while reassigning the variable to be a float\n",
    "\n",
    "type(float(myNums))\n",
    "\n",
    "type(myNums)"
   ]
  },
  {
   "cell_type": "markdown",
   "metadata": {},
   "source": [
    "### Random Numbers"
   ]
  },
  {
   "cell_type": "code",
   "execution_count": 114,
   "metadata": {},
   "outputs": [],
   "source": [
    "#import\n",
    "\n",
    "import random\n"
   ]
  },
  {
   "cell_type": "code",
   "execution_count": 116,
   "metadata": {},
   "outputs": [
    {
     "name": "stdout",
     "output_type": "stream",
     "text": [
      "0.46161888059594425\n",
      "0.4625172021684154\n",
      "0.06815032189723302\n",
      "0.30495813196209\n",
      "0.32126836118469027\n",
      "0.9534951177453064\n",
      "0.8386105010058545\n",
      "0.5441174123736382\n",
      "0.025096801511665268\n",
      "0.5177600566744734\n"
     ]
    }
   ],
   "source": [
    "# make a for loop of 10 iterations\n",
    "# print a random number in each iteration\n",
    "\n",
    "for num in range(10):\n",
    "    print(random.random())"
   ]
  },
  {
   "cell_type": "code",
   "execution_count": null,
   "metadata": {},
   "outputs": [],
   "source": []
  },
  {
   "cell_type": "markdown",
   "metadata": {
    "id": "LtaswzN4Kr1D"
   },
   "source": [
    "## Excrcise 1\n",
    "\n",
    "Write the grade program from the previous chapter using\n",
    "a function called computegrade that takes a score as its parameter and\n",
    "returns a grade as a string.\n",
    "\n",
    "Score Grade\n",
    "\n",
    "- />= 0.9 A\n",
    "- />= 0.8 B\n",
    "- />= 0.7 C\n",
    "- />= 0.6 D\n",
    "- /< 0.6 F\n",
    "\n",
    "Enter score: 0.95\n",
    "A"
   ]
  },
  {
   "cell_type": "code",
   "execution_count": 10,
   "metadata": {
    "executionInfo": {
     "elapsed": 366,
     "status": "ok",
     "timestamp": 1686771428410,
     "user": {
      "displayName": "Anas X384569",
      "userId": "13931278578707862625"
     },
     "user_tz": 300
    },
    "id": "JuvDMREsLFrz"
   },
   "outputs": [],
   "source": []
  },
  {
   "cell_type": "code",
   "execution_count": null,
   "metadata": {
    "colab": {
     "base_uri": "https://localhost:8080/",
     "height": 537
    },
    "executionInfo": {
     "elapsed": 53514,
     "status": "error",
     "timestamp": 1686771482259,
     "user": {
      "displayName": "Anas X384569",
      "userId": "13931278578707862625"
     },
     "user_tz": 300
    },
    "id": "LnqzEcwVLFbd",
    "outputId": "d16cb80f-c81d-481e-cc36-783e687e72ee"
   },
   "outputs": [],
   "source": []
  },
  {
   "cell_type": "markdown",
   "metadata": {
    "id": "utvHjCKcJ0A2"
   },
   "source": [
    "## Excercise 2\n",
    "\n",
    "You roll two six-sided dice, each with faces containing one, two, three, four, five and six spots, respectively. When the dice come to rest, the sum of the spots on the two upward faces is calculated. If the sum is 7 or 11 on the first roll, you win. If the sum is 2, 3 or 12 on the first roll (called “craps”), you lose (i.e., the “house” wins). If the sum is 4, 5, 6, 8, 9 or 10 on the first roll, that sum becomes your “point.” To win, you must continue rolling the dice until you “make your point” (i.e., roll that same point value). You lose by rolling a 7 before making your point."
   ]
  },
  {
   "cell_type": "code",
   "execution_count": null,
   "metadata": {
    "id": "9Ua71U4gJ-Wz"
   },
   "outputs": [],
   "source": []
  }
 ],
 "metadata": {
  "colab": {
   "authorship_tag": "ABX9TyNU/kusJu7x1B2fgRwBEIR3",
   "provenance": []
  },
  "kernelspec": {
   "display_name": "Python [conda env:base] *",
   "language": "python",
   "name": "conda-base-py"
  },
  "language_info": {
   "codemirror_mode": {
    "name": "ipython",
    "version": 3
   },
   "file_extension": ".py",
   "mimetype": "text/x-python",
   "name": "python",
   "nbconvert_exporter": "python",
   "pygments_lexer": "ipython3",
   "version": "3.12.7"
  }
 },
 "nbformat": 4,
 "nbformat_minor": 4
}
