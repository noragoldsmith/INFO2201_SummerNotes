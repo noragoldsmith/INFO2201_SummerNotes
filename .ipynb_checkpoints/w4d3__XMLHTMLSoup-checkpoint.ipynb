{
 "cells": [
  {
   "cell_type": "markdown",
   "metadata": {
    "id": "6d3zUCx3belW"
   },
   "source": [
    "# Weeek 4 Day 3: XML, HTML, and Beautiful Soup\n",
    "\n",
    "## What is a Web Scraper?\n",
    "\n",
    "Sometimes websites to not have Application Programming Interface (API) in these cases one can build a **Web Scraper**. Web scraping is the process of using bots to extract content and data from a website, specifically the underlying HTML code. \n",
    "\n",
    "With an API, you have a communication tool where you, the *User*, communicate with the *Client*, the computer that sends the request to the *Server*, the computer that responds to your request. With a Web Scraper, you inertact directly with the Server.  \n",
    "\n",
    "In order to do this there are a couple libraries that we will need. One is `requests`. This is a library that allow you to send HTTP requests to a server. We will use it to ping the server to get the html content for a specific web page. [Here is the documentation](https://pypi.org/project/requests/)"
   ]
  },
  {
   "cell_type": "code",
   "execution_count": 1,
   "metadata": {
    "executionInfo": {
     "elapsed": 15,
     "status": "ok",
     "timestamp": 1687983745648,
     "user": {
      "displayName": "Anas X384569",
      "userId": "13931278578707862625"
     },
     "user_tz": 360
    },
    "id": "0RjxWoe7bhqK"
   },
   "outputs": [],
   "source": [
    "import requests"
   ]
  },
  {
   "cell_type": "markdown",
   "metadata": {},
   "source": [
    "### XML\n",
    "\n",
    "The [Extensible Markup Language](https://www.w3.org/XML/) (XML) is a markup language for representing data structures. XML was all the rage at the turn of the century: \"many software designers can barely contain their excitement over its potential to establish a real Internet lingua franca\" (*The New York Times* in 2000: \"[The Next Big Step? It's Called XML](https://www.nytimes.com/2000/06/07/business/the-next-big-leap-it-s-called-xml.html)\"). That obviously did not come to pass. But XML remains a robust and open—though verbose—standard for representing structured data.\n",
    "\n",
    "XML has taken on something of an afterlife as the official data standard for the U.S. Congress. The [House](http://clerk.house.gov/index.aspx) and [Senate](https://www.senate.gov/general/XML.htm) both release information about members, committees, schedules, legislation, and votes in XML. These are immaculately formatted and documented and remarkably up-to-date: the data for members of the 118th Congress are already posted.\n",
    "\n",
    "[Congress MemberData XML schema](https://clerk.house.gov/member_info/MemberData_UserGuide.pdf)\n",
    "\n",
    "Use the `requests` library to make a HTTP get request to the House's webserver and get the list of current member data."
   ]
  },
  {
   "cell_type": "markdown",
   "metadata": {
    "id": "nW57z1aGD-mc"
   },
   "source": [
    "## House XML"
   ]
  },
  {
   "cell_type": "code",
   "execution_count": 2,
   "metadata": {
    "executionInfo": {
     "elapsed": 1860,
     "status": "ok",
     "timestamp": 1687983747495,
     "user": {
      "displayName": "Anas X384569",
      "userId": "13931278578707862625"
     },
     "user_tz": 360
    },
    "id": "0S1tmeW4bi9J"
   },
   "outputs": [],
   "source": [
    "# let's grab some XML\n",
    "house_raw = requests.get('http://clerk.house.gov/xml/lists/MemberData.xml').text  # this grabs the XML as plain text"
   ]
  },
  {
   "cell_type": "code",
   "execution_count": 1,
   "metadata": {
    "colab": {
     "base_uri": "https://localhost:8080/",
     "height": 192
    },
    "executionInfo": {
     "elapsed": 44,
     "status": "ok",
     "timestamp": 1687983747498,
     "user": {
      "displayName": "Anas X384569",
      "userId": "13931278578707862625"
     },
     "user_tz": 360
    },
    "id": "aEWNITzQfN5P",
    "outputId": "366722c5-3ff5-428b-c5f0-0262a68bde93"
   },
   "outputs": [],
   "source": [
    "#view it\n"
   ]
  },
  {
   "cell_type": "code",
   "execution_count": 2,
   "metadata": {
    "executionInfo": {
     "elapsed": 44,
     "status": "ok",
     "timestamp": 1687983747497,
     "user": {
      "displayName": "Anas X384569",
      "userId": "13931278578707862625"
     },
     "user_tz": 360
    },
    "id": "hTmTdkLGeOuR"
   },
   "outputs": [],
   "source": [
    "#the last 1000 lines \n"
   ]
  },
  {
   "cell_type": "code",
   "execution_count": 3,
   "metadata": {
    "colab": {
     "base_uri": "https://localhost:8080/"
    },
    "executionInfo": {
     "elapsed": 28,
     "status": "ok",
     "timestamp": 1687983747500,
     "user": {
      "displayName": "Anas X384569",
      "userId": "13931278578707862625"
     },
     "user_tz": 360
    },
    "id": "dFMoNRUyfPLG",
    "outputId": "f9f5e6b7-36c2-4e17-9df9-24f5682f0487"
   },
   "outputs": [],
   "source": [
    "#what data type is the raw one"
   ]
  },
  {
   "cell_type": "markdown",
   "metadata": {},
   "source": [
    "This data is still in a string format (`type(house_raw)`), so it's difficult to search and navigate. Let's make our first soup together using [BeautifulSoup](https://www.crummy.com/software/BeautifulSoup/bs4/doc/).\n",
    "\n",
    "\n",
    "## Beautiful Soup\n",
    "\n",
    "Beautiful Soup is a Python library for pulling data out of HTML and XML files. It works with your favorite parser to provide idiomatic ways of navigating, searching, and modifying the parse tree. It commonly saves programmers hours or days of work."
   ]
  },
  {
   "cell_type": "code",
   "execution_count": 6,
   "metadata": {},
   "outputs": [],
   "source": [
    "from bs4 import BeautifulSoup"
   ]
  },
  {
   "cell_type": "markdown",
   "metadata": {},
   "source": [
    "you may need to install an xml parser **--- if you do you may need to close your jupyternotebook after you install it and open it back up again**"
   ]
  },
  {
   "cell_type": "code",
   "execution_count": 7,
   "metadata": {
    "executionInfo": {
     "elapsed": 372,
     "status": "ok",
     "timestamp": 1687983747855,
     "user": {
      "displayName": "Anas X384569",
      "userId": "13931278578707862625"
     },
     "user_tz": 360
    },
    "id": "tvrV0td2fQ4j"
   },
   "outputs": [
    {
     "name": "stderr",
     "output_type": "stream",
     "text": [
      "/Users/hannahjones/opt/anaconda3/lib/python3.8/site-packages/bs4/builder/__init__.py:545: XMLParsedAsHTMLWarning: It looks like you're parsing an XML document using an HTML parser. If this really is an HTML document (maybe it's XHTML?), you can ignore or filter this warning. If it's XML, you should know that using an XML parser will be more reliable. To parse this document as XML, make sure you have the lxml package installed, and pass the keyword argument `features=\"xml\"` into the BeautifulSoup constructor.\n",
      "  warnings.warn(\n"
     ]
    }
   ],
   "source": [
    "# how do we make sense of all these tags? beautiful soup!\n",
    "houseSoup = BeautifulSoup(house_raw,\"lxml\") # create a BeautifulSoup object out of XML"
   ]
  },
  {
   "cell_type": "code",
   "execution_count": 12,
   "metadata": {},
   "outputs": [],
   "source": [
    "# pip install lxml"
   ]
  },
  {
   "cell_type": "code",
   "execution_count": 13,
   "metadata": {},
   "outputs": [],
   "source": [
    "# pip install lxml bs4"
   ]
  },
  {
   "cell_type": "markdown",
   "metadata": {},
   "source": [
    "What's so great about this soup-ified string? We now have a suite of new functions and methods that let us navigate the tree. First, let's inspect the different tags/elements in this tree of House member data. This is the full tree of data."
   ]
  },
  {
   "cell_type": "code",
   "execution_count": 4,
   "metadata": {
    "colab": {
     "base_uri": "https://localhost:8080/"
    },
    "executionInfo": {
     "elapsed": 28,
     "status": "ok",
     "timestamp": 1687983747857,
     "user": {
      "displayName": "Anas X384569",
      "userId": "13931278578707862625"
     },
     "user_tz": 360
    },
    "id": "A6fX-1ONfTQO",
    "outputId": "20f4518e-44ec-4140-ced1-e37829857bd9"
   },
   "outputs": [],
   "source": [
    "#what data type is the soup object?\n"
   ]
  },
  {
   "cell_type": "markdown",
   "metadata": {},
   "source": [
    "**.prettify()**\n",
    "\n",
    "allows you have a 'pretty' output of some data"
   ]
  },
  {
   "cell_type": "code",
   "execution_count": null,
   "metadata": {},
   "outputs": [],
   "source": [
    "print(houseSoup.prettify())"
   ]
  },
  {
   "cell_type": "code",
   "execution_count": 5,
   "metadata": {
    "colab": {
     "base_uri": "https://localhost:8080/"
    },
    "executionInfo": {
     "elapsed": 1972,
     "status": "ok",
     "timestamp": 1687983749811,
     "user": {
      "displayName": "Anas X384569",
      "userId": "13931278578707862625"
     },
     "user_tz": 360
    },
    "id": "U1ypmPN1fZ0H",
    "outputId": "a510de6e-07e0-40e5-9464-7fe47b07ae4b"
   },
   "outputs": [],
   "source": [
    "#print a 'prettify' verison of th members tag\n"
   ]
  },
  {
   "cell_type": "code",
   "execution_count": 6,
   "metadata": {
    "colab": {
     "base_uri": "https://localhost:8080/"
    },
    "executionInfo": {
     "elapsed": 1102,
     "status": "ok",
     "timestamp": 1687983749812,
     "user": {
      "displayName": "Anas X384569",
      "userId": "13931278578707862625"
     },
     "user_tz": 360
    },
    "id": "pTjXObbFfbUf",
    "outputId": "01ae4122-327a-4a12-bc51-306d6f81df7b"
   },
   "outputs": [],
   "source": [
    "#what is .members?"
   ]
  },
  {
   "cell_type": "code",
   "execution_count": 7,
   "metadata": {
    "colab": {
     "base_uri": "https://localhost:8080/"
    },
    "executionInfo": {
     "elapsed": 396,
     "status": "ok",
     "timestamp": 1687983749813,
     "user": {
      "displayName": "Anas X384569",
      "userId": "13931278578707862625"
     },
     "user_tz": 360
    },
    "id": "fZyH9fZafdhE",
    "outputId": "ea394305-34ab-4aab-c010-8a4c5221e119"
   },
   "outputs": [],
   "source": [
    "#get the contents of .members\n"
   ]
  },
  {
   "cell_type": "code",
   "execution_count": 8,
   "metadata": {
    "colab": {
     "base_uri": "https://localhost:8080/"
    },
    "executionInfo": {
     "elapsed": 328,
     "status": "ok",
     "timestamp": 1687983749814,
     "user": {
      "displayName": "Anas X384569",
      "userId": "13931278578707862625"
     },
     "user_tz": 360
    },
    "id": "NIu_hNqafeu4",
    "outputId": "0770c00e-064a-4281-82d1-f15cd5d2d558"
   },
   "outputs": [],
   "source": [
    "#what type is the contents\n"
   ]
  },
  {
   "cell_type": "code",
   "execution_count": 9,
   "metadata": {
    "colab": {
     "base_uri": "https://localhost:8080/"
    },
    "executionInfo": {
     "elapsed": 20,
     "status": "ok",
     "timestamp": 1687983749815,
     "user": {
      "displayName": "Anas X384569",
      "userId": "13931278578707862625"
     },
     "user_tz": 360
    },
    "id": "n6Fv0IvGfgkE",
    "outputId": "e6d810cb-ac02-4738-d303-2b022820cbd3"
   },
   "outputs": [],
   "source": [
    "#what is the first one?"
   ]
  },
  {
   "cell_type": "code",
   "execution_count": 10,
   "metadata": {
    "colab": {
     "base_uri": "https://localhost:8080/"
    },
    "executionInfo": {
     "elapsed": 14,
     "status": "ok",
     "timestamp": 1687983749815,
     "user": {
      "displayName": "Anas X384569",
      "userId": "13931278578707862625"
     },
     "user_tz": 360
    },
    "id": "vVjr89Bxfhf0",
    "outputId": "91657732-c8e1-40e5-8ce7-ee284499363f"
   },
   "outputs": [],
   "source": [
    "# how many people are in the house of representatives?\n"
   ]
  },
  {
   "cell_type": "code",
   "execution_count": 11,
   "metadata": {
    "colab": {
     "base_uri": "https://localhost:8080/"
    },
    "executionInfo": {
     "elapsed": 7179,
     "status": "ok",
     "timestamp": 1687983756984,
     "user": {
      "displayName": "Anas X384569",
      "userId": "13931278578707862625"
     },
     "user_tz": 360
    },
    "id": "pJ-idkKZfils",
    "outputId": "4f89f5db-eb15-40ac-f6fc-8c37cf56340f"
   },
   "outputs": [],
   "source": [
    "# we can get stuff out of tags using the find method\n",
    "#the state full name?\n",
    "\n"
   ]
  },
  {
   "cell_type": "code",
   "execution_count": 12,
   "metadata": {},
   "outputs": [],
   "source": [
    "#find the first member's last name (lastname.text)\n",
    "# it is under member-info\n"
   ]
  },
  {
   "cell_type": "code",
   "execution_count": 13,
   "metadata": {
    "colab": {
     "base_uri": "https://localhost:8080/"
    },
    "executionInfo": {
     "elapsed": 5009,
     "status": "ok",
     "timestamp": 1687983756989,
     "user": {
      "displayName": "Anas X384569",
      "userId": "13931278578707862625"
     },
     "user_tz": 360
    },
    "id": "ocZyl2sCfk-N",
    "outputId": "4fe14b64-3e0b-4291-d423-8d896dd85be1"
   },
   "outputs": [],
   "source": [
    "#what data type is this?\n"
   ]
  },
  {
   "cell_type": "code",
   "execution_count": 14,
   "metadata": {
    "colab": {
     "base_uri": "https://localhost:8080/",
     "height": 35
    },
    "executionInfo": {
     "elapsed": 5005,
     "status": "ok",
     "timestamp": 1687983756990,
     "user": {
      "displayName": "Anas X384569",
      "userId": "13931278578707862625"
     },
     "user_tz": 360
    },
    "id": "xL8-cxtxfmBs",
    "outputId": "37cf896d-d85f-4a4b-a397-2cbc7057a8c3"
   },
   "outputs": [],
   "source": [
    "#get the state's full name\n",
    "\n"
   ]
  },
  {
   "cell_type": "code",
   "execution_count": 15,
   "metadata": {
    "colab": {
     "base_uri": "https://localhost:8080/"
    },
    "executionInfo": {
     "elapsed": 5003,
     "status": "ok",
     "timestamp": 1687983756991,
     "user": {
      "displayName": "Anas X384569",
      "userId": "13931278578707862625"
     },
     "user_tz": 360
    },
    "id": "Rol4RvFPfnLV",
    "outputId": "fd470087-a08d-453a-8a90-f1f45aae62f6"
   },
   "outputs": [],
   "source": [
    "# let's use a set to store the unique state fullnames\n",
    "# iterate through the list; member will store each tag in the list one at a time\n",
    "\n"
   ]
  },
  {
   "cell_type": "code",
   "execution_count": 16,
   "metadata": {
    "colab": {
     "base_uri": "https://localhost:8080/"
    },
    "executionInfo": {
     "elapsed": 4998,
     "status": "ok",
     "timestamp": 1687983756992,
     "user": {
      "displayName": "Anas X384569",
      "userId": "13931278578707862625"
     },
     "user_tz": 360
    },
    "id": "W0UMNDOOfouY",
    "outputId": "e9f03e76-98b5-4a55-f27f-daecffee433b"
   },
   "outputs": [],
   "source": [
    "# how many commitees are there?\n"
   ]
  },
  {
   "cell_type": "code",
   "execution_count": 17,
   "metadata": {
    "colab": {
     "base_uri": "https://localhost:8080/"
    },
    "executionInfo": {
     "elapsed": 4991,
     "status": "ok",
     "timestamp": 1687983756993,
     "user": {
      "displayName": "Anas X384569",
      "userId": "13931278578707862625"
     },
     "user_tz": 360
    },
    "id": "pr7-T7JKfq8W",
    "outputId": "71d30dbc-0326-4d2c-9e10-f6adcb6bff21"
   },
   "outputs": [],
   "source": [
    "#what is the first commitee? \n"
   ]
  },
  {
   "cell_type": "code",
   "execution_count": 18,
   "metadata": {
    "colab": {
     "base_uri": "https://localhost:8080/",
     "height": 35
    },
    "executionInfo": {
     "elapsed": 4988,
     "status": "ok",
     "timestamp": 1687983756994,
     "user": {
      "displayName": "Anas X384569",
      "userId": "13931278578707862625"
     },
     "user_tz": 360
    },
    "id": "M_9_l8K8fruU",
    "outputId": "88007974-31a9-493a-9e41-42abba2dd275"
   },
   "outputs": [],
   "source": [
    "#get the name of the commitee\n",
    "#hint - tag name is 'committee-fullname'\n"
   ]
  },
  {
   "cell_type": "markdown",
   "metadata": {
    "id": "40cF8NpzFDg9"
   },
   "source": [
    "### Exercise 1: \n",
    "\n",
    "print out all comittee names"
   ]
  },
  {
   "cell_type": "code",
   "execution_count": null,
   "metadata": {
    "colab": {
     "base_uri": "https://localhost:8080/"
    },
    "executionInfo": {
     "elapsed": 4987,
     "status": "ok",
     "timestamp": 1687983756995,
     "user": {
      "displayName": "Anas X384569",
      "userId": "13931278578707862625"
     },
     "user_tz": 360
    },
    "id": "E2zR7BZzftPP",
    "outputId": "a07eb683-0c06-4581-9009-8217f155df93"
   },
   "outputs": [],
   "source": []
  },
  {
   "cell_type": "code",
   "execution_count": null,
   "metadata": {
    "colab": {
     "base_uri": "https://localhost:8080/"
    },
    "executionInfo": {
     "elapsed": 4970,
     "status": "ok",
     "timestamp": 1687983757002,
     "user": {
      "displayName": "Anas X384569",
      "userId": "13931278578707862625"
     },
     "user_tz": 360
    },
    "id": "SIyh9uWAf6Kk",
    "outputId": "2c67cf4f-4542-4198-be83-2dbc130765c4"
   },
   "outputs": [],
   "source": []
  },
  {
   "cell_type": "markdown",
   "metadata": {
    "id": "zwLveEbTFTaU"
   },
   "source": [
    "### Exercise 2: \n",
    "\n",
    "print out all committee names with thier subcomittees"
   ]
  },
  {
   "cell_type": "code",
   "execution_count": null,
   "metadata": {
    "colab": {
     "base_uri": "https://localhost:8080/"
    },
    "executionInfo": {
     "elapsed": 4966,
     "status": "ok",
     "timestamp": 1687983757004,
     "user": {
      "displayName": "Anas X384569",
      "userId": "13931278578707862625"
     },
     "user_tz": 360
    },
    "id": "7CdaVyiGf8va",
    "outputId": "1691e163-69da-4492-9728-897e282e9cc3"
   },
   "outputs": [],
   "source": []
  },
  {
   "cell_type": "code",
   "execution_count": null,
   "metadata": {
    "colab": {
     "base_uri": "https://localhost:8080/"
    },
    "executionInfo": {
     "elapsed": 4961,
     "status": "ok",
     "timestamp": 1687983757005,
     "user": {
      "displayName": "Anas X384569",
      "userId": "13931278578707862625"
     },
     "user_tz": 360
    },
    "id": "Qai53KOvf_AZ",
    "outputId": "1f92e446-e32d-498e-abbe-9a105a9528a5"
   },
   "outputs": [],
   "source": []
  },
  {
   "cell_type": "markdown",
   "metadata": {},
   "source": [
    "<!--  -->"
   ]
  },
  {
   "cell_type": "markdown",
   "metadata": {},
   "source": [
    "## HTML Text\n",
    "\n",
    "[HyperText Markup Language](https://www.w3schools.com/html/html_intro.asp) is the standard markup language for documents designed to be displayed in a web browser. It defines the content and structure of web content. HTML elements tell the browser how to display the content. HTML elements label pieces of content such as \"this is a heading\", \"this is a paragraph\", \"this is a link\", etc.r"
   ]
  },
  {
   "cell_type": "code",
   "execution_count": 47,
   "metadata": {
    "colab": {
     "base_uri": "https://localhost:8080/"
    },
    "executionInfo": {
     "elapsed": 4925,
     "status": "ok",
     "timestamp": 1687983757008,
     "user": {
      "displayName": "Anas X384569",
      "userId": "13931278578707862625"
     },
     "user_tz": 360
    },
    "id": "ADv6t9GXDglA",
    "outputId": "ad411e38-29c9-41b9-84d6-7ea1021c8397"
   },
   "outputs": [],
   "source": [
    "html_doc = \"\"\"<html><head><title>The Dormouse's story</title></head>\n",
    "<body>\n",
    "<p class=\"title\"><b>The Dormouse's story</b></p>\n",
    "\n",
    "<p class=\"story\">Once upon a time there were three little sisters; and their names were\n",
    "<a href=\"http://example.com/elsie\" class=\"sister\" id=\"link1\">Elsie</a>,\n",
    "<a href=\"http://example.com/lacie\" class=\"sister\" id=\"link2\">Lacie</a> and\n",
    "<a href=\"http://example.com/tillie\" class=\"sister\" id=\"link3\">Tillie</a>;\n",
    "and they lived at the bottom of a well.</p>\n",
    "\n",
    "<p class=\"story\">...</p>\n",
    "\"\"\""
   ]
  },
  {
   "cell_type": "code",
   "execution_count": 48,
   "metadata": {
    "colab": {
     "base_uri": "https://localhost:8080/",
     "height": 35
    },
    "executionInfo": {
     "elapsed": 4920,
     "status": "ok",
     "timestamp": 1687983757009,
     "user": {
      "displayName": "Anas X384569",
      "userId": "13931278578707862625"
     },
     "user_tz": 360
    },
    "id": "Jpn4xsYbDo5Y",
    "outputId": "4591bf35-19d4-4551-dfde-cccf529ae6e1"
   },
   "outputs": [
    {
     "name": "stdout",
     "output_type": "stream",
     "text": [
      "<html>\n",
      " <head>\n",
      "  <title>\n",
      "   The Dormouse's story\n",
      "  </title>\n",
      " </head>\n",
      " <body>\n",
      "  <p class=\"title\">\n",
      "   <b>\n",
      "    The Dormouse's story\n",
      "   </b>\n",
      "  </p>\n",
      "  <p class=\"story\">\n",
      "   Once upon a time there were three little sisters; and their names were\n",
      "   <a class=\"sister\" href=\"http://example.com/elsie\" id=\"link1\">\n",
      "    Elsie\n",
      "   </a>\n",
      "   ,\n",
      "   <a class=\"sister\" href=\"http://example.com/lacie\" id=\"link2\">\n",
      "    Lacie\n",
      "   </a>\n",
      "   and\n",
      "   <a class=\"sister\" href=\"http://example.com/tillie\" id=\"link3\">\n",
      "    Tillie\n",
      "   </a>\n",
      "   ;\n",
      "and they lived at the bottom of a well.\n",
      "  </p>\n",
      "  <p class=\"story\">\n",
      "   ...\n",
      "  </p>\n",
      " </body>\n",
      "</html>\n",
      "\n"
     ]
    }
   ],
   "source": [
    "soup = BeautifulSoup(html_doc, 'html.parser')\n",
    "\n",
    "print(soup.prettify())"
   ]
  },
  {
   "cell_type": "code",
   "execution_count": 19,
   "metadata": {
    "colab": {
     "base_uri": "https://localhost:8080/",
     "height": 35
    },
    "executionInfo": {
     "elapsed": 4916,
     "status": "ok",
     "timestamp": 1687983757011,
     "user": {
      "displayName": "Anas X384569",
      "userId": "13931278578707862625"
     },
     "user_tz": 360
    },
    "id": "Pl983ZjyDo2w",
    "outputId": "0226190b-c2bd-4c5f-e533-78e97700def4"
   },
   "outputs": [],
   "source": [
    "# get the title of the html doc\n",
    "\n"
   ]
  },
  {
   "cell_type": "code",
   "execution_count": 20,
   "metadata": {},
   "outputs": [],
   "source": [
    "#get the name of the title tag\n",
    "\n"
   ]
  },
  {
   "cell_type": "code",
   "execution_count": 21,
   "metadata": {},
   "outputs": [],
   "source": [
    "#have the string associated with the title\n",
    "\n"
   ]
  },
  {
   "cell_type": "code",
   "execution_count": 22,
   "metadata": {
    "colab": {
     "base_uri": "https://localhost:8080/",
     "height": 35
    },
    "executionInfo": {
     "elapsed": 4913,
     "status": "ok",
     "timestamp": 1687983757012,
     "user": {
      "displayName": "Anas X384569",
      "userId": "13931278578707862625"
     },
     "user_tz": 360
    },
    "id": "kX7e2hQvDo0S",
    "outputId": "43a6f193-272e-4cea-d05d-26ca37b02652"
   },
   "outputs": [],
   "source": [
    "#get the name of the parent classification\n",
    "\n"
   ]
  },
  {
   "cell_type": "code",
   "execution_count": 23,
   "metadata": {
    "colab": {
     "base_uri": "https://localhost:8080/"
    },
    "executionInfo": {
     "elapsed": 4911,
     "status": "ok",
     "timestamp": 1687983757013,
     "user": {
      "displayName": "Anas X384569",
      "userId": "13931278578707862625"
     },
     "user_tz": 360
    },
    "id": "IxUmfh5eDouZ",
    "outputId": "f5e8363e-52b6-4894-c3c0-d2893817d8dc"
   },
   "outputs": [],
   "source": [
    "# get the paragraph tags\n",
    "\n"
   ]
  },
  {
   "cell_type": "code",
   "execution_count": null,
   "metadata": {},
   "outputs": [],
   "source": []
  },
  {
   "cell_type": "code",
   "execution_count": 24,
   "metadata": {
    "colab": {
     "base_uri": "https://localhost:8080/"
    },
    "executionInfo": {
     "elapsed": 4899,
     "status": "ok",
     "timestamp": 1687983757014,
     "user": {
      "displayName": "Anas X384569",
      "userId": "13931278578707862625"
     },
     "user_tz": 360
    },
    "id": "TVPWJjDpDonZ",
    "outputId": "d556a3af-56c7-4111-f0dc-b0578a8d5147"
   },
   "outputs": [],
   "source": [
    "#get the 'class' within the paragraph\n",
    "\n",
    "\n"
   ]
  },
  {
   "cell_type": "code",
   "execution_count": 25,
   "metadata": {
    "colab": {
     "base_uri": "https://localhost:8080/"
    },
    "executionInfo": {
     "elapsed": 4890,
     "status": "ok",
     "timestamp": 1687983757014,
     "user": {
      "displayName": "Anas X384569",
      "userId": "13931278578707862625"
     },
     "user_tz": 360
    },
    "id": "4SnlM1UFDx-X",
    "outputId": "283dd0ed-5c1a-4255-864d-0ccf9fa9dc6a"
   },
   "outputs": [],
   "source": [
    "#get the 'a' tag\n",
    "\n"
   ]
  },
  {
   "cell_type": "code",
   "execution_count": 26,
   "metadata": {
    "colab": {
     "base_uri": "https://localhost:8080/"
    },
    "executionInfo": {
     "elapsed": 4883,
     "status": "ok",
     "timestamp": 1687983757016,
     "user": {
      "displayName": "Anas X384569",
      "userId": "13931278578707862625"
     },
     "user_tz": 360
    },
    "id": "_-7sdVtQDx7v",
    "outputId": "2aa9d539-af80-4eb3-e452-aa618cfd8a62"
   },
   "outputs": [],
   "source": [
    "#find all 'a' tags\n",
    "\n"
   ]
  },
  {
   "cell_type": "code",
   "execution_count": null,
   "metadata": {},
   "outputs": [],
   "source": []
  },
  {
   "cell_type": "code",
   "execution_count": 27,
   "metadata": {
    "colab": {
     "base_uri": "https://localhost:8080/"
    },
    "executionInfo": {
     "elapsed": 4868,
     "status": "ok",
     "timestamp": 1687983757017,
     "user": {
      "displayName": "Anas X384569",
      "userId": "13931278578707862625"
     },
     "user_tz": 360
    },
    "id": "NqAubb8BDx5G",
    "outputId": "f4a05bbf-22dd-4a23-8c8d-c2db86ad37a3"
   },
   "outputs": [],
   "source": [
    "# go through all of the 'a' tags and get the 'href' (link)\n"
   ]
  },
  {
   "cell_type": "code",
   "execution_count": 28,
   "metadata": {
    "colab": {
     "base_uri": "https://localhost:8080/"
    },
    "executionInfo": {
     "elapsed": 4849,
     "status": "ok",
     "timestamp": 1687983757018,
     "user": {
      "displayName": "Anas X384569",
      "userId": "13931278578707862625"
     },
     "user_tz": 360
    },
    "id": "vasoxOacDx2t",
    "outputId": "80f34004-ed95-47f0-b8c1-5719456c45fc"
   },
   "outputs": [],
   "source": [
    "#print the text in the soup"
   ]
  },
  {
   "cell_type": "markdown",
   "metadata": {
    "id": "cUCsUdPMEgMz"
   },
   "source": [
    "### Exercise 3: \n",
    "\n",
    "get the p tag with the class ['story']** use the documentation if you need any help :"
   ]
  },
  {
   "cell_type": "code",
   "execution_count": null,
   "metadata": {},
   "outputs": [],
   "source": []
  },
  {
   "cell_type": "code",
   "execution_count": null,
   "metadata": {
    "colab": {
     "base_uri": "https://localhost:8080/"
    },
    "executionInfo": {
     "elapsed": 13,
     "status": "ok",
     "timestamp": 1687983771769,
     "user": {
      "displayName": "Anas X384569",
      "userId": "13931278578707862625"
     },
     "user_tz": 360
    },
    "id": "kGKtXjouEi2O",
    "outputId": "d37746d1-917c-4cd5-dae0-15502d419b15"
   },
   "outputs": [],
   "source": []
  },
  {
   "cell_type": "markdown",
   "metadata": {},
   "source": [
    "<!--  -->"
   ]
  },
  {
   "cell_type": "markdown",
   "metadata": {
    "id": "q8wJFrA9gFzJ"
   },
   "source": [
    "## NY Times"
   ]
  },
  {
   "cell_type": "code",
   "execution_count": null,
   "metadata": {
    "executionInfo": {
     "elapsed": 4831,
     "status": "ok",
     "timestamp": 1687983757022,
     "user": {
      "displayName": "Anas X384569",
      "userId": "13931278578707862625"
     },
     "user_tz": 360
    },
    "id": "Mmnib36TgCoa"
   },
   "outputs": [],
   "source": [
    "#get the soup of of the nytimes\n",
    "#note: you have to use an html parser\n"
   ]
  },
  {
   "cell_type": "code",
   "execution_count": 29,
   "metadata": {
    "colab": {
     "base_uri": "https://localhost:8080/"
    },
    "executionInfo": {
     "elapsed": 4822,
     "status": "ok",
     "timestamp": 1687983757024,
     "user": {
      "displayName": "Anas X384569",
      "userId": "13931278578707862625"
     },
     "user_tz": 360
    },
    "id": "M3F-Ti-AgHue",
    "outputId": "73d01757-4c51-4309-8b07-9d2dc141db3e"
   },
   "outputs": [],
   "source": [
    "# look at the soup object\n"
   ]
  },
  {
   "cell_type": "code",
   "execution_count": 30,
   "metadata": {
    "colab": {
     "base_uri": "https://localhost:8080/",
     "output_embedded_package_id": "1F8bq3_eDZ3ZvbohPqYTKAfEWv-eypEFx"
    },
    "executionInfo": {
     "elapsed": 4370,
     "status": "ok",
     "timestamp": 1687983757026,
     "user": {
      "displayName": "Anas X384569",
      "userId": "13931278578707862625"
     },
     "user_tz": 360
    },
    "id": "DItI-7oigIjA",
    "outputId": "e43d43b9-dd51-4cba-808a-a65a2d670cad"
   },
   "outputs": [],
   "source": [
    "#find all the 'div' tags\n"
   ]
  },
  {
   "cell_type": "code",
   "execution_count": 31,
   "metadata": {
    "colab": {
     "base_uri": "https://localhost:8080/"
    },
    "executionInfo": {
     "elapsed": 1605,
     "status": "ok",
     "timestamp": 1687983757029,
     "user": {
      "displayName": "Anas X384569",
      "userId": "13931278578707862625"
     },
     "user_tz": 360
    },
    "id": "11IZdrRRgMld",
    "outputId": "7d7a4bd6-4dcb-4da6-89fe-ad181bff4636"
   },
   "outputs": [],
   "source": [
    "#find all heading 3 tags\n"
   ]
  },
  {
   "cell_type": "markdown",
   "metadata": {
    "id": "l3R1Unz_F709"
   },
   "source": [
    "### Exercise 4: \n",
    "\n",
    "Print out all the headlines"
   ]
  },
  {
   "cell_type": "code",
   "execution_count": null,
   "metadata": {
    "colab": {
     "base_uri": "https://localhost:8080/"
    },
    "executionInfo": {
     "elapsed": 100,
     "status": "ok",
     "timestamp": 1687983757031,
     "user": {
      "displayName": "Anas X384569",
      "userId": "13931278578707862625"
     },
     "user_tz": 360
    },
    "id": "hgpD3vzygQ6q",
    "outputId": "76328983-fa86-4d77-fdbc-527bf3f0d22c"
   },
   "outputs": [],
   "source": []
  },
  {
   "cell_type": "markdown",
   "metadata": {},
   "source": [
    "<!--  -->"
   ]
  },
  {
   "cell_type": "markdown",
   "metadata": {
    "id": "903Y0JGVgf-d"
   },
   "source": [
    "## Music lyrics\n",
    "\n",
    "we're using songlyrics.com"
   ]
  },
  {
   "cell_type": "code",
   "execution_count": null,
   "metadata": {
    "colab": {
     "base_uri": "https://localhost:8080/"
    },
    "executionInfo": {
     "elapsed": 1567,
     "status": "ok",
     "timestamp": 1687983758508,
     "user": {
      "displayName": "Anas X384569",
      "userId": "13931278578707862625"
     },
     "user_tz": 360
    },
    "id": "81aHi28ogXbH",
    "outputId": "ef181d71-4dbf-421b-b772-5e2ad0fcc77d"
   },
   "outputs": [],
   "source": [
    "songHTML=requests.get(\"https://www.songlyrics.com/kygo-selena-gomez/it-ain-t-me-lyrics/\").text\n",
    "\n",
    "#create a navigatable tree of objects using beautiful soup\n"
   ]
  },
  {
   "cell_type": "code",
   "execution_count": 33,
   "metadata": {
    "colab": {
     "base_uri": "https://localhost:8080/"
    },
    "executionInfo": {
     "elapsed": 346,
     "status": "ok",
     "timestamp": 1687983758517,
     "user": {
      "displayName": "Anas X384569",
      "userId": "13931278578707862625"
     },
     "user_tz": 360
    },
    "id": "IaQNXS-ngkpl",
    "outputId": "4313c7b8-24bd-412d-b23b-bda561353525"
   },
   "outputs": [],
   "source": [
    "#pretty printing\n",
    "\n"
   ]
  },
  {
   "cell_type": "code",
   "execution_count": 34,
   "metadata": {
    "colab": {
     "base_uri": "https://localhost:8080/"
    },
    "executionInfo": {
     "elapsed": 297,
     "status": "ok",
     "timestamp": 1687983758521,
     "user": {
      "displayName": "Anas X384569",
      "userId": "13931278578707862625"
     },
     "user_tz": 360
    },
    "id": "_B0PgxAFgmYx",
    "outputId": "f1acbb6f-5913-40c3-d2a3-7712146fa562"
   },
   "outputs": [],
   "source": [
    "#Find all of the tags on the lyrics page. \n"
   ]
  },
  {
   "cell_type": "code",
   "execution_count": null,
   "metadata": {},
   "outputs": [],
   "source": [
    "# Which do the tags do? What does the <br> tag do?  The <h3> tag?"
   ]
  },
  {
   "cell_type": "code",
   "execution_count": 35,
   "metadata": {
    "colab": {
     "base_uri": "https://localhost:8080/"
    },
    "executionInfo": {
     "elapsed": 191,
     "status": "ok",
     "timestamp": 1687983758524,
     "user": {
      "displayName": "Anas X384569",
      "userId": "13931278578707862625"
     },
     "user_tz": 360
    },
    "id": "7vTMp1KIgn_O",
    "outputId": "a4dd23c2-a46b-4c43-d01d-93aa1341cad2"
   },
   "outputs": [],
   "source": [
    "#Print the top level tags and the text associated with them for the <p> tags. Does this help you locate the lyrics?\n",
    "\n"
   ]
  },
  {
   "cell_type": "markdown",
   "metadata": {
    "id": "j5kPbvQUGTQT"
   },
   "source": [
    "### Exercise 5: \n",
    "\n",
    "Retrieve the tag containing the lyrics. Remove the HTML tags and print the lyrics."
   ]
  },
  {
   "cell_type": "code",
   "execution_count": null,
   "metadata": {
    "colab": {
     "base_uri": "https://localhost:8080/"
    },
    "executionInfo": {
     "elapsed": 181,
     "status": "ok",
     "timestamp": 1687983758525,
     "user": {
      "displayName": "Anas X384569",
      "userId": "13931278578707862625"
     },
     "user_tz": 360
    },
    "id": "p0YJpPFUgpeW",
    "outputId": "7d2859e8-08c6-40dd-f253-7f32bece28ff"
   },
   "outputs": [],
   "source": []
  },
  {
   "cell_type": "markdown",
   "metadata": {},
   "source": [
    "<!--  -->"
   ]
  },
  {
   "cell_type": "markdown",
   "metadata": {
    "id": "rFCCYgShgxxl"
   },
   "source": [
    "### Exercise 6 - Pedals\n",
    "\n",
    "fuzz pedals are great. let's grab some information about different fuzz pedals from a web page. - http://www.guitarsite.com/fuzz-pedals/"
   ]
  },
  {
   "cell_type": "markdown",
   "metadata": {},
   "source": [
    "#### 6a. Problem 1: More Fuzz\n",
    "\n",
    "- make a request of the fuzz-pedals \n",
    "- make it a soup object"
   ]
  },
  {
   "cell_type": "code",
   "execution_count": null,
   "metadata": {
    "executionInfo": {
     "elapsed": 145,
     "status": "ok",
     "timestamp": 1687983758528,
     "user": {
      "displayName": "Anas X384569",
      "userId": "13931278578707862625"
     },
     "user_tz": 360
    },
    "id": "-e9aPzIBgrtD"
   },
   "outputs": [],
   "source": []
  },
  {
   "cell_type": "code",
   "execution_count": null,
   "metadata": {},
   "outputs": [],
   "source": []
  },
  {
   "cell_type": "code",
   "execution_count": null,
   "metadata": {
    "colab": {
     "base_uri": "https://localhost:8080/"
    },
    "executionInfo": {
     "elapsed": 142,
     "status": "ok",
     "timestamp": 1687983758532,
     "user": {
      "displayName": "Anas X384569",
      "userId": "13931278578707862625"
     },
     "user_tz": 360
    },
    "id": "4wHI8nF1g2Rq",
    "outputId": "18c2ba13-ec1c-47c4-ac79-d7f6edb42cdc"
   },
   "outputs": [],
   "source": []
  },
  {
   "cell_type": "markdown",
   "metadata": {},
   "source": [
    "#### 6b. Get Info\n",
    "\n",
    "There's some information about fuzz pedals in one of the html tables on the page.  One line of code will retrieve all of the \"table\" tags on the page.\n",
    "\n",
    "- find the amount of tables on the page"
   ]
  },
  {
   "cell_type": "code",
   "execution_count": null,
   "metadata": {
    "colab": {
     "base_uri": "https://localhost:8080/"
    },
    "executionInfo": {
     "elapsed": 121,
     "status": "ok",
     "timestamp": 1687983758533,
     "user": {
      "displayName": "Anas X384569",
      "userId": "13931278578707862625"
     },
     "user_tz": 360
    },
    "id": "9lM0UVi4g5dO",
    "outputId": "d04e2193-36ad-45c0-e487-1befee4af849"
   },
   "outputs": [],
   "source": []
  },
  {
   "cell_type": "code",
   "execution_count": null,
   "metadata": {
    "colab": {
     "base_uri": "https://localhost:8080/"
    },
    "executionInfo": {
     "elapsed": 108,
     "status": "ok",
     "timestamp": 1687983758534,
     "user": {
      "displayName": "Anas X384569",
      "userId": "13931278578707862625"
     },
     "user_tz": 360
    },
    "id": "ZnBEQhp4g8Cb",
    "outputId": "71769572-9347-4095-b6de-6c2a90ab4c93"
   },
   "outputs": [],
   "source": []
  },
  {
   "cell_type": "markdown",
   "metadata": {},
   "source": [
    "#### 6c. Image Descriptions\n",
    "\n",
    "Find the right images and descriptions of the first pedal. \n",
    "\n",
    "hint 'alt' is for alternative descripton\n"
   ]
  },
  {
   "cell_type": "code",
   "execution_count": null,
   "metadata": {},
   "outputs": [],
   "source": []
  },
  {
   "cell_type": "code",
   "execution_count": null,
   "metadata": {},
   "outputs": [],
   "source": []
  }
 ],
 "metadata": {
  "colab": {
   "authorship_tag": "ABX9TyNdQrrVQ2aRmwT7H1Q6onGN",
   "provenance": []
  },
  "kernelspec": {
   "display_name": "base",
   "language": "python",
   "name": "python3"
  },
  "language_info": {
   "codemirror_mode": {
    "name": "ipython",
    "version": 3
   },
   "file_extension": ".py",
   "mimetype": "text/x-python",
   "name": "python",
   "nbconvert_exporter": "python",
   "pygments_lexer": "ipython3",
   "version": "3.12.4"
  }
 },
 "nbformat": 4,
 "nbformat_minor": 0
}
