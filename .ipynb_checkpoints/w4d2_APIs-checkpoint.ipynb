{
 "cells": [
  {
   "cell_type": "markdown",
   "metadata": {
    "id": "93N4lemv5o6E"
   },
   "source": [
    "# Week 4 Day 2: APIs"
   ]
  },
  {
   "cell_type": "markdown",
   "metadata": {},
   "source": [
    "## Ethical web scraping\n",
    "\n",
    "The phrase \"data scraping\" is colloquial and popular but has pejorative connotations. Data is valuable: other people invested time in collecting, organizing, and sharing it. When you show up with a scraper you built after maybe a dozen hours demanding data, you rarely pay the costs of labor, hosting, *etc*. that went into making the data available. There are *very* good rationales for making many kinds of data more availabile: reproducibility of scientific results, sharing publicly-funded and/or close-to-zero marginal cost resources, transparency and accountability in democratic institutions, remixing for innovative new analyses, *etc*. \n",
    "\n",
    "But data breaches have become eponymous (Target in 2013, Equifax in 2017, Facebook in 2018, *etc*.) because they violate other values like privacy. These manifest most clearly in principles outlined in the 1978 [Belmont Report](https://en.wikipedia.org/wiki/Belmont_Report):\n",
    "* **Respect for persons**: protecting the autonomy of all people and treating them with courtesy and respect and allowing for informed consent. Researchers must be truthful and conduct no deception;\n",
    "* **Beneficence**: The philosophy of \"Do no harm\" while maximizing benefits for the research project and minimizing risks to the research subjects; and\n",
    "* **Justice**: ensuring reasonable, non-exploitative, and well-considered procedures are administered fairly — the fair distribution of costs and benefits to potential research participants — and equally.\n",
    "\n",
    "(A fourth principle \"Respect for Public\" emphasizes compliance, accountability, and transparency in the conduct of research.)\n",
    "\n",
    "In the context of data scraping, there are four \"areas of difficulty\":\n",
    "\n",
    "* **Informed consent**: does the data scraper obtain consent from every person whose data is being retrieved?\n",
    "* **Informational risk**: can the data scraper inflict economic, social, *etc*. harm on individuals by disclosing data?\n",
    "* **Privacy**: does the data scraper know which information a person intended to be private or public? \n",
    "* **Decision-making under uncertainty**: does the data scraper know all the ways the data could be (mis)used? \n",
    "\n",
    "Ethical and legal risks involved with scraping:\n",
    "\n",
    "* **[Copyright infringement](https://en.wikipedia.org/wiki/Copyright_infringement)**: compiling data that someone else can claim ownership over\n",
    "* **[Trespass](https://en.wikipedia.org/wiki/Trespass_to_chattels#In_the_electronic_age)**: over-aggressive scraping shuts down someone else's property\n",
    "* **[Computer Fraud & Abuse Act](https://en.wikipedia.org/wiki/Computer_Fraud_and_Abuse_Act)**: misrepresenting yourself to access a system is \"hacking\"\n",
    "\n",
    "While I cannot provide legal advice, we will revisit these concerns throughout the course through best practices for avoiding infringement, staggering data collection, simulating human requests, securing data, and protecting privacy.\n",
    "\n",
    "James Densmore has a nice summary of [practices for ethical web scraping](https://towardsdatascience.com/ethics-in-web-scraping-b96b18136f01):\n",
    "\n",
    "> * If you have a public API that provides the data I’m looking for, I’ll use it and avoid scraping all together.\n",
    "> * I will always provide a User Agent string that makes my intentions clear and provides a way for you to contact me with questions or concerns.\n",
    "> * I will request data at a reasonable rate. I will strive to never be confused for a DDoS attack.\n",
    "> * I will only save the data I absolutely need from your page. If all I need it OpenGraph meta-data, that’s all I’ll keep.\n",
    "> * I will respect any content I do keep. I’ll never pass it off as my own.\n",
    "> * I will look for ways to return value to you. Maybe I can drive some (real) traffic to your site or credit you in an article or post.\n",
    "> * I will respond in a timely fashion to your outreach and work with you towards a resolution.\n",
    "> * I will scrape for the purpose of creating new value from the data, not to duplicate it.\n",
    "\n",
    "Some other important components of ethical web scraping practices [include](http://robertorocha.info/on-the-ethics-of-web-scraping/):\n",
    "\n",
    "* Reading the Terms of Service and Privacy Policies for the site's rules on scraping.\n",
    "* Inspecting the robots.txt file for rules about what pages can be scraped, indexed, *etc*.\n",
    "* Be gentle on smaller websites by running during off-peak hours and spacing out requests.\n",
    "* Identify yourself by name and email in your User-Agent strings\n",
    "\n",
    "What does a robots.txt file look like? Here is CNN's. It helpfull provides a sitemap to the robot to get other pages, it allows all kinds of User-agents, and disallows crawling of pages in specific directories (ads, polls, tests)."
   ]
  },
  {
   "cell_type": "markdown",
   "metadata": {},
   "source": [
    "![Should you build a scraper flowchart](http://www.storybench.org/wp-content/uploads/2016/04/flowchart_final.jpeg)"
   ]
  },
  {
   "cell_type": "markdown",
   "metadata": {},
   "source": [
    "<!-- "
   ]
  },
  {
   "cell_type": "markdown",
   "metadata": {
    "id": "KBdPFO6d5zkc"
   },
   "source": [
    "### What is an API?\n",
    "An API is a communication tool. You, the ***User***, communicate with the ***Client***, the computer that sends the request to the ***Server***, the computer that responds to your request. \n",
    "\n",
    "The server is where the information you’re looking for is stored, and it’s what responds to your request. Information about the server appears in the documentation. The documentation will include the endpoints where specific data can be found as well as the structure of the data on the server. \n",
    "\n",
    "How you make a request depends on the API you are using adn that is where documentation such as the Wikipedia documenation will come into play. \n",
    "\n",
    "A core thing that is prevelant through APIs is an ***Endpoint***, or a specific route or URL where an API can be accessed. Each endpoint corresponds to a particular function or data point that the API exposes for use. \n",
    "\n",
    "When interacting with an API, a **client** (the person or software using the API) will send **requests** to the **endpoint**. These requests tell the API what action to perform, and they often contain additional data or parameters to guide that action. Following a request, the API provides a **response**. This contains the data requested, or an error message detailing why the request couldn’t be completed.\n",
    "\n"
   ]
  },
  {
   "cell_type": "markdown",
   "metadata": {},
   "source": [
    "<!-- JSON files are similar to dictionaries but they don't import as so-->"
   ]
  },
  {
   "cell_type": "markdown",
   "metadata": {},
   "source": [
    "### import requests\n",
    "One of the things that we need in order to access this API is `requests`. This is library that makes a HTTP request and gets backend information from a website, such as RSS feed. \n",
    "\n",
    "documentation - https://requests.readthedocs.io/en/latest/\n",
    "\n",
    "- requests.get()\n",
    "\n",
    "requests.get(url, params={key: value}, args) -- sends a GET request to the specified url\n",
    "\n",
    "\n",
    "- requests.get().json\n",
    "\n",
    "Making a request with Requests is very simple. Begin by importing the Requests ... There's also a builtin JSON decoder. "
   ]
  },
  {
   "cell_type": "code",
   "execution_count": 2,
   "metadata": {
    "id": "VkTrNKJq_nLF"
   },
   "outputs": [],
   "source": [
    "import requests"
   ]
  },
  {
   "cell_type": "markdown",
   "metadata": {},
   "source": [
    "<!--  -->"
   ]
  },
  {
   "cell_type": "markdown",
   "metadata": {},
   "source": [
    "## PokeApi\n",
    "### We're going to try with the PokeApi - https://pokeapi.co\n",
    "\n",
    "This is an API where we cna get a bunch of information on the pokemon in question. \n",
    "\n",
    "--- try it on the UI\n",
    "\n",
    "--- here are the pokemon options: https://pokeapi.co/api/v2/pokemon\n",
    "\n",
    "the website you need to ping is: \n",
    "\n",
    "    \"https://pokeapi.co/api/v2/pokemon/\"+pokemonName\n"
   ]
  },
  {
   "cell_type": "code",
   "execution_count": 2,
   "metadata": {
    "id": "ojVNA6UcGx35"
   },
   "outputs": [],
   "source": [
    "pokemonName = 'charmander'\n",
    "\n",
    "pokemonSearch = requests.get(\"https://pokeapi.co/api/v2/pokemon/\"+pokemonName).json()"
   ]
  },
  {
   "cell_type": "code",
   "execution_count": 5,
   "metadata": {},
   "outputs": [],
   "source": [
    "#import pprint so we can see it\n",
    "import pprint"
   ]
  },
  {
   "cell_type": "code",
   "execution_count": null,
   "metadata": {},
   "outputs": [],
   "source": [
    "#write your own"
   ]
  },
  {
   "cell_type": "code",
   "execution_count": 1,
   "metadata": {
    "colab": {
     "base_uri": "https://localhost:8080/"
    },
    "executionInfo": {
     "elapsed": 6784,
     "status": "ok",
     "timestamp": 1687370272085,
     "user": {
      "displayName": "Anas X384569",
      "userId": "13931278578707862625"
     },
     "user_tz": 360
    },
    "id": "Qfdty3AtFoRt",
    "outputId": "f8b8e404-493a-4fe9-9cca-e8d179102230"
   },
   "outputs": [],
   "source": [
    "# pretty print \n",
    "\n"
   ]
  },
  {
   "cell_type": "code",
   "execution_count": 1,
   "metadata": {
    "colab": {
     "base_uri": "https://localhost:8080/"
    },
    "executionInfo": {
     "elapsed": 105,
     "status": "ok",
     "timestamp": 1687370326247,
     "user": {
      "displayName": "Anas X384569",
      "userId": "13931278578707862625"
     },
     "user_tz": 360
    },
    "id": "TVLysR4DGvIg",
    "outputId": "f4667c2e-5c34-45bf-f518-4d9af49abc51"
   },
   "outputs": [],
   "source": [
    "#get the keys of the dictionary\n"
   ]
  },
  {
   "cell_type": "markdown",
   "metadata": {},
   "source": [
    "<!--  -->"
   ]
  },
  {
   "cell_type": "markdown",
   "metadata": {
    "id": "oIRmV9hPHMx4"
   },
   "source": [
    "## Excercise 1: \n",
    "\n",
    "Write code to find the Pokemon's abilities, store them as a list, and then print them out. (try a different pokemon)\n",
    "\n",
    "Hint: A Pokeman can have multiple abilities, so you'll need to iterate over them."
   ]
  },
  {
   "cell_type": "code",
   "execution_count": null,
   "metadata": {
    "colab": {
     "base_uri": "https://localhost:8080/"
    },
    "executionInfo": {
     "elapsed": 107,
     "status": "ok",
     "timestamp": 1687370482584,
     "user": {
      "displayName": "Anas X384569",
      "userId": "13931278578707862625"
     },
     "user_tz": 360
    },
    "id": "pGbY66dgG9-j",
    "outputId": "ba46ec03-35d6-4772-f7d2-58273bf32f89"
   },
   "outputs": [],
   "source": []
  },
  {
   "cell_type": "markdown",
   "metadata": {},
   "source": [
    "<!--  -->"
   ]
  },
  {
   "cell_type": "markdown",
   "metadata": {},
   "source": [
    "## TVMaze\n",
    "\n",
    "https://www.tvmaze.com/api#show-search\n",
    "\n",
    "noteL futurama is show 538 "
   ]
  },
  {
   "cell_type": "code",
   "execution_count": 10,
   "metadata": {},
   "outputs": [
    {
     "data": {
      "text/plain": [
       "<Response [200]>"
      ]
     },
     "execution_count": 10,
     "metadata": {},
     "output_type": "execute_result"
    }
   ],
   "source": [
    "#make a querey for the show 'girls'\n",
    "\n",
    "requests.get('https://api.tvmaze.com/search/shows?q=girls')"
   ]
  },
  {
   "cell_type": "code",
   "execution_count": 2,
   "metadata": {},
   "outputs": [],
   "source": [
    "#make a querey for the show  'girls'\n"
   ]
  },
  {
   "cell_type": "code",
   "execution_count": 3,
   "metadata": {
    "colab": {
     "base_uri": "https://localhost:8080/"
    },
    "executionInfo": {
     "elapsed": 300,
     "status": "ok",
     "timestamp": 1687370580030,
     "user": {
      "displayName": "Anas X384569",
      "userId": "13931278578707862625"
     },
     "user_tz": 360
    },
    "id": "H1_3nuI1H4j-",
    "outputId": "70b6233d-5fb5-4b81-a686-ac9e3ff3c5d3"
   },
   "outputs": [],
   "source": [
    "#get futurama through show number\n"
   ]
  },
  {
   "cell_type": "code",
   "execution_count": null,
   "metadata": {
    "id": "U5csYUJ2HhlA"
   },
   "outputs": [],
   "source": []
  },
  {
   "cell_type": "markdown",
   "metadata": {},
   "source": [
    "<!--  -->"
   ]
  },
  {
   "attachments": {
    "how-to-use-an-api-just-the-basics-4.png": {
     "image/png": "[encoded data removed]"
    }
   },
   "cell_type": "markdown",
   "metadata": {
    "id": "fN2GHYPNHh9I"
   },
   "source": [
    "### APIs with keys\n",
    "\n",
    "An application programming interface (API) key is a code used to identify and authenticate an application or user. API keys are available through platforms, such as a white-labeled internal marketplace. They also act as a unique identifier and provide a secret token for authentication purposes.\n",
    "\n",
    "#### What is an API querey?\n",
    "Parameters are the variables passed to an API endpoint to provide explicit instructions for the API server to process. The parameters can be included as part of the API request in the URL query string or in the request body field\n",
    "\n",
    "![how-to-use-an-api-just-the-basics-4.png](attachment:how-to-use-an-api-just-the-basics-4.png)\n"
   ]
  },
  {
   "cell_type": "markdown",
   "metadata": {},
   "source": [
    "<!--  -->"
   ]
  },
  {
   "cell_type": "markdown",
   "metadata": {},
   "source": [
    "## Last.fm Music Discovery API\n",
    "\n",
    "The Last.fm API allows anyone to build their own programs using Last.fm data\n",
    "\n",
    "- https://www.last.fm/api\n"
   ]
  },
  {
   "cell_type": "code",
   "execution_count": 13,
   "metadata": {
    "id": "M428sD7qHpZF"
   },
   "outputs": [],
   "source": [
    "#this is a key\n",
    "aKey = \"815f527f75d594aa272fc6c9205136b2\"\n",
    "\n",
    "#the api root information is found here - https://www.last.fm/api/intro\n",
    "rootURL = \"http://ws.audioscrobbler.com/2.0/\"\n",
    "\n",
    "#write a querey\n",
    "artistSearchQuery = requests.get(rootURL+\"?method=artist.search&artist=eminem&api_key=\"+\n",
    "                          aKey+\"&format=json\").json()"
   ]
  },
  {
   "cell_type": "code",
   "execution_count": 14,
   "metadata": {
    "colab": {
     "base_uri": "https://localhost:8080/"
    },
    "executionInfo": {
     "elapsed": 15,
     "status": "ok",
     "timestamp": 1687371355846,
     "user": {
      "displayName": "Anas X384569",
      "userId": "13931278578707862625"
     },
     "user_tz": 360
    },
    "id": "a8RsQAmnIenE",
    "outputId": "a39f9d9c-e545-4f01-8aad-3c7f51bcc0c2"
   },
   "outputs": [
    {
     "data": {
      "text/plain": [
       "{'results': {'opensearch:Query': {'#text': '',\n",
       "   'role': 'request',\n",
       "   'searchTerms': 'eminem',\n",
       "   'startPage': '1'},\n",
       "  'opensearch:totalResults': '112739',\n",
       "  'opensearch:startIndex': '0',\n",
       "  'opensearch:itemsPerPage': '30',\n",
       "  'artistmatches': {'artist': [{'name': 'Eminem',\n",
       "     'listeners': '6534043',\n",
       "     'mbid': 'b95ce3ff-3d05-4e87-9e01-c97b66af13d4',\n",
       "     'url': 'https://www.last.fm/music/Eminem',\n",
       "     'streamable': '0',\n",
       "     'image': [{'#text': 'https://lastfm.freetls.fastly.net/i/u/34s/2a96cbd8b46e442fc41c2b86b821562f.png',\n",
       "       'size': 'small'},\n",
       "      {'#text': 'https://lastfm.freetls.fastly.net/i/u/64s/2a96cbd8b46e442fc41c2b86b821562f.png',\n",
       "       'size': 'medium'},\n",
       "      {'#text': 'https://lastfm.freetls.fastly.net/i/u/174s/2a96cbd8b46e442fc41c2b86b821562f.png',\n",
       "       'size': 'large'},\n",
       "      {'#text': 'https://lastfm.freetls.fastly.net/i/u/300x300/2a96cbd8b46e442fc41c2b86b821562f.png',\n",
       "       'size': 'extralarge'},\n",
       "      {'#text': 'https://lastfm.freetls.fastly.net/i/u/300x300/2a96cbd8b46e442fc41c2b86b821562f.png',\n",
       "       'size': 'mega'}]},\n",
       "    {'name': 'Eminem, Rihanna',\n",
       "     'listeners': '15368',\n",
       "     'mbid': '',\n",
       "     'url': 'https://www.last.fm/music/Eminem,+Rihanna',\n",
       "     'streamable': '0',\n",
       "     'image': [{'#text': '', 'size': 'small'},\n",
       "      {'#text': '', 'size': 'medium'},\n",
       "      {'#text': '', 'size': 'large'},\n",
       "      {'#text': '', 'size': 'extralarge'},\n",
       "      {'#text': '', 'size': 'mega'}]},\n",
       "    {'name': 'Eminem, Juice WRLD',\n",
       "     'listeners': '14779',\n",
       "     'mbid': '',\n",
       "     'url': 'https://www.last.fm/music/Eminem,+Juice+WRLD',\n",
       "     'streamable': '0',\n",
       "     'image': [{'#text': 'https://lastfm.freetls.fastly.net/i/u/34s/2a96cbd8b46e442fc41c2b86b821562f.png',\n",
       "       'size': 'small'},\n",
       "      {'#text': 'https://lastfm.freetls.fastly.net/i/u/64s/2a96cbd8b46e442fc41c2b86b821562f.png',\n",
       "       'size': 'medium'},\n",
       "      {'#text': 'https://lastfm.freetls.fastly.net/i/u/174s/2a96cbd8b46e442fc41c2b86b821562f.png',\n",
       "       'size': 'large'},\n",
       "      {'#text': 'https://lastfm.freetls.fastly.net/i/u/300x300/2a96cbd8b46e442fc41c2b86b821562f.png',\n",
       "       'size': 'extralarge'},\n",
       "      {'#text': 'https://lastfm.freetls.fastly.net/i/u/300x300/2a96cbd8b46e442fc41c2b86b821562f.png',\n",
       "       'size': 'mega'}]},\n",
       "    {'name': 'Eminem & Linkin Park',\n",
       "     'listeners': '9706',\n",
       "     'mbid': 'b95ce3ff-3d05-4e87-9e01-c97b66af13d4',\n",
       "     'url': 'https://www.last.fm/music/Eminem+&+Linkin+Park',\n",
       "     'streamable': '0',\n",
       "     'image': [{'#text': 'https://lastfm.freetls.fastly.net/i/u/34s/2a96cbd8b46e442fc41c2b86b821562f.png',\n",
       "       'size': 'small'},\n",
       "      {'#text': 'https://lastfm.freetls.fastly.net/i/u/64s/2a96cbd8b46e442fc41c2b86b821562f.png',\n",
       "       'size': 'medium'},\n",
       "      {'#text': 'https://lastfm.freetls.fastly.net/i/u/174s/2a96cbd8b46e442fc41c2b86b821562f.png',\n",
       "       'size': 'large'},\n",
       "      {'#text': 'https://lastfm.freetls.fastly.net/i/u/300x300/2a96cbd8b46e442fc41c2b86b821562f.png',\n",
       "       'size': 'extralarge'},\n",
       "      {'#text': 'https://lastfm.freetls.fastly.net/i/u/300x300/2a96cbd8b46e442fc41c2b86b821562f.png',\n",
       "       'size': 'mega'}]},\n",
       "    {'name': 'EminemMusic',\n",
       "     'listeners': '10605',\n",
       "     'mbid': '',\n",
       "     'url': 'https://www.last.fm/music/EminemMusic',\n",
       "     'streamable': '0',\n",
       "     'image': [{'#text': 'https://lastfm.freetls.fastly.net/i/u/34s/2a96cbd8b46e442fc41c2b86b821562f.png',\n",
       "       'size': 'small'},\n",
       "      {'#text': 'https://lastfm.freetls.fastly.net/i/u/64s/2a96cbd8b46e442fc41c2b86b821562f.png',\n",
       "       'size': 'medium'},\n",
       "      {'#text': 'https://lastfm.freetls.fastly.net/i/u/174s/2a96cbd8b46e442fc41c2b86b821562f.png',\n",
       "       'size': 'large'},\n",
       "      {'#text': 'https://lastfm.freetls.fastly.net/i/u/300x300/2a96cbd8b46e442fc41c2b86b821562f.png',\n",
       "       'size': 'extralarge'},\n",
       "      {'#text': 'https://lastfm.freetls.fastly.net/i/u/300x300/2a96cbd8b46e442fc41c2b86b821562f.png',\n",
       "       'size': 'mega'}]},\n",
       "    {'name': 'Eminem, Nate Dogg',\n",
       "     'listeners': '11657',\n",
       "     'mbid': '',\n",
       "     'url': 'https://www.last.fm/music/Eminem,+Nate+Dogg',\n",
       "     'streamable': '0',\n",
       "     'image': [{'#text': '', 'size': 'small'},\n",
       "      {'#text': '', 'size': 'medium'},\n",
       "      {'#text': '', 'size': 'large'},\n",
       "      {'#text': '', 'size': 'extralarge'},\n",
       "      {'#text': '', 'size': 'mega'}]},\n",
       "    {'name': 'Eminem, Dido',\n",
       "     'listeners': '13096',\n",
       "     'mbid': '',\n",
       "     'url': 'https://www.last.fm/music/Eminem,+Dido',\n",
       "     'streamable': '0',\n",
       "     'image': [{'#text': '', 'size': 'small'},\n",
       "      {'#text': '', 'size': 'medium'},\n",
       "      {'#text': '', 'size': 'large'},\n",
       "      {'#text': '', 'size': 'extralarge'},\n",
       "      {'#text': '', 'size': 'mega'}]},\n",
       "    {'name': 'Eminem, Dina Rae',\n",
       "     'listeners': '10913',\n",
       "     'mbid': '',\n",
       "     'url': 'https://www.last.fm/music/Eminem,+Dina+Rae',\n",
       "     'streamable': '0',\n",
       "     'image': [{'#text': '', 'size': 'small'},\n",
       "      {'#text': '', 'size': 'medium'},\n",
       "      {'#text': '', 'size': 'large'},\n",
       "      {'#text': '', 'size': 'extralarge'},\n",
       "      {'#text': '', 'size': 'mega'}]},\n",
       "    {'name': 'Akon, eminem',\n",
       "     'listeners': '11698',\n",
       "     'mbid': '',\n",
       "     'url': 'https://www.last.fm/music/Akon,+eminem',\n",
       "     'streamable': '0',\n",
       "     'image': [{'#text': 'https://lastfm.freetls.fastly.net/i/u/34s/2a96cbd8b46e442fc41c2b86b821562f.png',\n",
       "       'size': 'small'},\n",
       "      {'#text': 'https://lastfm.freetls.fastly.net/i/u/64s/2a96cbd8b46e442fc41c2b86b821562f.png',\n",
       "       'size': 'medium'},\n",
       "      {'#text': 'https://lastfm.freetls.fastly.net/i/u/174s/2a96cbd8b46e442fc41c2b86b821562f.png',\n",
       "       'size': 'large'},\n",
       "      {'#text': 'https://lastfm.freetls.fastly.net/i/u/300x300/2a96cbd8b46e442fc41c2b86b821562f.png',\n",
       "       'size': 'extralarge'},\n",
       "      {'#text': 'https://lastfm.freetls.fastly.net/i/u/300x300/2a96cbd8b46e442fc41c2b86b821562f.png',\n",
       "       'size': 'mega'}]},\n",
       "    {'name': 'Eminem, Royce da 5\\'9\"',\n",
       "     'listeners': '5941',\n",
       "     'mbid': '',\n",
       "     'url': 'https://www.last.fm/music/Eminem,+Royce+da+5%279%22',\n",
       "     'streamable': '0',\n",
       "     'image': [{'#text': '', 'size': 'small'},\n",
       "      {'#text': '', 'size': 'medium'},\n",
       "      {'#text': '', 'size': 'large'},\n",
       "      {'#text': '', 'size': 'extralarge'},\n",
       "      {'#text': '', 'size': 'mega'}]},\n",
       "    {'name': 'Eminem, Joyner Lucas',\n",
       "     'listeners': '6899',\n",
       "     'mbid': '',\n",
       "     'url': 'https://www.last.fm/music/Eminem,+Joyner+Lucas',\n",
       "     'streamable': '0',\n",
       "     'image': [{'#text': 'https://lastfm.freetls.fastly.net/i/u/34s/2a96cbd8b46e442fc41c2b86b821562f.png',\n",
       "       'size': 'small'},\n",
       "      {'#text': 'https://lastfm.freetls.fastly.net/i/u/64s/2a96cbd8b46e442fc41c2b86b821562f.png',\n",
       "       'size': 'medium'},\n",
       "      {'#text': 'https://lastfm.freetls.fastly.net/i/u/174s/2a96cbd8b46e442fc41c2b86b821562f.png',\n",
       "       'size': 'large'},\n",
       "      {'#text': 'https://lastfm.freetls.fastly.net/i/u/300x300/2a96cbd8b46e442fc41c2b86b821562f.png',\n",
       "       'size': 'extralarge'},\n",
       "      {'#text': 'https://lastfm.freetls.fastly.net/i/u/300x300/2a96cbd8b46e442fc41c2b86b821562f.png',\n",
       "       'size': 'mega'}]},\n",
       "    {'name': 'Eminem & Lil Wayne',\n",
       "     'listeners': '6985',\n",
       "     'mbid': 'b95ce3ff-3d05-4e87-9e01-c97b66af13d4',\n",
       "     'url': 'https://www.last.fm/music/Eminem+&+Lil+Wayne',\n",
       "     'streamable': '0',\n",
       "     'image': [{'#text': 'https://lastfm.freetls.fastly.net/i/u/34s/2a96cbd8b46e442fc41c2b86b821562f.png',\n",
       "       'size': 'small'},\n",
       "      {'#text': 'https://lastfm.freetls.fastly.net/i/u/64s/2a96cbd8b46e442fc41c2b86b821562f.png',\n",
       "       'size': 'medium'},\n",
       "      {'#text': 'https://lastfm.freetls.fastly.net/i/u/174s/2a96cbd8b46e442fc41c2b86b821562f.png',\n",
       "       'size': 'large'},\n",
       "      {'#text': 'https://lastfm.freetls.fastly.net/i/u/300x300/2a96cbd8b46e442fc41c2b86b821562f.png',\n",
       "       'size': 'extralarge'},\n",
       "      {'#text': 'https://lastfm.freetls.fastly.net/i/u/300x300/2a96cbd8b46e442fc41c2b86b821562f.png',\n",
       "       'size': 'mega'}]},\n",
       "    {'name': 'Eminem, Dr. Dre',\n",
       "     'listeners': '6508',\n",
       "     'mbid': '',\n",
       "     'url': 'https://www.last.fm/music/Eminem,+Dr.+Dre',\n",
       "     'streamable': '0',\n",
       "     'image': [{'#text': '', 'size': 'small'},\n",
       "      {'#text': '', 'size': 'medium'},\n",
       "      {'#text': '', 'size': 'large'},\n",
       "      {'#text': '', 'size': 'extralarge'},\n",
       "      {'#text': '', 'size': 'mega'}]},\n",
       "    {'name': 'Eminem & Elton John',\n",
       "     'listeners': '8313',\n",
       "     'mbid': 'b95ce3ff-3d05-4e87-9e01-c97b66af13d4',\n",
       "     'url': 'https://www.last.fm/music/Eminem+&+Elton+John',\n",
       "     'streamable': '0',\n",
       "     'image': [{'#text': 'https://lastfm.freetls.fastly.net/i/u/34s/2a96cbd8b46e442fc41c2b86b821562f.png',\n",
       "       'size': 'small'},\n",
       "      {'#text': 'https://lastfm.freetls.fastly.net/i/u/64s/2a96cbd8b46e442fc41c2b86b821562f.png',\n",
       "       'size': 'medium'},\n",
       "      {'#text': 'https://lastfm.freetls.fastly.net/i/u/174s/2a96cbd8b46e442fc41c2b86b821562f.png',\n",
       "       'size': 'large'},\n",
       "      {'#text': 'https://lastfm.freetls.fastly.net/i/u/300x300/2a96cbd8b46e442fc41c2b86b821562f.png',\n",
       "       'size': 'extralarge'},\n",
       "      {'#text': 'https://lastfm.freetls.fastly.net/i/u/300x300/2a96cbd8b46e442fc41c2b86b821562f.png',\n",
       "       'size': 'mega'}]},\n",
       "    {'name': 'Eminem, Ed Sheeran',\n",
       "     'listeners': '7129',\n",
       "     'mbid': '',\n",
       "     'url': 'https://www.last.fm/music/Eminem,+Ed+Sheeran',\n",
       "     'streamable': '0',\n",
       "     'image': [{'#text': '', 'size': 'small'},\n",
       "      {'#text': '', 'size': 'medium'},\n",
       "      {'#text': '', 'size': 'large'},\n",
       "      {'#text': '', 'size': 'extralarge'},\n",
       "      {'#text': '', 'size': 'mega'}]},\n",
       "    {'name': 'Eminem & Nate Dogg',\n",
       "     'listeners': '8803',\n",
       "     'mbid': 'b95ce3ff-3d05-4e87-9e01-c97b66af13d4',\n",
       "     'url': 'https://www.last.fm/music/Eminem+&+Nate+Dogg',\n",
       "     'streamable': '0',\n",
       "     'image': [{'#text': 'https://lastfm.freetls.fastly.net/i/u/34s/2a96cbd8b46e442fc41c2b86b821562f.png',\n",
       "       'size': 'small'},\n",
       "      {'#text': 'https://lastfm.freetls.fastly.net/i/u/64s/2a96cbd8b46e442fc41c2b86b821562f.png',\n",
       "       'size': 'medium'},\n",
       "      {'#text': 'https://lastfm.freetls.fastly.net/i/u/174s/2a96cbd8b46e442fc41c2b86b821562f.png',\n",
       "       'size': 'large'},\n",
       "      {'#text': 'https://lastfm.freetls.fastly.net/i/u/300x300/2a96cbd8b46e442fc41c2b86b821562f.png',\n",
       "       'size': 'extralarge'},\n",
       "      {'#text': 'https://lastfm.freetls.fastly.net/i/u/300x300/2a96cbd8b46e442fc41c2b86b821562f.png',\n",
       "       'size': 'mega'}]},\n",
       "    {'name': 'Dr. Dre, Eminem',\n",
       "     'listeners': '9542',\n",
       "     'mbid': '',\n",
       "     'url': 'https://www.last.fm/music/Dr.+Dre,+Eminem',\n",
       "     'streamable': '0',\n",
       "     'image': [{'#text': '', 'size': 'small'},\n",
       "      {'#text': '', 'size': 'medium'},\n",
       "      {'#text': '', 'size': 'large'},\n",
       "      {'#text': '', 'size': 'extralarge'},\n",
       "      {'#text': '', 'size': 'mega'}]},\n",
       "    {'name': 'Eminem, Skylar Grey',\n",
       "     'listeners': '5575',\n",
       "     'mbid': '',\n",
       "     'url': 'https://www.last.fm/music/Eminem,+Skylar+Grey',\n",
       "     'streamable': '0',\n",
       "     'image': [{'#text': 'https://lastfm.freetls.fastly.net/i/u/34s/2a96cbd8b46e442fc41c2b86b821562f.png',\n",
       "       'size': 'small'},\n",
       "      {'#text': 'https://lastfm.freetls.fastly.net/i/u/64s/2a96cbd8b46e442fc41c2b86b821562f.png',\n",
       "       'size': 'medium'},\n",
       "      {'#text': 'https://lastfm.freetls.fastly.net/i/u/174s/2a96cbd8b46e442fc41c2b86b821562f.png',\n",
       "       'size': 'large'},\n",
       "      {'#text': 'https://lastfm.freetls.fastly.net/i/u/300x300/2a96cbd8b46e442fc41c2b86b821562f.png',\n",
       "       'size': 'extralarge'},\n",
       "      {'#text': 'https://lastfm.freetls.fastly.net/i/u/300x300/2a96cbd8b46e442fc41c2b86b821562f.png',\n",
       "       'size': 'mega'}]},\n",
       "    {'name': 'Eminem, D12',\n",
       "     'listeners': '3781',\n",
       "     'mbid': '',\n",
       "     'url': 'https://www.last.fm/music/Eminem,+D12',\n",
       "     'streamable': '0',\n",
       "     'image': [{'#text': '', 'size': 'small'},\n",
       "      {'#text': '', 'size': 'medium'},\n",
       "      {'#text': '', 'size': 'large'},\n",
       "      {'#text': '', 'size': 'extralarge'},\n",
       "      {'#text': '', 'size': 'mega'}]},\n",
       "    {'name': 'Eminem feat. Juice WRLD',\n",
       "     'listeners': '4276',\n",
       "     'mbid': '',\n",
       "     'url': 'https://www.last.fm/music/Eminem+feat.+Juice+WRLD',\n",
       "     'streamable': '0',\n",
       "     'image': [{'#text': '', 'size': 'small'},\n",
       "      {'#text': '', 'size': 'medium'},\n",
       "      {'#text': '', 'size': 'large'},\n",
       "      {'#text': '', 'size': 'extralarge'},\n",
       "      {'#text': '', 'size': 'mega'}]},\n",
       "    {'name': 'Eminem Feat. Jessie Reyez',\n",
       "     'listeners': '1229',\n",
       "     'mbid': '',\n",
       "     'url': 'https://www.last.fm/music/Eminem+Feat.+Jessie+Reyez',\n",
       "     'streamable': '0',\n",
       "     'image': [{'#text': 'https://lastfm.freetls.fastly.net/i/u/34s/2a96cbd8b46e442fc41c2b86b821562f.png',\n",
       "       'size': 'small'},\n",
       "      {'#text': 'https://lastfm.freetls.fastly.net/i/u/64s/2a96cbd8b46e442fc41c2b86b821562f.png',\n",
       "       'size': 'medium'},\n",
       "      {'#text': 'https://lastfm.freetls.fastly.net/i/u/174s/2a96cbd8b46e442fc41c2b86b821562f.png',\n",
       "       'size': 'large'},\n",
       "      {'#text': 'https://lastfm.freetls.fastly.net/i/u/300x300/2a96cbd8b46e442fc41c2b86b821562f.png',\n",
       "       'size': 'extralarge'},\n",
       "      {'#text': 'https://lastfm.freetls.fastly.net/i/u/300x300/2a96cbd8b46e442fc41c2b86b821562f.png',\n",
       "       'size': 'mega'}]},\n",
       "    {'name': 'Eminem feat. Ed Sheeran',\n",
       "     'listeners': '5365',\n",
       "     'mbid': '',\n",
       "     'url': 'https://www.last.fm/music/Eminem+feat.+Ed+Sheeran',\n",
       "     'streamable': '0',\n",
       "     'image': [{'#text': 'https://lastfm.freetls.fastly.net/i/u/34s/2a96cbd8b46e442fc41c2b86b821562f.png',\n",
       "       'size': 'small'},\n",
       "      {'#text': 'https://lastfm.freetls.fastly.net/i/u/64s/2a96cbd8b46e442fc41c2b86b821562f.png',\n",
       "       'size': 'medium'},\n",
       "      {'#text': 'https://lastfm.freetls.fastly.net/i/u/174s/2a96cbd8b46e442fc41c2b86b821562f.png',\n",
       "       'size': 'large'},\n",
       "      {'#text': 'https://lastfm.freetls.fastly.net/i/u/300x300/2a96cbd8b46e442fc41c2b86b821562f.png',\n",
       "       'size': 'extralarge'},\n",
       "      {'#text': 'https://lastfm.freetls.fastly.net/i/u/300x300/2a96cbd8b46e442fc41c2b86b821562f.png',\n",
       "       'size': 'mega'}]},\n",
       "    {'name': 'Eminem/Rihanna',\n",
       "     'listeners': '4937',\n",
       "     'mbid': '',\n",
       "     'url': 'https://www.last.fm/music/Eminem%2FRihanna',\n",
       "     'streamable': '0',\n",
       "     'image': [{'#text': '', 'size': 'small'},\n",
       "      {'#text': '', 'size': 'medium'},\n",
       "      {'#text': '', 'size': 'large'},\n",
       "      {'#text': '', 'size': 'extralarge'},\n",
       "      {'#text': '', 'size': 'mega'}]},\n",
       "    {'name': 'Eminem, Dr. Dre, Snoop Dogg, Xzibit, Nate Dogg',\n",
       "     'listeners': '4986',\n",
       "     'mbid': '',\n",
       "     'url': 'https://www.last.fm/music/Eminem,+Dr.+Dre,+Snoop+Dogg,+Xzibit,+Nate+Dogg',\n",
       "     'streamable': '0',\n",
       "     'image': [{'#text': '', 'size': 'small'},\n",
       "      {'#text': '', 'size': 'medium'},\n",
       "      {'#text': '', 'size': 'large'},\n",
       "      {'#text': '', 'size': 'extralarge'},\n",
       "      {'#text': '', 'size': 'mega'}]},\n",
       "    {'name': 'Eminem & Snoop Dogg',\n",
       "     'listeners': '4109',\n",
       "     'mbid': 'b95ce3ff-3d05-4e87-9e01-c97b66af13d4',\n",
       "     'url': 'https://www.last.fm/music/Eminem+&+Snoop+Dogg',\n",
       "     'streamable': '0',\n",
       "     'image': [{'#text': 'https://lastfm.freetls.fastly.net/i/u/34s/2a96cbd8b46e442fc41c2b86b821562f.png',\n",
       "       'size': 'small'},\n",
       "      {'#text': 'https://lastfm.freetls.fastly.net/i/u/64s/2a96cbd8b46e442fc41c2b86b821562f.png',\n",
       "       'size': 'medium'},\n",
       "      {'#text': 'https://lastfm.freetls.fastly.net/i/u/174s/2a96cbd8b46e442fc41c2b86b821562f.png',\n",
       "       'size': 'large'},\n",
       "      {'#text': 'https://lastfm.freetls.fastly.net/i/u/300x300/2a96cbd8b46e442fc41c2b86b821562f.png',\n",
       "       'size': 'extralarge'},\n",
       "      {'#text': 'https://lastfm.freetls.fastly.net/i/u/300x300/2a96cbd8b46e442fc41c2b86b821562f.png',\n",
       "       'size': 'mega'}]},\n",
       "    {'name': 'Eminem, Obie Trice, Stat Quo, Bobby Creekwater & Ca$his',\n",
       "     'listeners': '14385',\n",
       "     'mbid': 'b95ce3ff-3d05-4e87-9e01-c97b66af13d4',\n",
       "     'url': 'https://www.last.fm/music/Eminem,+Obie+Trice,+Stat+Quo,+Bobby+Creekwater+&+Ca$his',\n",
       "     'streamable': '0',\n",
       "     'image': [{'#text': 'https://lastfm.freetls.fastly.net/i/u/34s/2a96cbd8b46e442fc41c2b86b821562f.png',\n",
       "       'size': 'small'},\n",
       "      {'#text': 'https://lastfm.freetls.fastly.net/i/u/64s/2a96cbd8b46e442fc41c2b86b821562f.png',\n",
       "       'size': 'medium'},\n",
       "      {'#text': 'https://lastfm.freetls.fastly.net/i/u/174s/2a96cbd8b46e442fc41c2b86b821562f.png',\n",
       "       'size': 'large'},\n",
       "      {'#text': 'https://lastfm.freetls.fastly.net/i/u/300x300/2a96cbd8b46e442fc41c2b86b821562f.png',\n",
       "       'size': 'extralarge'},\n",
       "      {'#text': 'https://lastfm.freetls.fastly.net/i/u/300x300/2a96cbd8b46e442fc41c2b86b821562f.png',\n",
       "       'size': 'mega'}]},\n",
       "    {'name': 'Logic, Eminem',\n",
       "     'listeners': '5112',\n",
       "     'mbid': '',\n",
       "     'url': 'https://www.last.fm/music/Logic,+Eminem',\n",
       "     'streamable': '0',\n",
       "     'image': [{'#text': '', 'size': 'small'},\n",
       "      {'#text': '', 'size': 'medium'},\n",
       "      {'#text': '', 'size': 'large'},\n",
       "      {'#text': '', 'size': 'extralarge'},\n",
       "      {'#text': '', 'size': 'mega'}]},\n",
       "    {'name': 'Eminem Feat. Joyner Lucas',\n",
       "     'listeners': '2926',\n",
       "     'mbid': '',\n",
       "     'url': 'https://www.last.fm/music/Eminem+Feat.+Joyner+Lucas',\n",
       "     'streamable': '0',\n",
       "     'image': [{'#text': '', 'size': 'small'},\n",
       "      {'#text': '', 'size': 'medium'},\n",
       "      {'#text': '', 'size': 'large'},\n",
       "      {'#text': '', 'size': 'extralarge'},\n",
       "      {'#text': '', 'size': 'mega'}]},\n",
       "    {'name': 'Eminem & Skylar Grey',\n",
       "     'listeners': '3657',\n",
       "     'mbid': '',\n",
       "     'url': 'https://www.last.fm/music/Eminem+&+Skylar+Grey',\n",
       "     'streamable': '0',\n",
       "     'image': [{'#text': '', 'size': 'small'},\n",
       "      {'#text': '', 'size': 'medium'},\n",
       "      {'#text': '', 'size': 'large'},\n",
       "      {'#text': '', 'size': 'extralarge'},\n",
       "      {'#text': '', 'size': 'mega'}]},\n",
       "    {'name': 'Eminem Feat. Skylar Grey',\n",
       "     'listeners': '4096',\n",
       "     'mbid': 'b95ce3ff-3d05-4e87-9e01-c97b66af13d4',\n",
       "     'url': 'https://www.last.fm/music/Eminem+Feat.+Skylar+Grey',\n",
       "     'streamable': '0',\n",
       "     'image': [{'#text': 'https://lastfm.freetls.fastly.net/i/u/34s/2a96cbd8b46e442fc41c2b86b821562f.png',\n",
       "       'size': 'small'},\n",
       "      {'#text': 'https://lastfm.freetls.fastly.net/i/u/64s/2a96cbd8b46e442fc41c2b86b821562f.png',\n",
       "       'size': 'medium'},\n",
       "      {'#text': 'https://lastfm.freetls.fastly.net/i/u/174s/2a96cbd8b46e442fc41c2b86b821562f.png',\n",
       "       'size': 'large'},\n",
       "      {'#text': 'https://lastfm.freetls.fastly.net/i/u/300x300/2a96cbd8b46e442fc41c2b86b821562f.png',\n",
       "       'size': 'extralarge'},\n",
       "      {'#text': 'https://lastfm.freetls.fastly.net/i/u/300x300/2a96cbd8b46e442fc41c2b86b821562f.png',\n",
       "       'size': 'mega'}]}]},\n",
       "  '@attr': {'for': 'eminem'}}}"
      ]
     },
     "execution_count": 14,
     "metadata": {},
     "output_type": "execute_result"
    }
   ],
   "source": [
    "artistSearchQuery"
   ]
  },
  {
   "cell_type": "code",
   "execution_count": 4,
   "metadata": {
    "colab": {
     "base_uri": "https://localhost:8080/"
    },
    "executionInfo": {
     "elapsed": 276,
     "status": "ok",
     "timestamp": 1687371375278,
     "user": {
      "displayName": "Anas X384569",
      "userId": "13931278578707862625"
     },
     "user_tz": 360
    },
    "id": "iK5KK512JGiL",
    "outputId": "e981aab2-7e81-4268-d785-b53d4fd17b20"
   },
   "outputs": [],
   "source": [
    "#find the top albumn\n"
   ]
  },
  {
   "cell_type": "code",
   "execution_count": null,
   "metadata": {},
   "outputs": [],
   "source": []
  },
  {
   "cell_type": "markdown",
   "metadata": {},
   "source": [
    "### Exercise 2\n",
    "\n",
    " make a search query for your own favorite artist"
   ]
  },
  {
   "cell_type": "code",
   "execution_count": null,
   "metadata": {
    "id": "E-CVtFZBK-Dq"
   },
   "outputs": [],
   "source": []
  },
  {
   "cell_type": "markdown",
   "metadata": {},
   "source": [
    "## National Park Service API\n",
    "\n",
    "https://www.nps.gov/subjects/developer/index.htm"
   ]
  },
  {
   "cell_type": "code",
   "execution_count": 3,
   "metadata": {},
   "outputs": [],
   "source": [
    "# authentication\n",
    "#https://www.nps.gov/subjects/developer/guides.html\n",
    "\n",
    "# set base url and authenticatoin\n",
    "apiKey = \"lLqHaJEKm2wfhbVIZVVSPrUxkBxWKbDj0GcgplEk\"\n",
    "\n",
    "# request call\n",
    "baseURL = \"https://developer.nps.gov/api/v1\"\n",
    "HEADERS = {\"X-Api-Key\":apiKey}\n",
    "req = requests.get(baseURL+\"/campgrounds\",headers=HEADERS).json()"
   ]
  },
  {
   "cell_type": "code",
   "execution_count": null,
   "metadata": {},
   "outputs": [],
   "source": []
  },
  {
   "cell_type": "code",
   "execution_count": 5,
   "metadata": {},
   "outputs": [],
   "source": [
    "# park code amis"
   ]
  },
  {
   "cell_type": "code",
   "execution_count": 6,
   "metadata": {},
   "outputs": [],
   "source": [
    "# make a list of all activiies you can do in the park\n"
   ]
  },
  {
   "cell_type": "code",
   "execution_count": null,
   "metadata": {},
   "outputs": [],
   "source": []
  },
  {
   "cell_type": "code",
   "execution_count": null,
   "metadata": {},
   "outputs": [],
   "source": []
  },
  {
   "cell_type": "markdown",
   "metadata": {},
   "source": [
    "## Making Functions\n",
    "\n",
    "## Wikipedia API"
   ]
  },
  {
   "cell_type": "code",
   "execution_count": 17,
   "metadata": {},
   "outputs": [],
   "source": [
    "## Run this cell block\n",
    "baseURL = \"https://en.wikipedia.org/w/api.php\" #base URL for the wikipedia API"
   ]
  },
  {
   "cell_type": "code",
   "execution_count": 18,
   "metadata": {},
   "outputs": [],
   "source": [
    "search = 'microsoft' #the parameter we'll search for\n",
    "\n",
    "testRequest = requests.get(baseURL+\"?+action=query&list=search&srsearch=\"+search+\"&format=json\").json() #our json request"
   ]
  },
  {
   "cell_type": "code",
   "execution_count": null,
   "metadata": {},
   "outputs": [],
   "source": []
  },
  {
   "cell_type": "code",
   "execution_count": null,
   "metadata": {},
   "outputs": [],
   "source": [
    "# define a function\n",
    "  #define the baseURL\n",
    "  #make a query"
   ]
  },
  {
   "cell_type": "code",
   "execution_count": null,
   "metadata": {},
   "outputs": [],
   "source": []
  },
  {
   "cell_type": "code",
   "execution_count": null,
   "metadata": {},
   "outputs": [],
   "source": []
  },
  {
   "cell_type": "markdown",
   "metadata": {},
   "source": [
    "### Exercise 3: \n",
    "\n",
    "call the same API and pass another variable as a search term"
   ]
  },
  {
   "cell_type": "code",
   "execution_count": null,
   "metadata": {},
   "outputs": [],
   "source": []
  },
  {
   "cell_type": "code",
   "execution_count": null,
   "metadata": {},
   "outputs": [],
   "source": []
  },
  {
   "cell_type": "markdown",
   "metadata": {},
   "source": [
    "### Exercise 4: \n",
    "Create a function that searches for articles like in the previous two questions, but this time return the article with the highest word count. This should return the title, pageid, snippet and wordcount from the article with the highest word count from your search."
   ]
  },
  {
   "cell_type": "code",
   "execution_count": null,
   "metadata": {},
   "outputs": [],
   "source": []
  },
  {
   "cell_type": "code",
   "execution_count": null,
   "metadata": {},
   "outputs": [],
   "source": []
  },
  {
   "cell_type": "code",
   "execution_count": null,
   "metadata": {},
   "outputs": [],
   "source": []
  }
 ],
 "metadata": {
  "colab": {
   "authorship_tag": "ABX9TyO00gnCXJjhUTQoKjQxqkix",
   "provenance": []
  },
  "kernelspec": {
   "display_name": "base",
   "language": "python",
   "name": "python3"
  },
  "language_info": {
   "codemirror_mode": {
    "name": "ipython",
    "version": 3
   },
   "file_extension": ".py",
   "mimetype": "text/x-python",
   "name": "python",
   "nbconvert_exporter": "python",
   "pygments_lexer": "ipython3",
   "version": "3.12.4"
  }
 },
 "nbformat": 4,
 "nbformat_minor": 1
}
