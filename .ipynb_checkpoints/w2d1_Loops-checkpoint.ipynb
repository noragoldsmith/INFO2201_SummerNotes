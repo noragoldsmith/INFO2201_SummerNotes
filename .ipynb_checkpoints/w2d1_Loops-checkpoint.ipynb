{
 "cells": [
  {
   "cell_type": "markdown",
   "metadata": {
    "id": "X2gkm-WacDkt"
   },
   "source": [
    "## Week 2 Day 1 - Loops\n",
    "- While loops\n",
    "- For loops\n",
    "- nested loops\n",
    "- strings\n",
    "- dictionaries"
   ]
  },
  {
   "cell_type": "markdown",
   "metadata": {},
   "source": [
    "\n"
   ]
  },
  {
   "cell_type": "markdown",
   "metadata": {
    "id": "k1O3f4Eucfwb"
   },
   "source": [
    "### Updating variables"
   ]
  },
  {
   "cell_type": "code",
   "execution_count": 1,
   "metadata": {
    "colab": {
     "base_uri": "https://localhost:8080/"
    },
    "executionInfo": {
     "elapsed": 171,
     "status": "ok",
     "timestamp": 1686335813541,
     "user": {
      "displayName": "Anas Buhayh",
      "userId": "13931278578707862625"
     },
     "user_tz": 360
    },
    "id": "CeY_aHBkcfUu",
    "outputId": "fa82d8a8-82df-471f-841d-2e65e1675779"
   },
   "outputs": [
    {
     "name": "stdout",
     "output_type": "stream",
     "text": [
      "6\n"
     ]
    }
   ],
   "source": [
    "# make a variable\n",
    "\n",
    "x = 5\n",
    "#add one to it\n",
    "x = x + 1\n",
    "\n",
    "#check\n",
    "print(x)"
   ]
  },
  {
   "cell_type": "code",
   "execution_count": 3,
   "metadata": {},
   "outputs": [
    {
     "name": "stdout",
     "output_type": "stream",
     "text": [
      "-24\n"
     ]
    }
   ],
   "source": [
    "#subtract\n",
    "x -= 30\n",
    "\n",
    "print(x)"
   ]
  },
  {
   "cell_type": "code",
   "execution_count": 7,
   "metadata": {},
   "outputs": [
    {
     "name": "stdout",
     "output_type": "stream",
     "text": [
      "-9600\n"
     ]
    }
   ],
   "source": [
    "#multiply\n",
    "x *= 20\n",
    "print(x)"
   ]
  },
  {
   "cell_type": "markdown",
   "metadata": {
    "id": "3czpHtuGcV7F"
   },
   "source": [
    "### While loop\n",
    "\n",
    "A while loop is a control flow statement that allows code to be executed repeatedly based on a given Boolean condition. The while loop can be thought of as a repeating if statement. \n",
    "\n",
    "With the **break** statement we can stop the loop even if the while condition is true. \n",
    "\n",
    "With the **continue** statement we can stop the current iteration, and continue with the next.\n",
    "\n",
    "With the **else** statement we can run a block of code once when the condition no longer is true"
   ]
  },
  {
   "cell_type": "code",
   "execution_count": 9,
   "metadata": {
    "id": "OKi1b5fdbbqw"
   },
   "outputs": [
    {
     "name": "stdout",
     "output_type": "stream",
     "text": [
      "10\n",
      "9\n",
      "8\n",
      "7\n",
      "6\n",
      "5\n",
      "4\n",
      "3\n",
      "2\n",
      "1\n",
      "Blastoff!\n"
     ]
    }
   ],
   "source": [
    "#define a variable \n",
    "\n",
    "n = 10\n",
    "#make a while loop to print n while it is greater than 0 and subtract one wiht every loop\n",
    "#print blastoff when done\n",
    "\n",
    "while n > 0:\n",
    "    print(n)\n",
    "    n -= 1\n",
    "\n",
    "print(\"Blastoff!\")"
   ]
  },
  {
   "cell_type": "code",
   "execution_count": 15,
   "metadata": {
    "id": "jANlpEzKiSjN"
   },
   "outputs": [
    {
     "name": "stdout",
     "output_type": "stream",
     "text": [
      "1\n",
      "1\n",
      "2\n",
      "2\n",
      "3\n",
      "6\n",
      "4\n",
      "24\n",
      "5\n",
      "120\n",
      "6\n",
      "720\n",
      "7\n",
      "5040\n",
      "8\n",
      "40320\n",
      "9\n",
      "362880\n",
      "10\n",
      "3628800\n",
      "11\n",
      "39916800\n"
     ]
    }
   ],
   "source": [
    "#make a counter\n",
    "counter = 0\n",
    "\n",
    "#define another variable \n",
    "mVar = 1\n",
    "\n",
    "#while the counter is less than or equal to 10, mutliply the variable by the counter\n",
    "#print the both variables\n",
    "\n",
    "while counter <= 10:\n",
    "    counter += 1\n",
    "\n",
    "    # multiply variable by counter\n",
    "    mVar *= counter\n",
    "\n",
    "    # print both variables\n",
    "    print(counter)\n",
    "    print(mVar)"
   ]
  },
  {
   "cell_type": "code",
   "execution_count": 19,
   "metadata": {
    "colab": {
     "base_uri": "https://localhost:8080/"
    },
    "executionInfo": {
     "elapsed": 8132,
     "status": "ok",
     "timestamp": 1686335896319,
     "user": {
      "displayName": "Anas Buhayh",
      "userId": "13931278578707862625"
     },
     "user_tz": 360
    },
    "id": "d2GAxCFzc10j",
    "outputId": "79850417-a5be-4586-abfc-36cc68505d1b"
   },
   "outputs": [
    {
     "name": "stdin",
     "output_type": "stream",
     "text": [
      "Type here:  hello\n"
     ]
    },
    {
     "name": "stdout",
     "output_type": "stream",
     "text": [
      "hello\n"
     ]
    },
    {
     "name": "stdin",
     "output_type": "stream",
     "text": [
      "Type here:  world\n"
     ]
    },
    {
     "name": "stdout",
     "output_type": "stream",
     "text": [
      "world\n"
     ]
    },
    {
     "name": "stdin",
     "output_type": "stream",
     "text": [
      "Type here:  haha\n"
     ]
    },
    {
     "name": "stdout",
     "output_type": "stream",
     "text": [
      "haha\n"
     ]
    },
    {
     "name": "stdin",
     "output_type": "stream",
     "text": [
      "Type here:  fast\n"
     ]
    },
    {
     "name": "stdout",
     "output_type": "stream",
     "text": [
      "fast\n"
     ]
    },
    {
     "name": "stdin",
     "output_type": "stream",
     "text": [
      "Type here:  slow\n"
     ]
    },
    {
     "name": "stdout",
     "output_type": "stream",
     "text": [
      "slow\n"
     ]
    },
    {
     "name": "stdin",
     "output_type": "stream",
     "text": [
      "Type here:  done\n"
     ]
    },
    {
     "name": "stdout",
     "output_type": "stream",
     "text": [
      "Done!\n"
     ]
    }
   ],
   "source": [
    "#make a new while loop that allows for input\n",
    "\n",
    "#print 'Done!' when broken\n",
    "\n",
    "while True:\n",
    "    line = input('Type here: ')\n",
    "\n",
    "    #when the user types 'done' break the loop\n",
    "    if line == 'done':\n",
    "        break\n",
    "\n",
    "    print(line)\n",
    "\n",
    "print(\"Done!\")\n"
   ]
  },
  {
   "cell_type": "code",
   "execution_count": 7,
   "metadata": {
    "colab": {
     "base_uri": "https://localhost:8080/"
    },
    "executionInfo": {
     "elapsed": 18381,
     "status": "ok",
     "timestamp": 1686335975300,
     "user": {
      "displayName": "Anas Buhayh",
      "userId": "13931278578707862625"
     },
     "user_tz": 360
    },
    "id": "HKAmwuhsdAox",
    "outputId": "f50fed78-71df-4142-afb6-755b797818e2"
   },
   "outputs": [],
   "source": [
    "#make a new while loop that allows for input\n",
    "# if the first thing in the line is a # continue\n",
    "# if they type 'done' break\n",
    "#print 'Done!' when broken\n",
    "\n"
   ]
  },
  {
   "cell_type": "markdown",
   "metadata": {
    "id": "swvcaX7Kdw7Y"
   },
   "source": [
    "## Excercise1:\n",
    " \n",
    "write an input statement assigned to a specific value. Then make a while loop to read a number and print out the even values between 0 and the inserted number"
   ]
  },
  {
   "cell_type": "code",
   "execution_count": null,
   "metadata": {
    "colab": {
     "base_uri": "https://localhost:8080/"
    },
    "executionInfo": {
     "elapsed": 2000,
     "status": "ok",
     "timestamp": 1686599503076,
     "user": {
      "displayName": "Anas Buhayh",
      "userId": "13931278578707862625"
     },
     "user_tz": 300
    },
    "id": "h_905tugJnUT",
    "outputId": "43c8332d-70fb-4b3b-9e0d-4dcdbc80052e"
   },
   "outputs": [],
   "source": []
  },
  {
   "cell_type": "code",
   "execution_count": null,
   "metadata": {},
   "outputs": [],
   "source": []
  },
  {
   "cell_type": "markdown",
   "metadata": {
    "id": "Yelj_zGfdZn3"
   },
   "source": [
    "## For loops\n",
    "\n",
    "A for loop is used for iterating over a sequence (that is either a list, a tuple, a dictionary, a set, or a string). With the for loop we can execute a set of statements, once for each item in a list, tuple, set etc.\n",
    "\n",
    "Even **strings** are iterable objects, they contain a sequence of characters\n",
    "\n",
    "With the **break** statement we can stop the loop before it has looped through all the items\n",
    "\n",
    "With the **continue** statement we can stop the current iteration of the loop, and continue with the next\n",
    "\n",
    "To loop through a set of code a specified number of times, we can use the **range()** function.\n",
    "The **range()** function returns a sequence of numbers, starting from 0 by default, and increments by 1 (by default), and ends at a specified number. The range() function defaults to 0 as a starting value, however it is possible to specify the starting value by adding a parameter: range(2, 6), which means values from 2 to 6 ***(but not including 6)***. The range() function defaults to increment the sequence by 1, however it is possible to specify the increment value by adding a third parameter: range(2, 30, 3). \n",
    "\n",
    "The **enumerate()** method adds a counter to an iterable and returns it in the form of an enumerating object. This enumerated object can then be used directly for loops or converted into a list of tuples using the list() function.\n",
    "\n",
    "The **else** keyword in a for loop specifies a block of code to be executed when the loop is finished"
   ]
  },
  {
   "cell_type": "code",
   "execution_count": 21,
   "metadata": {
    "id": "zON_9SR-c1Tl"
   },
   "outputs": [
    {
     "name": "stdout",
     "output_type": "stream",
     "text": [
      "Happy New Year,  Ally\n",
      "Happy New Year,  Dave\n",
      "Happy New Year,  Margot\n",
      "Done!\n"
     ]
    }
   ],
   "source": [
    "#lets make a list of names\n",
    "\n",
    "friends = ['Ally', 'Dave', 'Margot']\n",
    "\n",
    "#lets iterate through the list of friends \n",
    "# print out, 'Happy New Year,...' to every friend\n",
    "\n",
    "for friend in friends:\n",
    "    print('Happy New Year, ', friend)\n",
    "\n",
    "print(\"Done!\")\n"
   ]
  },
  {
   "cell_type": "code",
   "execution_count": 23,
   "metadata": {
    "id": "QNcBidpldoLd"
   },
   "outputs": [
    {
     "name": "stdout",
     "output_type": "stream",
     "text": [
      "Count:  5\n"
     ]
    }
   ],
   "source": [
    "#make a counter that increases each iteration and counts how many values are in the list\n",
    "# 99, 40, 13, 107, 45\n",
    "\n",
    "count = 0\n",
    "\n",
    "for itervar in [99, 40, 13, 107, 45]:\n",
    "    count = count + 1\n",
    "\n",
    "print('Count: ', count)\n"
   ]
  },
  {
   "cell_type": "code",
   "execution_count": 27,
   "metadata": {
    "colab": {
     "base_uri": "https://localhost:8080/"
    },
    "executionInfo": {
     "elapsed": 15,
     "status": "ok",
     "timestamp": 1686336366526,
     "user": {
      "displayName": "Anas Buhayh",
      "userId": "13931278578707862625"
     },
     "user_tz": 360
    },
    "id": "ElNVDh5MeL4I",
    "outputId": "e41e646b-1261-47b8-9b6b-0e3d40ef4214"
   },
   "outputs": [
    {
     "name": "stdout",
     "output_type": "stream",
     "text": [
      "0\n",
      "1\n",
      "2\n",
      "3\n",
      "4\n",
      "5\n",
      "6\n",
      "7\n",
      "8\n",
      "9\n"
     ]
    }
   ],
   "source": [
    "#using range(), make a for loop that iterates 10 times\n",
    "for number in range(10):\n",
    "    print(number)"
   ]
  },
  {
   "cell_type": "code",
   "execution_count": 39,
   "metadata": {
    "colab": {
     "base_uri": "https://localhost:8080/"
    },
    "executionInfo": {
     "elapsed": 139,
     "status": "ok",
     "timestamp": 1686336316517,
     "user": {
      "displayName": "Anas Buhayh",
      "userId": "13931278578707862625"
     },
     "user_tz": 360
    },
    "id": "pVwK6JRDeafS",
    "outputId": "a6ecf129-741b-4296-8b8d-a6fe66e2692a"
   },
   "outputs": [
    {
     "name": "stdout",
     "output_type": "stream",
     "text": [
      "i =  99\n",
      "prev =  99\n",
      "Largest =  None\n",
      "i =  40\n",
      "prev =  99\n",
      "Largest =  None\n",
      "i =  13\n",
      "prev =  40\n",
      "Largest =  None\n",
      "i =  107\n",
      "prev =  13\n",
      "Largest =  None\n",
      "i =  45\n",
      "prev =  107\n",
      "Largest =  107\n",
      "Largest =  107\n"
     ]
    }
   ],
   "source": [
    "# lets find the largest number in a list of numbers\n",
    "# 99, 40, 13, 107, 45\n",
    "\n",
    "largest = None\n",
    "prevNumber = 99\n",
    "\n",
    "for itervar in [99, 40, 13, 107, 45]:\n",
    "    print(\"i = \", itervar)\n",
    "    print(\"prev = \", prevNumber)\n",
    "    print(\"Largest = \", largest)\n",
    "    \n",
    "    if itervar > prevNumber:\n",
    "        largest = itervar\n",
    "\n",
    "\n",
    "    prevNumber = itervar\n",
    "\n",
    "print(\"Largest = \", largest)"
   ]
  },
  {
   "cell_type": "code",
   "execution_count": 43,
   "metadata": {},
   "outputs": [
    {
     "name": "stdout",
     "output_type": "stream",
     "text": [
      "107\n"
     ]
    }
   ],
   "source": [
    "largest = 0\n",
    "\n",
    "for itervar in [99, 40, 80, 13, 107, 45, 80]:\n",
    "    if itervar > largest:\n",
    "        largest = itervar\n",
    "\n",
    "print(largest)"
   ]
  },
  {
   "cell_type": "code",
   "execution_count": null,
   "metadata": {
    "id": "VPcmfRL7hW9N"
   },
   "outputs": [],
   "source": [
    "# lets make a list of list\n",
    "\n",
    "myList = [\n",
    "]"
   ]
  },
  {
   "cell_type": "code",
   "execution_count": 10,
   "metadata": {
    "colab": {
     "base_uri": "https://localhost:8080/"
    },
    "executionInfo": {
     "elapsed": 148,
     "status": "ok",
     "timestamp": 1686337292135,
     "user": {
      "displayName": "Anas Buhayh",
      "userId": "13931278578707862625"
     },
     "user_tz": 360
    },
    "id": "gRpWPCfWhx48",
    "outputId": "b3299090-7c51-4156-c8b4-8206563841cc"
   },
   "outputs": [],
   "source": [
    "#make a for loop that assignes a variable for each position in the second level list\n",
    "#print each variable \n"
   ]
  },
  {
   "cell_type": "code",
   "execution_count": null,
   "metadata": {},
   "outputs": [],
   "source": [
    "# get the first item in each sublist\n"
   ]
  },
  {
   "cell_type": "code",
   "execution_count": 11,
   "metadata": {
    "colab": {
     "base_uri": "https://localhost:8080/"
    },
    "executionInfo": {
     "elapsed": 16,
     "status": "ok",
     "timestamp": 1686586593555,
     "user": {
      "displayName": "Anas Buhayh",
      "userId": "13931278578707862625"
     },
     "user_tz": 360
    },
    "id": "Y3d4LYJXZMLq",
    "outputId": "ffed0dba-9371-44e1-8ec0-cbc57febcd97"
   },
   "outputs": [],
   "source": [
    "#using enumerate (), iterate throuhg a list and print out the counter\n"
   ]
  },
  {
   "cell_type": "code",
   "execution_count": 13,
   "metadata": {
    "colab": {
     "base_uri": "https://localhost:8080/"
    },
    "executionInfo": {
     "elapsed": 13,
     "status": "ok",
     "timestamp": 1686337735544,
     "user": {
      "displayName": "Anas Buhayh",
      "userId": "13931278578707862625"
     },
     "user_tz": 360
    },
    "id": "-ag02eEEip1o",
    "outputId": "6275359f-4b3b-4bba-ad1d-8001ed8e7a01"
   },
   "outputs": [],
   "source": [
    "#make a list of lists of numbers\n",
    "#iterate through both levels of lists using a nested for loop\n",
    "# add up all of the numbers in each sub list\n"
   ]
  },
  {
   "cell_type": "code",
   "execution_count": 14,
   "metadata": {},
   "outputs": [],
   "source": [
    "# make two lists\n",
    "# using nested for loops, after every variable in lyst 1 print the varible in the second list\n"
   ]
  },
  {
   "cell_type": "code",
   "execution_count": null,
   "metadata": {},
   "outputs": [],
   "source": []
  },
  {
   "cell_type": "markdown",
   "metadata": {
    "id": "U0JZT35qgVF1"
   },
   "source": [
    "### Excercise 2\n",
    "1. Write a loop that reads a set of values and appends them to a list.\n",
    "2. sort the values in the list\n",
    "3. Print out the list using a for loop in the following formatting.\n",
    "  - item 1: -----\n",
    "\n"
   ]
  },
  {
   "cell_type": "code",
   "execution_count": null,
   "metadata": {
    "id": "0begRNd1TXy8"
   },
   "outputs": [],
   "source": []
  },
  {
   "cell_type": "code",
   "execution_count": null,
   "metadata": {
    "colab": {
     "base_uri": "https://localhost:8080/"
    },
    "executionInfo": {
     "elapsed": 12216,
     "status": "ok",
     "timestamp": 1686602018060,
     "user": {
      "displayName": "Anas Buhayh",
      "userId": "13931278578707862625"
     },
     "user_tz": 300
    },
    "id": "QQufLms6TrG7",
    "outputId": "d7b335b8-bf0b-44fe-c324-26924c3e90bd"
   },
   "outputs": [],
   "source": []
  },
  {
   "cell_type": "code",
   "execution_count": null,
   "metadata": {},
   "outputs": [],
   "source": []
  },
  {
   "cell_type": "markdown",
   "metadata": {
    "id": "X5GME_w7ewyu"
   },
   "source": [
    "## Strings\n",
    "Strings in python are surrounded by either single quotation marks, or double quotation marks.'hello' is the same as \"hello\".\n",
    "\n",
    "Like many other popular programming languages, strings in Python are arrays of bytes representing unicode characters.\n",
    "\n",
    "However, Python does not have a character data type, a single character is simply a string with a length of 1.\n",
    "\n",
    "Square brackets can be used to access elements of the string.\n",
    "\n",
    "Since strings are arrays, we can loop through the characters in a string, with a for loop.\n",
    "\n",
    "To check if a certain phrase or character is present in a string, we can use the keyword **in**. To check if a certain phrase or character is NOT present in a string, we can use the keyword **not in**.\n",
    "\n",
    "\n",
    "To check if a certain phrase or character is present in a string, we can use the keyword in.\n",
    "\n",
    "**Methods**\n",
    "- len()\n",
    "- upper()\n",
    "- find()\n",
    "- startswith()\n",
    "- strip()\n",
    "- rstrip()\n",
    "- replace()"
   ]
  },
  {
   "cell_type": "code",
   "execution_count": null,
   "metadata": {
    "id": "ywWjMQ5Te3Co"
   },
   "outputs": [],
   "source": [
    "# make a string variable\n"
   ]
  },
  {
   "cell_type": "code",
   "execution_count": 15,
   "metadata": {
    "colab": {
     "base_uri": "https://localhost:8080/",
     "height": 35
    },
    "executionInfo": {
     "elapsed": 178,
     "status": "ok",
     "timestamp": 1686336415815,
     "user": {
      "displayName": "Anas Buhayh",
      "userId": "13931278578707862625"
     },
     "user_tz": 360
    },
    "id": "-VKBVfHveog8",
    "outputId": "c7620016-46ea-47b3-8007-bbf6227ef543"
   },
   "outputs": [],
   "source": [
    "#get the first letter in that string\n"
   ]
  },
  {
   "cell_type": "code",
   "execution_count": 16,
   "metadata": {
    "colab": {
     "base_uri": "https://localhost:8080/",
     "height": 35
    },
    "executionInfo": {
     "elapsed": 21,
     "status": "ok",
     "timestamp": 1686336423131,
     "user": {
      "displayName": "Anas Buhayh",
      "userId": "13931278578707862625"
     },
     "user_tz": 360
    },
    "id": "BTW8-Gq3eiLK",
    "outputId": "b379b2f0-441c-4ff6-8d50-0c2f6da75c49"
   },
   "outputs": [],
   "source": [
    "#get the last letter in that string\n"
   ]
  },
  {
   "cell_type": "code",
   "execution_count": 17,
   "metadata": {
    "colab": {
     "base_uri": "https://localhost:8080/"
    },
    "executionInfo": {
     "elapsed": 12,
     "status": "ok",
     "timestamp": 1686336456135,
     "user": {
      "displayName": "Anas Buhayh",
      "userId": "13931278578707862625"
     },
     "user_tz": 360
    },
    "id": "ql3o9REWe8NS",
    "outputId": "e1724411-c68a-44fe-d3fd-85f326a614fb"
   },
   "outputs": [],
   "source": [
    "#get the length of the string\n"
   ]
  },
  {
   "cell_type": "code",
   "execution_count": 18,
   "metadata": {
    "colab": {
     "base_uri": "https://localhost:8080/"
    },
    "executionInfo": {
     "elapsed": 10,
     "status": "ok",
     "timestamp": 1686336496819,
     "user": {
      "displayName": "Anas Buhayh",
      "userId": "13931278578707862625"
     },
     "user_tz": 360
    },
    "id": "pzG4MRPyfERX",
    "outputId": "59dbc69b-c15f-4915-c436-7852ed108b8e"
   },
   "outputs": [],
   "source": [
    "#use a for loop and print every letter in that string\n"
   ]
  },
  {
   "cell_type": "code",
   "execution_count": 19,
   "metadata": {
    "colab": {
     "base_uri": "https://localhost:8080/",
     "height": 183
    },
    "executionInfo": {
     "elapsed": 190,
     "status": "error",
     "timestamp": 1686336568683,
     "user": {
      "displayName": "Anas Buhayh",
      "userId": "13931278578707862625"
     },
     "user_tz": 360
    },
    "id": "YCcO7MaXfOMv",
    "outputId": "fcd58de8-3e42-43bd-f07f-a69fbc5e7e85"
   },
   "outputs": [],
   "source": [
    "#try to reassign the first letter in a string\n"
   ]
  },
  {
   "cell_type": "code",
   "execution_count": 20,
   "metadata": {
    "colab": {
     "base_uri": "https://localhost:8080/"
    },
    "executionInfo": {
     "elapsed": 126,
     "status": "ok",
     "timestamp": 1686336617346,
     "user": {
      "displayName": "Anas Buhayh",
      "userId": "13931278578707862625"
     },
     "user_tz": 360
    },
    "id": "0TWQhyFOfel0",
    "outputId": "deb9cca5-b62f-49c5-aeb9-ff497e9b52aa"
   },
   "outputs": [],
   "source": [
    "#check if a sub string is a part of a string\n"
   ]
  },
  {
   "cell_type": "code",
   "execution_count": 21,
   "metadata": {
    "colab": {
     "base_uri": "https://localhost:8080/",
     "height": 35
    },
    "executionInfo": {
     "elapsed": 188,
     "status": "ok",
     "timestamp": 1686336670414,
     "user": {
      "displayName": "Anas Buhayh",
      "userId": "13931278578707862625"
     },
     "user_tz": 360
    },
    "id": "UOk3b3jEfroP",
    "outputId": "dd2183ef-e742-4bb4-c09d-4126a5957629"
   },
   "outputs": [],
   "source": [
    "#make the string all uppercase\n"
   ]
  },
  {
   "cell_type": "code",
   "execution_count": 22,
   "metadata": {
    "colab": {
     "base_uri": "https://localhost:8080/"
    },
    "executionInfo": {
     "elapsed": 10,
     "status": "ok",
     "timestamp": 1686336698965,
     "user": {
      "displayName": "Anas Buhayh",
      "userId": "13931278578707862625"
     },
     "user_tz": 360
    },
    "id": "PmENLoydf4jx",
    "outputId": "643bcc14-4cfe-405d-a521-21c0703440a5"
   },
   "outputs": [],
   "source": [
    "#find at what index a letter is in a string\n"
   ]
  },
  {
   "cell_type": "code",
   "execution_count": 23,
   "metadata": {},
   "outputs": [],
   "source": [
    "# will get me the index of the passed value\n"
   ]
  },
  {
   "cell_type": "code",
   "execution_count": 24,
   "metadata": {},
   "outputs": [],
   "source": [
    "#check if the string starts with a specific char.\n",
    "\n"
   ]
  },
  {
   "cell_type": "markdown",
   "metadata": {
    "id": "Sif2Y0SmkMf9"
   },
   "source": [
    "### lists and strings\n",
    "- split\n",
    "- join"
   ]
  },
  {
   "cell_type": "code",
   "execution_count": 25,
   "metadata": {},
   "outputs": [],
   "source": [
    "#check string"
   ]
  },
  {
   "cell_type": "code",
   "execution_count": 26,
   "metadata": {},
   "outputs": [],
   "source": [
    "# convert a string to a list\n"
   ]
  },
  {
   "cell_type": "code",
   "execution_count": 27,
   "metadata": {},
   "outputs": [],
   "source": [
    "#use .join to add to every string in the string list\n"
   ]
  },
  {
   "cell_type": "code",
   "execution_count": null,
   "metadata": {},
   "outputs": [],
   "source": []
  },
  {
   "cell_type": "markdown",
   "metadata": {
    "id": "GoNhncE6g8yZ"
   },
   "source": [
    "## Excercise 3\n",
    "\n",
    "str = 'X-DSPAM-Confidence:0.8475'\n",
    "\n",
    "Use find and string slicing to extract the portion of the string after the\n",
    "colon character and then use the float function to convert the extracted\n",
    "string into a floating point number."
   ]
  },
  {
   "cell_type": "code",
   "execution_count": null,
   "metadata": {
    "colab": {
     "base_uri": "https://localhost:8080/"
    },
    "executionInfo": {
     "elapsed": 132,
     "status": "ok",
     "timestamp": 1686684657530,
     "user": {
      "displayName": "Anas Buhayh",
      "userId": "13931278578707862625"
     },
     "user_tz": 300
    },
    "id": "DOoMekVGOxjB",
    "outputId": "c98f9af8-4beb-4f39-805d-f0c8e70d709d"
   },
   "outputs": [],
   "source": []
  },
  {
   "cell_type": "code",
   "execution_count": null,
   "metadata": {},
   "outputs": [],
   "source": []
  },
  {
   "cell_type": "markdown",
   "metadata": {
    "id": "B3PIBJR7kgSe"
   },
   "source": [
    "## Looping and dictionaries\n",
    "\n",
    "Remember: \n",
    "Dictionaries are used to store data values in key:value pairs.\n",
    "\n",
    "A dictionary is a collection which is ordered*, changeable and do not allow duplicates. Dictionaries are written with curly brackets, and have keys and values.\n",
    "\n",
    "ex: counts = { 'chuck' : 1 , 'annie' : 42, 'jan': 100}\n",
    "\n",
    "\n",
    "**with for loops** \n",
    "\n",
    "You can loop through a dictionary by using a for loop.\n",
    "When looping through a dictionary, the return value are the keys of the dictionary, but there are methods to return the values as well.\n",
    "\n",
    "The **get()** method returns the value of the item with the specified key.\n",
    "\n",
    "\n"
   ]
  },
  {
   "cell_type": "code",
   "execution_count": 28,
   "metadata": {
    "id": "MDOqEkUelRbI"
   },
   "outputs": [],
   "source": [
    "# make a dictionary\n",
    "\n",
    "\n",
    "# print the value of every key\n"
   ]
  },
  {
   "cell_type": "code",
   "execution_count": 29,
   "metadata": {
    "colab": {
     "base_uri": "https://localhost:8080/"
    },
    "executionInfo": {
     "elapsed": 11,
     "status": "ok",
     "timestamp": 1686337982676,
     "user": {
      "displayName": "Anas Buhayh",
      "userId": "13931278578707862625"
     },
     "user_tz": 360
    },
    "id": "hByLbAPNgKNj",
    "outputId": "f6345778-c34d-4451-80c6-067ce3e14629"
   },
   "outputs": [],
   "source": [
    "#make a dicitonary of letters in a string and how many of those letters there are\n"
   ]
  },
  {
   "cell_type": "markdown",
   "metadata": {
    "id": "GLv_Qv3SlKQH"
   },
   "source": [
    "counting characters using get"
   ]
  },
  {
   "cell_type": "code",
   "execution_count": 30,
   "metadata": {
    "colab": {
     "base_uri": "https://localhost:8080/"
    },
    "executionInfo": {
     "elapsed": 151,
     "status": "ok",
     "timestamp": 1686338082995,
     "user": {
      "displayName": "Anas Buhayh",
      "userId": "13931278578707862625"
     },
     "user_tz": 360
    },
    "id": "pvgezgf4k45i",
    "outputId": "c33ad9e8-454d-4af4-ecff-821c9fda41b7"
   },
   "outputs": [],
   "source": [
    "# with '.get()' do the same thing\n"
   ]
  },
  {
   "cell_type": "code",
   "execution_count": 31,
   "metadata": {
    "colab": {
     "base_uri": "https://localhost:8080/"
    },
    "executionInfo": {
     "elapsed": 152,
     "status": "ok",
     "timestamp": 1686338245611,
     "user": {
      "displayName": "Anas Buhayh",
      "userId": "13931278578707862625"
     },
     "user_tz": 360
    },
    "id": "uh63ep64l1OC",
    "outputId": "ad979dad-d452-4f44-ba81-a31df6dfdc39"
   },
   "outputs": [],
   "source": [
    "#print the items of a dictionary in alphabetical order\n"
   ]
  },
  {
   "cell_type": "code",
   "execution_count": null,
   "metadata": {},
   "outputs": [],
   "source": []
  },
  {
   "cell_type": "markdown",
   "metadata": {
    "id": "84rn4HEWo0LU"
   },
   "source": [
    "## Putting it all together"
   ]
  },
  {
   "cell_type": "markdown",
   "metadata": {
    "id": "9DM3kOHvZpwa"
   },
   "source": [
    "**Excercise**\n",
    "- Create a dictionary with four grocery items and their prices\n",
    "- Using input, read items and store them in a list\n",
    "- Print out the total price of the inserted items"
   ]
  },
  {
   "cell_type": "code",
   "execution_count": null,
   "metadata": {
    "id": "AtEFNZQVl5Ii"
   },
   "outputs": [],
   "source": []
  },
  {
   "cell_type": "code",
   "execution_count": null,
   "metadata": {
    "colab": {
     "base_uri": "https://localhost:8080/"
    },
    "executionInfo": {
     "elapsed": 8668,
     "status": "ok",
     "timestamp": 1686686635142,
     "user": {
      "displayName": "Anas Buhayh",
      "userId": "13931278578707862625"
     },
     "user_tz": 300
    },
    "id": "KYO9tHby68aI",
    "outputId": "6a84cba9-de42-46ff-c077-7e875af86e8d"
   },
   "outputs": [],
   "source": [
    "\n",
    "    "
   ]
  },
  {
   "cell_type": "code",
   "execution_count": null,
   "metadata": {
    "colab": {
     "base_uri": "https://localhost:8080/",
     "height": 166
    },
    "executionInfo": {
     "elapsed": 302,
     "status": "error",
     "timestamp": 1686686508922,
     "user": {
      "displayName": "Anas Buhayh",
      "userId": "13931278578707862625"
     },
     "user_tz": 300
    },
    "id": "OUN1fuhz7FGb",
    "outputId": "dd36b501-e456-4509-81ee-be2ab5dfa790"
   },
   "outputs": [],
   "source": []
  },
  {
   "cell_type": "code",
   "execution_count": null,
   "metadata": {
    "id": "nNkWjeknWZtd"
   },
   "outputs": [],
   "source": []
  }
 ],
 "metadata": {
  "colab": {
   "authorship_tag": "ABX9TyNXp6qACXEUAjvHz8BuzjXX",
   "provenance": []
  },
  "kernelspec": {
   "display_name": "Python [conda env:base] *",
   "language": "python",
   "name": "conda-base-py"
  },
  "language_info": {
   "codemirror_mode": {
    "name": "ipython",
    "version": 3
   },
   "file_extension": ".py",
   "mimetype": "text/x-python",
   "name": "python",
   "nbconvert_exporter": "python",
   "pygments_lexer": "ipython3",
   "version": "3.12.7"
  }
 },
 "nbformat": 4,
 "nbformat_minor": 4
}
