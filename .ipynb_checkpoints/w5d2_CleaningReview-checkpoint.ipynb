{
 "cells": [
  {
   "cell_type": "markdown",
   "metadata": {},
   "source": [
    "## Exercise 1 - Little but Confusing Cleaning "
   ]
  },
  {
   "cell_type": "markdown",
   "metadata": {},
   "source": [
    " Write a function to read through the Rolling Stone Top 500 album list file (one line at\n",
    " a time) and create a dictionary where the key is the primary genre and the value is the \n",
    " number of albums of that genre. For albums that have multiple primary genres, just use \n",
    " the first genre listed. Your function should take a filename as a parameter. \n",
    " When your function finishes reading the file, it should print the genre names and the \n",
    " number of albums from each genre that are in the Top 500.  Here is the expected output:\n",
    "\n",
    "\n",
    "The genres should be printed out in the order of most to \n",
    "least for number of albums. Use the function sortDictionaryByValues in the file \n",
    "sortdictionary.py to sort your dictionary. \n",
    "\n",
    "**Hint: Use the csv module.  It will make your life quite a bit easier.**\n",
    "\n",
    "to use the sortdictionary code, save the sortdictionary.py file in the same folder as \n",
    "\n",
    "import the sort dictionary module:\n",
    " \n",
    "~~~ \n",
    "import sortdictionary\n",
    "~~~\n",
    "\n",
    "this code in this file will sort your dictionary by values. the syntax for creating a sorted dictionary \n",
    "works as follows:\n",
    "\n",
    "~~~\n",
    "sortedDictionary = sortdictionary.sortDictionaryByValues(dictionaryToSort,ascending=False)\n",
    "~~~\n",
    "\n",
    "if ascending is set to False, your dictionary will be sorted with values going from greatest-to-least.  \n",
    "setting ascending=True will sort the dictionary with values going from least-to-greatest."
   ]
  },
  {
   "cell_type": "code",
   "execution_count": 203,
   "metadata": {},
   "outputs": [],
   "source": [
    "import sortdictionary\n",
    "import csv\n",
    "\n",
    "def SongSort(SongFile):\n",
    "    songs = {}\n",
    "    with open(SongFile, 'r') as RollingStone:\n",
    "        csvReader = csv.reader(RollingStone, delimiter = ',')\n",
    "\n",
    "        # iterate through each row in file\n",
    "        for row in csvReader:\n",
    "            genre = row[4].replace(\"/\", \",\").split(\",\") # identifies and splits genre column\n",
    "            \n",
    "        \n",
    "            firstGenre = genre[0] # isolates first listed genre\n",
    "            \n",
    "            # cleaning the data\n",
    "            if \"0\" in firstGenre.split():\n",
    "                firstGenre.lstrip(\"\\xa0\")\n",
    "\n",
    "            # iterate through each genre, add to dictionary\n",
    "            for firstGenre in genre:\n",
    "                if firstGenre in songs:\n",
    "                    songs[firstGenre] += 1\n",
    "                else:\n",
    "                    songs[firstGenre] = 1\n",
    "\n",
    "        sortedDictionary = sortdictionary.sortDictionaryByValues(songs,ascending=False)\n",
    "    \n",
    "    print(sortedDictionary)\n",
    "\n",
    "\n"
   ]
  },
  {
   "cell_type": "code",
   "execution_count": 205,
   "metadata": {},
   "outputs": [
    {
     "name": "stdout",
     "output_type": "stream",
     "text": [
      "{'Rock': 318, ' Soul': 80, 'Funk ': 51, ' Pop': 50, 'Electronic': 45, ' World': 35, ' & Country': 35, 'Hip Hop': 34, ' Rock': 33, ' Funk ': 29, ' Blues': 28, ' Folk': 20, 'Jazz': 19, 'Folk': 13, 'Blues': 9, 'Reggae': 7, ' Stage & Screen': 6, ' Reggae': 5, ' Latin': 4, ' Hip Hop': 4, 'Pop': 2, '\\xa0Pop': 2, '\\xa0Folk': 2, '\\xa0Stage & Screen': 2, 'Genre': 1, 'Classical': 1, 'Latin': 1, '\\xa0Blues': 1}\n"
     ]
    }
   ],
   "source": [
    "SongSort('data/RollingStoneAlbumList.csv')"
   ]
  },
  {
   "cell_type": "code",
   "execution_count": null,
   "metadata": {},
   "outputs": [],
   "source": []
  },
  {
   "cell_type": "code",
   "execution_count": null,
   "metadata": {},
   "outputs": [],
   "source": []
  },
  {
   "cell_type": "markdown",
   "metadata": {},
   "source": [
    "# Exercise 2 - do the same thing with pandas\n",
    "\n",
    "Write a function to read through the Rolling Stone Top 500 album list using Pandas and output two columns \n",
    "where the first column is primary genre name and the second column is number of albums in that genre.  \n",
    "For albums that have multiple primary genres, just use the first genre listed. \n",
    "Your function should take the csv filename as a parameter. The data should be sorted by number of albums, \n",
    "from greatest to least.\n",
    "\n",
    "The output should have identical totals to the output in Problem 1.\n",
    "\n",
    "Hint: You'll need to solve this using the .apply method along wit