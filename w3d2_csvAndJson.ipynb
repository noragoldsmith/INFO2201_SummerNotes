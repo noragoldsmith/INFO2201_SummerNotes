{
 "cells": [
  {
   "cell_type": "markdown",
   "metadata": {
    "id": "CFPK2uavXx_q"
   },
   "source": [
    "# Week 3 Day 2: CSV Files\n",
    "\n",
    "* CSV files\n",
    "* JSON Files\n",
    "\n"
   ]
  },
  {
   "cell_type": "markdown",
   "metadata": {
    "id": "1yPzbYblgnnT"
   },
   "source": [
    "## CSV Files\n",
    "comma-separated values\n",
    "\n",
    "The most common import and export format for spreadsheets and databases. CSV format was used for many years prior to attempts to describe the format in a standardized way.\n",
    "The lack of a well-defined standard means that subtle differences often exist in the data produced and consumed by different applications. These differences can make it annoying to process CSV files from multiple sources. Still, while the delimiters and quoting characters vary, the overall format is similar enough that it is possible to write a single module which can efficiently manipulate such data, hiding the details of reading and writing the data from the programmer."
   ]
  },
  {
   "cell_type": "code",
   "execution_count": 2,
   "metadata": {
    "id": "8zdgIaEbgn9p"
   },
   "outputs": [],
   "source": [
    "# python has a library that simlifies reading csv files\n",
    "import csv"
   ]
  },
  {
   "cell_type": "markdown",
   "metadata": {},
   "source": [
    "#### csv.reader(csvfile, dialect='excel', **fmtparams)\n",
    "\n",
    "Return a reader object that will process lines from the given csvfile. A csvfile must be an iterable of strings, each in the reader’s defined csv format.\n",
    "\n",
    "We wil make a csvReader to read the csv file this creates an object that we can use to read csv files. A csvReader is a stream based parser for CSV files.\n",
    "\n",
    "link to documentation and info - [https://docs.python.org/3/library/csv.html]"
   ]
  },
  {
   "cell_type": "code",
   "execution_count": 9,
   "metadata": {},
   "outputs": [],
   "source": [
    "#create a list to append the rows\n",
    "\n",
    "# we use with because it automatically closes the file when we're done with it\n",
    "\n",
    "    # file handle: not the contents of the file, but the way python \"talks\" to the file itself\n",
    "\n",
    "    # skip the header\n",
    "\n",
    "# out here (not indented), the file is closed"
   ]
  },
  {
   "cell_type": "code",
   "execution_count": 10,
   "metadata": {
    "colab": {
     "base_uri": "https://localhost:8080/"
    },
    "executionInfo": {
     "elapsed": 352,
     "status": "ok",
     "timestamp": 1687277118470,
     "user": {
      "displayName": "Anas X384569",
      "userId": "13931278578707862625"
     },
     "user_tz": 360
    },
    "id": "RyajUc0agpPD",
    "outputId": "03c9c2ba-5226-4017-81d2-4ae5e8a3172b"
   },
   "outputs": [],
   "source": [
    "# Data access"
   ]
  },
  {
   "cell_type": "code",
   "execution_count": 11,
   "metadata": {
    "colab": {
     "base_uri": "https://localhost:8080/"
    },
    "executionInfo": {
     "elapsed": 5,
     "status": "ok",
     "timestamp": 1687277182222,
     "user": {
      "displayName": "Anas X384569",
      "userId": "13931278578707862625"
     },
     "user_tz": 360
    },
    "id": "_S0LwM45gpMi",
    "outputId": "61c18944-bc5f-4d42-d74b-5d8567f036c9"
   },
   "outputs": [],
   "source": [
    "#get the first sublist\n"
   ]
  },
  {
   "cell_type": "code",
   "execution_count": null,
   "metadata": {},
   "outputs": [],
   "source": []
  },
  {
   "cell_type": "code",
   "execution_count": 12,
   "metadata": {
    "colab": {
     "base_uri": "https://localhost:8080/",
     "height": 70
    },
    "executionInfo": {
     "elapsed": 236,
     "status": "ok",
     "timestamp": 1687277217087,
     "user": {
      "displayName": "Anas X384569",
      "userId": "13931278578707862625"
     },
     "user_tz": 360
    },
    "id": "35211jjegpFu",
    "outputId": "2ce4884a-c830-4b0c-b7a7-0b97486cabbc"
   },
   "outputs": [],
   "source": [
    "#get the actual text we want\n"
   ]
  },
  {
   "cell_type": "code",
   "execution_count": 13,
   "metadata": {},
   "outputs": [],
   "source": [
    "#print out every genre that is mentioned in the csv file\n"
   ]
  },
  {
   "cell_type": "code",
   "execution_count": 14,
   "metadata": {
    "colab": {
     "base_uri": "https://localhost:8080/"
    },
    "executionInfo": {
     "elapsed": 3274,
     "status": "ok",
     "timestamp": 1687277290733,
     "user": {
      "displayName": "Anas X384569",
      "userId": "13931278578707862625"
     },
     "user_tz": 360
    },
    "id": "mCFFnuI0j0a-",
    "outputId": "beb446d8-ff24-45e0-b9c7-101fc6a47e1a"
   },
   "outputs": [],
   "source": [
    "#can we clean this data?\n"
   ]
  },
  {
   "cell_type": "code",
   "execution_count": 15,
   "metadata": {
    "id": "Ge3quwmgkHjD"
   },
   "outputs": [],
   "source": [
    "#make an empty dicitonary for movie genres\n",
    "\n",
    "\n",
    "#iterate through the text and add the movie genere and the amount of times that it is mentioned \n"
   ]
  },
  {
   "cell_type": "code",
   "execution_count": null,
   "metadata": {
    "colab": {
     "base_uri": "https://localhost:8080/"
    },
    "executionInfo": {
     "elapsed": 148,
     "status": "ok",
     "timestamp": 1687277463533,
     "user": {
      "displayName": "Anas X384569",
      "userId": "13931278578707862625"
     },
     "user_tz": 360
    },
    "id": "0Oms7uPGktY8",
    "outputId": "24ce36ab-02b9-44b6-fe23-779c6f023a9c"
   },
   "outputs": [],
   "source": []
  },
  {
   "cell_type": "markdown",
   "metadata": {},
   "source": [
    "### Exercise 1: \n",
    "\n",
    "import tv_shows.csv and find the 5 most recently made tv shows"
   ]
  },
  {
   "cell_type": "code",
   "execution_count": null,
   "metadata": {},
   "outputs": [],
   "source": []
  },
  {
   "cell_type": "code",
   "execution_count": null,
   "metadata": {},
   "outputs": [],
   "source": []
  },
  {
   "cell_type": "markdown",
   "metadata": {},
   "source": [
    "# JSON Files\n",
    "[JavaScript Object Notation](https://www.json.org/)\n",
    "\n",
    "A JSON file is a file that stores simple data structures and objects in JavaScript Object Notation (JSON) format, which is a standard data interchange format. It is primarily used for transmitting data between a web application and a server. JSON files are lightweight, text-based, human-readable, and can be edited using a text editor.\n",
    "\n",
    "While many applications use JSON for data interchange, they may not actually save .json files on the hard drive since the data interchange occurs between Internet-connected computers. However, some applications do enable users to save .json files.\n",
    "\n",
    "[JavaScript Object Notation](https://www.json.org/) (JSON) is a common data structure that one encounters working with [Application Programming Interfaces](https://en.wikipedia.org/wiki/API) (API)s. They organize through 'depth' by 'nesting' concepts within one another, much like a dictionary does.\n",
    "\n",
    "for example:"
   ]
  },
  {
   "cell_type": "code",
   "execution_count": null,
   "metadata": {},
   "outputs": [],
   "source": [
    "dict = {\n",
    "    'key1':\n",
    "        'value1',\n",
    "    'key2':\n",
    "        'value2',\n",
    "    'key3':\n",
    "        'value3'\n",
    "}"
   ]
  },
  {
   "cell_type": "markdown",
   "metadata": {},
   "source": [
    "json notation allows for the engaging of deeper and more complex dictionaries that do not always have the same datatype. \n",
    "\n",
    "\n",
    "for exmaple:"
   ]
  },
  {
   "cell_type": "code",
   "execution_count": null,
   "metadata": {},
   "outputs": [],
   "source": [
    "complexDict1 = {\n",
    "    '23fallClasses': \n",
    "        ['Api', 'UCD'],\n",
    "    '23springClasses' : \n",
    "        ['theory', 'linguistic anthropology'],\n",
    "    '22fallClasses': \n",
    "        ['WoK', 'Media Sociology'],\n",
    "    '22springClasses' : \n",
    "        ['War and Peace', 'Data II']\n",
    "}"
   ]
  },
  {
   "cell_type": "markdown",
   "metadata": {},
   "source": [
    "'complex Dict 1' has strings and lists but jsons can even go further and nest to deeper levels besides the first one"
   ]
  },
  {
   "cell_type": "code",
   "execution_count": null,
   "metadata": {},
   "outputs": [],
   "source": [
    "complexDict2 = {\n",
    "    '23fallClasses': { \n",
    "        'Api' : {\n",
    "            'grade': 95.0,\n",
    "            'teacher':'Brian Keegan'\n",
    "        }, \n",
    "        'UCD':{\n",
    "            'grade': 98.0,\n",
    "            'teacher': 'Ricarose Roque'\n",
    "        }},\n",
    "    '23springClasses':{ \n",
    "        'theory': {\n",
    "            'grade': 90.0,\n",
    "            'teacher': 'Jed Burbaker'\n",
    "        }, \n",
    "        'linguistic anthropology':{\n",
    "            'grade': 95.1,\n",
    "            'teacher': 'Kira Hall'\n",
    "        }},\n",
    "    '22fallClasses':{\n",
    "        'WoK':{\n",
    "            'grade': 92.0,\n",
    "            'teacher': 'Bryan Semaan'\n",
    "        }, \n",
    "        'Media Sociology':{\n",
    "            'grade': 97.3,\n",
    "            'teacher': 'Michael McDevitt'\n",
    "        }},\n",
    "    '22springClasses':{\n",
    "        'War and Peace':{\n",
    "            'grade': 89.0,\n",
    "            'teacher': 'Jaroslav Tir'\n",
    "        }, \n",
    "        'Data II':{\n",
    "            'grade': 95.1,\n",
    "            'teacher': 'Andrew Philips'\n",
    "        }}\n",
    "    \n",
    "}"
   ]
  },
  {
   "cell_type": "markdown",
   "metadata": {},
   "source": [
    "<!-- space -->"
   ]
  },
  {
   "cell_type": "markdown",
   "metadata": {},
   "source": [
    "\n",
    "\n",
    "Now lets make some of our own and work with it....\n",
    "\n"
   ]
  },
  {
   "cell_type": "code",
   "execution_count": null,
   "metadata": {},
   "outputs": [],
   "source": [
    "#example of a json file\n",
    "person = {\"name\":\"John\", \"age\":30, \"car\":None}"
   ]
  },
  {
   "cell_type": "code",
   "execution_count": 9,
   "metadata": {},
   "outputs": [],
   "source": [
    "#what data type is it?\n"
   ]
  },
  {
   "cell_type": "code",
   "execution_count": 10,
   "metadata": {},
   "outputs": [],
   "source": [
    "#grab data at a position\n"
   ]
  },
  {
   "cell_type": "code",
   "execution_count": 11,
   "metadata": {},
   "outputs": [],
   "source": [
    "#get data at another position\n"
   ]
  },
  {
   "cell_type": "code",
   "execution_count": 12,
   "metadata": {},
   "outputs": [],
   "source": [
    "# lets try something bigger\n",
    "\n",
    "movie = {'id': 538,\n",
    " 'url': 'https://www.tvmaze.com/shows/538/futurama',\n",
    " 'name': 'Futurama',\n",
    " 'type': 'Animation',\n",
    " 'language': 'English',\n",
    " 'genres': ['Comedy', 'Adventure', 'Science-Fiction'],\n",
    " 'status': 'Ended',\n",
    " 'runtime': 30,\n",
    " 'averageRuntime': 30,\n",
    " 'premiered': '1999-03-28',\n",
    " 'ended': '2013-09-04',\n",
    " 'officialSite': 'http://www.cc.com/shows/futurama',\n",
    " 'schedule': {'time': '22:00', 'days': ['Wednesday']},\n",
    " 'rating': {'average': 8.9},\n",
    " 'weight': 98,\n",
    " 'network': {'id': 23,\n",
    "  'name': 'Comedy Central',\n",
    "  'country': {'name': 'United States',\n",
    "   'code': 'US',\n",
    "   'timezone': 'America/New_York'}},\n",
    " 'webChannel': None,\n",
    " 'dvdCountry': None,\n",
    " 'externals': {'tvrage': 3628, 'thetvdb': 73871, 'imdb': 'tt0149460'},\n",
    " 'image': {'medium': 'https://static.tvmaze.com/uploads/images/medium_portrait/4/11403.jpg',\n",
    "  'original': 'https://static.tvmaze.com/uploads/images/original_untouched/4/11403.jpg'},\n",
    " 'summary': '<p><b>Futurama</b> follows pizza guy Philip J. Fry, who reawakens in 31st century New New York after a cryonics lab accident. Now part of the Planet Express delivery crew, Fry travels to the farthest reaches of the universe with his robot buddy Bender and cyclopsian love interest Leela, discovering freaky mutants, intergalactic conspiracies and other strange stuff.</p>',\n",
    " 'updated': 1643062596,\n",
    " '_links': {'self': {'href': 'https://api.tvmaze.com/shows/538'},\n",
    "  'previousepisode': {'href': 'https://api.tvmaze.com/episodes/49411'}}}"
   ]
  },
  {
   "cell_type": "code",
   "execution_count": 13,
   "metadata": {},
   "outputs": [],
   "source": [
    "#what data type is this? \n"
   ]
  },
  {
   "cell_type": "code",
   "execution_count": 14,
   "metadata": {},
   "outputs": [],
   "source": [
    "#grab data at a position"
   ]
  },
  {
   "cell_type": "code",
   "execution_count": 15,
   "metadata": {},
   "outputs": [],
   "source": [
    "#get the timezone\n"
   ]
  },
  {
   "cell_type": "code",
   "execution_count": 16,
   "metadata": {},
   "outputs": [],
   "source": [
    "#get an image .jpg name\n"
   ]
  },
  {
   "cell_type": "code",
   "execution_count": null,
   "metadata": {},
   "outputs": [],
   "source": []
  },
  {
   "cell_type": "markdown",
   "metadata": {},
   "source": [
    "#### reading a json file\n",
    "\n",
    "json exposes an API familiar to users of the standard library marshal and pickle modules. Encoding basic Python object hierarchies, Compact encoding, Compact encoding, and Specializing JSON object decoding. \n",
    "\n",
    "json encoder and decoder docs - [https://docs.python.org/3/library/json.html]"
   ]
  },
  {
   "cell_type": "code",
   "execution_count": 17,
   "metadata": {},
   "outputs": [],
   "source": [
    "# importing json library\n",
    "import json"
   ]
  },
  {
   "cell_type": "code",
   "execution_count": 18,
   "metadata": {},
   "outputs": [],
   "source": [
    "# open sample_users.json\n",
    "# read json file\n"
   ]
  },
  {
   "cell_type": "code",
   "execution_count": 19,
   "metadata": {},
   "outputs": [],
   "source": [
    "# look at the data\n"
   ]
  },
  {
   "cell_type": "code",
   "execution_count": 20,
   "metadata": {},
   "outputs": [],
   "source": [
    "#get the type of data\n"
   ]
  },
  {
   "cell_type": "markdown",
   "metadata": {},
   "source": [
    "#### Your data get's imported as list, because in your JSON file the main structure is an Array (squared brackets), which is comparable to a list in Python."
   ]
  },
  {
   "cell_type": "code",
   "execution_count": 21,
   "metadata": {},
   "outputs": [],
   "source": [
    "# you can get how long it is\n"
   ]
  },
  {
   "cell_type": "code",
   "execution_count": 22,
   "metadata": {},
   "outputs": [],
   "source": [
    "# get the first email\n"
   ]
  },
  {
   "cell_type": "markdown",
   "metadata": {},
   "source": [
    "<!--    -->"
   ]
  },
  {
   "cell_type": "markdown",
   "metadata": {},
   "source": [
    "#### pprint\n",
    "\n",
    "The pprint module provides a capability to “pretty-print” arbitrary Python data structures in a form which can be used as input to the interpreter\n",
    "\n",
    "docs - [https://docs.python.org/3/library/pprint.html]"
   ]
  },
  {
   "cell_type": "code",
   "execution_count": null,
   "metadata": {},
   "outputs": [],
   "source": []
  },
  {
   "cell_type": "code",
   "execution_count": 23,
   "metadata": {},
   "outputs": [],
   "source": [
    "#print original data (w/o pprint)"
   ]
  },
  {
   "cell_type": "code",
   "execution_count": 24,
   "metadata": {},
   "outputs": [],
   "source": [
    "#now try pprint\n"
   ]
  },
  {
   "cell_type": "code",
   "execution_count": 25,
   "metadata": {},
   "outputs": [],
   "source": [
    "#what data type is this?\n"
   ]
  },
  {
   "cell_type": "code",
   "execution_count": null,
   "metadata": {},
   "outputs": [],
   "source": []
  },
  {
   "cell_type": "markdown",
   "metadata": {},
   "source": [
    "### Excercise 1:\n",
    "import nationalParks.json\n",
    "\n",
    "Create a dictionary of the number of national parks per state\n",
    "\n",
    "Hint: go to the example of counting genres"
   ]
  },
  {
   "cell_type": "code",
   "execution_count": null,
   "metadata": {},
   "outputs": [],
   "source": []
  },
  {
   "cell_type": "code",
   "execution_count": null,
   "metadata": {},
   "outputs": [],
   "source": []
  },
  {
   "cell_type": "code",
   "execution_count": null,
   "metadata": {},
   "outputs": [],
   "source": []
  },
  {
   "cell_type": "markdown",
   "metadata": {},
   "source": []
  }
 ],
 "metadata": {
  "colab": {
   "authorship_tag": "ABX9TyNl5FLiG4EdX6mZkunfATyj",
   "provenance": []
  },
  "kernelspec": {
   "display_name": "base",
   "language": "python",
   "name": "python3"
  },
  "language_info": {
   "codemirror_mode": {
    "name": "ipython",
    "version": 3
   },
   "file_extension": ".py",
   "mimetype": "text/x-python",
   "name": "python",
   "nbconvert_exporter": "python",
   "pygments_lexer": "ipython3",
   "version": "3.12.4"
  }
 },
 "nbformat": 4,
 "nbformat_minor": 0
}
