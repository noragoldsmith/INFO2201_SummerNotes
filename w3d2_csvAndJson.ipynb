{
 "cells": [
  {
   "cell_type": "markdown",
   "metadata": {
    "id": "CFPK2uavXx_q"
   },
   "source": [
    "# Week 3 Day 2: CSV Files\n",
    "\n",
    "* CSV files\n",
    "* JSON Files\n",
    "\n"
   ]
  },
  {
   "cell_type": "markdown",
   "metadata": {
    "id": "1yPzbYblgnnT"
   },
   "source": [
    "## CSV Files\n",
    "comma-separated values\n",
    "\n",
    "The most common import and export format for spreadsheets and databases. CSV format was used for many years prior to attempts to describe the format in a standardized way.\n",
    "The lack of a well-defined standard means that subtle differences often exist in the data produced and consumed by different applications. These differences can make it annoying to process CSV files from multiple sources. Still, while the delimiters and quoting characters vary, the overall format is similar enough that it is possible to write a single module which can efficiently manipulate such data, hiding the details of reading and writing the data from the programmer."
   ]
  },
  {
   "cell_type": "code",
   "execution_count": 2,
   "metadata": {
    "id": "8zdgIaEbgn9p"
   },
   "outputs": [],
   "source": [
    "# python has a library that simlifies reading csv files\n",
    "import csv"
   ]
  },
  {
   "cell_type": "markdown",
   "metadata": {},
   "source": [
    "#### csv.reader(csvfile, dialect='excel', **fmtparams)\n",
    "\n",
    "Return a reader object that will process lines from the given csvfile. A csvfile must be an iterable of strings, each in the reader’s defined csv format.\n",
    "\n",
    "We wil make a csvReader to read the csv file this creates an object that we can use to read csv files. A csvReader is a stream based parser for CSV files.\n",
    "\n",
    "link to documentation and info - [https://docs.python.org/3/library/csv.html]"
   ]
  },
  {
   "cell_type": "code",
   "execution_count": 8,
   "metadata": {},
   "outputs": [],
   "source": [
    "#create a list to append the rows\n",
    "#myList = list()\n",
    "myList = []\n",
    "\n",
    "# we use with because it automatically closes the file when we're done with it\n",
    "with open(\"data/movies.csv\", \"r\") as f:\n",
    "\n",
    "    # file handle: not the contents of the file, but the way python \"talks\" to the file itself\n",
    "    csvReader = csv.reader(f, delimiter = \",\", quotechar = '\"')\n",
    "    \n",
    "    # skip the header\n",
    "    next(csvReader)\n",
    "\n",
    "    for row in csvReader:\n",
    "        myList.append(row)\n",
    "# out here (not indented), the file is closed"
   ]
  },
  {
   "cell_type": "code",
   "execution_count": 10,
   "metadata": {
    "colab": {
     "base_uri": "https://localhost:8080/"
    },
    "collapsed": true,
    "executionInfo": {
     "elapsed": 352,
     "status": "ok",
     "timestamp": 1687277118470,
     "user": {
      "displayName": "Anas X384569",
      "userId": "13931278578707862625"
     },
     "user_tz": 360
    },
    "id": "RyajUc0agpPD",
    "jupyter": {
     "outputs_hidden": true
    },
    "outputId": "03c9c2ba-5226-4017-81d2-4ae5e8a3172b"
   },
   "outputs": [
    {
     "name": "stdout",
     "output_type": "stream",
     "text": [
      "[['0', 'The Shawshank Redemption', '(1994)', '142 mins.', '9.3', '1,432,740', \"[u'Crime', u'Drama']\", 'Two imprisoned men bond over a number of years, finding solace and eventual redemption through acts of common decency.', '$28.3M'], ['1', 'The Dark Knight', '(2008)', '152 mins.', '9.0', '1,403,109', \"[u'Action', u'Crime', u'Drama']\", 'When the menace known as the Joker wreaks havoc and chaos on the people of Gotham, the caped crusader must come to terms with one of the greatest psychological tests of his ability to fight injustice.', '$533M'], ['2', 'Inception', '(2010)', '148 mins.', '8.8', '1,202,244', \"[u'Action', u'Mystery', u'Sci-Fi', u'Thriller']\", 'A thief who steals corporate secrets through use of dream-sharing technology is given the inverse task of planting an idea into the mind of a CEO.', '$293M'], ['3', 'Fight Club', '(1999)', '139 mins.', '8.9', '1,117,474', \"[u'Drama']\", 'An insomniac office worker looking for a way to change his life crosses paths with a devil-may-care soap maker and they form an underground fight club that evolves into something much, much more...', '$37M'], ['4', 'Pulp Fiction', '(1994)', '154 mins.', '8.9', '1,111,865', \"[u'Crime', u'Drama']\", \"The lives of two mob hit men, a boxer, a gangster's wife, and a pair of diner bandits intertwine in four tales of violence and redemption.\", '$108M'], ['5', 'The Lord of the Rings: The Fellowship of the Ring', '(2001)', '178 mins.', '8.8', '1,051,858', \"[u'Adventure', u'Fantasy']\", 'A meek hobbit of the Shire and eight companions set out on a journey to Mount Doom to destroy the One Ring and the dark lord Sauron.', '$314M'], ['6', 'The Lord of the Rings: The Return of the King', '(2003)', '201 mins.', '8.9', '1,025,707', \"[u'Adventure', u'Fantasy']\", \"Gandalf and Aragorn lead the World of Men against Sauron's army to draw his gaze from Frodo and Sam as they approach Mount Doom with the One Ring.\", '$377M'], ['7', 'The Matrix', '(1999)', '136 mins.', '8.7', '1,021,947', \"[u'Action', u'Sci-Fi']\", 'A computer hacker learns from mysterious rebels about the true nature of his reality and his role in the war against its controllers.', '$171M'], ['8', 'Forrest Gump', '(1994)', '142 mins.', '8.8', '1,017,208', \"[u'Drama', u'Romance']\", 'Forrest Gump, while not intelligent, has accidentally been present at many historic moments, but his true love, Jenny Curran, eludes him.', '$330M'], ['9', 'The Godfather', '(1972)', '175 mins.', '9.2', '984,305', \"[u'Crime', u'Drama']\", 'The aging patriarch of an organized crime dynasty transfers control of his clandestine empire to his reluctant son.', '$135M'], ['10', 'The Dark Knight Rises', '(2012)', '165 mins.', '8.5', '945,876', \"[u'Action', u'Thriller']\", \"Eight years after the Joker's reign of anarchy, the Dark Knight is forced to return from his imposed exile to save Gotham City from the brutal guerrilla terrorist Bane with the help of the enigmatic Catwoman.\", '$448M'], ['11', 'The Lord of the Rings: The Two Towers', '(2002)', '179 mins.', '8.8', '923,713', \"[u'Adventure', u'Fantasy']\", \"While Frodo and Sam edge closer to Mordor with the help of the shifty Gollum, the divided fellowship makes a stand against Sauron's new ally, Saruman, and his hordes of Isengard.\", '$340M'], ['12', 'Se7en', '(1995)', '127 mins.', '8.7', '851,272', \"[u'Drama', u'Mystery', u'Thriller']\", 'Two detectives, a rookie and a veteran, hunt a serial killer who uses the seven deadly sins as his modus operandi.', '$100M'], ['13', 'Gladiator', '(2000)', '155 mins.', '8.5', '819,344', \"[u'Action', u'Drama']\", \"When a Roman general is betrayed and his family murdered by an emperor's corrupt son, he comes to Rome as a gladiator to seek revenge.\", '$188M'], ['14', 'Batman Begins', '(2005)', '140 mins.', '8.3', '805,368', \"[u'Action', u'Adventure']\", 'After training with his mentor, Batman begins his war on crime to free the crime-ridden Gotham City from corruption that the Scarecrow and the League of Shadows have cast upon it.', '$205M'], ['15', 'The Avengers', '(2012)', '143 mins.', '8.2', '803,232', \"[u'Action', u'Adventure', u'Sci-Fi']\", \"Earth's mightiest heroes must come together and learn to fight as a team if they are to stop the mischievous Loki and his alien army from enslaving humanity.\", '$623M'], ['16', 'Avatar', '(2009)', '162 mins.', '7.9', '772,274', \"[u'Action', u'Adventure', u'Fantasy', u'Sci-Fi']\", 'A Paraplegic Marine dispatched to the moon Pandora on a unique mission becomes torn between following his orders and protecting the world he feels is his home..', '$761M'], ['17', 'Django Unchained', '(2012)', '165 mins.', '8.5', '756,347', \"[u'Western']\", 'With the help of a German bounty hunter, a freed slave sets out to rescue his wife from a brutal Mississippi plantation owner.', '$163M'], ['18', 'Game of Thrones', '(2011 TV Series)', '55 mins.', '9.5', '748,557', \"[u'Adventure', u'Drama', u'Fantasy']\", 'Several noble families fight for control of the mythical land of Westeros.', '-'], ['19', 'Game of Thrones', '(2011 TV Series)', '55 mins.', '9.5', '748,557', \"[u'Adventure', u'Drama', u'Fantasy']\", 'Several noble families fight for control of the mythical land of Westeros.', '-'], ['20', 'Game of Thrones', '(2011 TV Series)', '55 mins.', '9.5', '20,405', \"[u'Adventure', u'Drama', u'Fantasy']\", \"Joffery and Margaery's wedding has come. Tyrion breaks up with Shae. Ramsay tries to prove his worth to his father. Bran and company find a Weirwood tree.\", '-'], ['21', 'Game of Thrones', '(2011 TV Series)', '55 mins.', '9.5', '20,405', \"[u'Adventure', u'Drama', u'Fantasy']\", \"Joffery and Margaery's wedding has come. Tyrion breaks up with Shae. Ramsay tries to prove his worth to his father. Bran and company find a Weirwood tree.\", '-'], ['22', 'Star Wars', '(1977)', '121 mins.', '8.7', '737,343', \"[u'Action', u'Adventure', u'Fantasy', u'Sci-Fi']\", \"Luke Skywalker joins forces with a Jedi Knight, a cocky pilot, a wookiee and two droids to save the universe from the Empire's world-destroying battle-station, while also attempting to rescue Princess Leia from the evil Darth Vader.\", '$461M'], ['23', 'Saving Private Ryan', '(1998)', '169 mins.', '8.6', '732,198', \"[u'Action', u'Drama', u'War']\", 'Following the Normandy Landings, a group of U.S. soldiers go behind enemy lines to retrieve a paratrooper whose brothers have been killed in action.', '$216M'], ['24', 'The Departed', '(2006)', '151 mins.', '8.5', '728,338', \"[u'Crime', u'Drama', u'Thriller']\", 'An undercover cop and a mole in the police attempt to identify each other while infiltrating an Irish gang in South Boston.', '$132M'], ['25', 'The Silence of the Lambs', '(1991)', '118 mins.', '8.6', '726,528', \"[u'Drama', u'Thriller']\", 'A young F.B.I. cadet must confide in an incarcerated and manipulative killer to receive his help on catching another serial killer who skins his victims.', '$131M'], ['26', 'Schindler&#x27;s List', '(1993)', '195 mins.', '8.9', '726,392', \"[u'Biography', u'Drama', u'History']\", 'In Poland during World War II, Oskar Schindler gradually becomes concerned for his Jewish workforce after witnessing their persecution by the Nazis.', '$96.1M'], ['27', 'Memento', '(2000)', '113 mins.', '8.5', '720,581', \"[u'Mystery', u'Thriller']\", 'A man creates a strange system to help him remember things; so he can hunt for the murderer of his wife without his short-term memory loss being an obstacle.', '$25.5M'], ['28', 'Inglourious Basterds', '(2009)', '153 mins.', '8.3', '712,003', \"[u'Adventure', u'Drama', u'War']\", \"In Nazi-occupied France during World War II, a plan to assassinate Nazi leaders by a group of Jewish U.S. soldiers coincides with a theatre owner's vengeful plans for the same.\", '$121M'], ['29', 'American Beauty', '(1999)', '122 mins.', '8.4', '706,155', \"[u'Drama']\", \"A sexually frustrated suburban father has a mid-life crisis after becoming infatuated with his daughter's best friend.\", '$130M'], ['30', 'The Prestige', '(2006)', '130 mins.', '8.5', '696,541', \"[u'Drama', u'Mystery', u'Thriller']\", 'Two stage magicians engage in competitive one-upmanship in an attempt to create the ultimate stage illusion.', '$53.1M'], ['31', 'Pirates of the Caribbean: The Curse of the Black Pearl', '(2003)', '143 mins.', '8.1', '685,999', \"[u'Adventure', u'Fantasy']\", 'Blacksmith Will Turner teams up with eccentric pirate \"Captain\" Jack Sparrow to save his love, the governor\\'s daughter, from Jack\\'s former pirate allies, who are now undead.', '$305M'], ['32', 'Titanic', '(1997)', '194 mins.', '7.7', '674,725', \"[u'Drama', u'Romance']\", 'A seventeen-year-old aristocrat, expecting to be married to a rich claimant by her mother, falls in love with a kind but poor artist aboard the luxurious, ill-fated R.M.S. Titanic.', '$659M'], ['33', 'V for Vendetta', '(2005)', '132 mins.', '8.2', '671,045', \"[u'Action', u'Drama', u'Thriller']\", 'In a future British tyranny, a shadowy freedom fighter, known only by the alias of \"V\", plots to overthrow it with the help of a young woman.', '$70.5M'], ['34', 'Star Wars: Episode V - The Empire Strikes Back', '(1980)', '124 mins.', '8.8', '668,362', \"[u'Action', u'Adventure', u'Fantasy', u'Sci-Fi']\", 'After the rebels have been brutally overpowered by the Empire on their newly established base, Luke Skywalker takes advanced Jedi training with Master Yoda, while his friends are pursued by Darth Vader as part of his plan to capture Luke.', '$290M'], ['35', 'American History X', '(1998)', '119 mins.', '8.6', '664,503', \"[u'Crime', u'Drama']\", 'A former neo-nazi skinhead tries to prevent his younger brother from going down the same wrong path that he did.', '$6.71M'], ['36', 'Breaking Bad', '(2008 TV Series)', '45 mins.', '9.5', '662,459', \"[u'Crime', u'Drama', u'Thriller']\", 'A chemistry teacher diagnosed with a terminal lung cancer, teams up with his former student, Jesse Pinkman, to cook and sell crystal meth.', '-'], ['37', 'The Godfather: Part II', '(1974)', '200 mins.', '9.1', '660,916', \"[u'Crime', u'Drama']\", 'The early life and career of Vito Corleone in 1920s New York is portrayed while his son, Michael, expands and tightens his grip on his crime syndicate stretching from Lake Tahoe, Nevada to pre-revolution 1958 Cuba.', '$57.3M'], ['38', 'The Green Mile', '(1999)', '189 mins.', '8.5', '635,348', \"[u'Crime', u'Drama', u'Fantasy', u'Mystery']\", 'The lives of guards on Death Row are affected by one of their charges: a black man accused of child murder and rape, yet who has a mysterious gift.', '$137M'], ['39', 'Shutter Island', '(2010)', '138 mins.', '8.1', '632,242', \"[u'Mystery', u'Thriller']\", 'A U.S Marshal investigates the disappearance of a murderess who escaped from a hospital for the criminally insane.', '$128M'], ['40', 'The Usual Suspects', '(1995)', '106 mins.', '8.7', '627,597', \"[u'Crime', u'Drama', u'Thriller']\", 'A sole survivor tells of the twisty events leading up to a horrific gun battle on a boat, which begin when five criminals meet at a seemingly random police lineup.', '$23.3M'], ['41', 'Braveheart', '(1995)', '177 mins.', '8.4', '626,107', \"[u'Action', u'Biography', u'Drama', u'History', u'War']\", 'When his secret bride is executed for assaulting an English soldier who tried to rape her, William Wallace begins a revolt and leads Scottish warriors against the cruel English tyrant who rules Scotland with an iron fist.', '$75.6M'], ['42', 'Terminator 2: Judgment Day', '(1991)', '137 mins.', '8.5', '624,949', \"[u'Action', u'Sci-Fi']\", 'A cyborg, identical to the one who failed to kill Sarah Connor, must now protect her young son, John Connor, from a more advanced cyborg, made out of liquid metal.', '$205M'], ['43', 'Goodfellas', '(1990)', '146 mins.', '8.7', '616,407', \"[u'Biography', u'Crime', u'Drama']\", 'Henry Hill and his friends work their way up through the mob hierarchy.', '$46.8M'], ['44', 'Kill Bill: Vol. 1', '(2003)', '111 mins.', '8.1', '616,328', \"[u'Action']\", 'The Bride wakens from a four-year coma. The child she carried in her womb is gone. Now she must wreak vengeance on the team of assassins who betrayed her - a team she was once part of.', '$70.1M'], ['45', 'The Sixth Sense', '(1999)', '107 mins.', '8.2', '606,105', \"[u'Drama', u'Mystery', u'Thriller']\", \"A boy who communicates with spirits that don't know they're dead seeks the help of a disheartened child psychologist.\", '$294M'], ['46', 'L&#xE9;on: The Professional', '(1994)', '110 mins.', '8.6', '605,118', \"[u'Crime', u'Drama', u'Thriller']\", \"Mathilda, a 12-year-old girl, is reluctantly taken in by Léon, a professional assassin, after her family is murdered. Léon and Mathilda form an unusual relationship, as she becomes his protégée and learns the assassin's trade.\", '$32.3M'], ['47', 'The Hunger Games', '(2012)', '142 mins.', '7.3', '604,473', \"[u'Adventure', u'Sci-Fi']\", \"Katniss Everdeen voluntarily takes her younger sister's place in the Hunger Games, a televised fight to the death in which two teenagers from each of the twelve Districts of Panem are chosen at random to compete.\", '$408M'], ['48', 'Back to the Future', '(1985)', '116 mins.', '8.5', '591,958', \"[u'Adventure', u'Comedy', u'Sci-Fi']\", 'A young man is accidentally sent 30 years into the past in a time-traveling DeLorean invented by his friend, Dr. Emmett Brown, and must make sure his high-school-age parents unite in order to save his own existence.', '$211M'], ['49', 'WALL&#xB7;E', '(2008)', '98 mins.', '8.4', '584,687', \"[u'Animation', u'Adventure', u'Sci-Fi']\", 'In the distant future, a small waste collecting robot inadvertently embarks on a space journey that will ultimately decide the fate of mankind.', '$224M'], ['50', 'One Flew Over the Cuckoo&#x27;s Nest', '(1975)', '133 mins.',