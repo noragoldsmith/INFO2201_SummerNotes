{
 "cells": [
  {
   "cell_type": "markdown",
   "metadata": {
    "id": "X2gkm-WacDkt"
   },
   "source": [
    "## Week 2 Day 1 - Loops\n",
    "- While loops\n",
    "- For loops\n",
    "- nested loops\n",
    "- strings\n",
    "- dictionaries"
   ]
  },
  {
   "cell_type": "markdown",
   "metadata": {},
   "source": [
    "\n"
   ]
  },
  {
   "cell_type": "markdown",
   "metadata": {
    "id": "k1O3f4Eucfwb"
   },
   "source": [
    "### Updating variables"
   ]
  },
  {
   "cell_type": "code",
   "execution_count": 1,
   "metadata": {
    "colab": {
     "base_uri": "https://localhost:8080/"
    },
    "executionInfo": {
     "elapsed": 171,
     "status": "ok",
     "timestamp": 1686335813541,
     "user": {
      "displayName": "Anas Buhayh",
      "userId": "13931278578707862625"
     },
     "user_tz": 360
    },
    "id": "CeY_aHBkcfUu",
    "outputId": "fa82d8a8-82df-471f-841d-2e65e1675779"
   },
   "outputs": [
    {
     "name": "stdout",
     "output_type": "stream",
     "text": [
      "6\n"
     ]
    }
   ],
   "source": [
    "# make a variable\n",
    "\n",
    "x = 5\n",
    "#add one to it\n",
    "x = x + 1\n",
    "\n",
    "#check\n",
    "print(x)"
   ]
  },
  {
   "cell_type": "code",
   "execution_count": 3,
   "metadata": {},
   "outputs": [
    {
     "name": "stdout",
     "output_type": "stream",
     "text": [
      "-24\n"
     ]
    }
   ],
   "source": [
    "#subtract\n",
    "x -= 30\n",
    "\n",
    "print(x)"
   ]
  },
  {
   "cell_type": "code",
   "execution_count": 7,
   "metadata": {},
   "outputs": [
    {
     "name": "stdout",
     "output_type": "stream",
     "text": [
      "-9600\n"
     ]
    }
   ],
   "source": [
    "#multiply\n",
    "x *= 20\n",
    "print(x)"
   ]
  },
  {
   "cell_type": "markdown",
   "metadata": {
    "id": "3czpHtuGcV7F"
   },
   "source": [
    "### While loop\n",
    "\n",
    "A while loop is a control flow statement that allows code to be executed repeatedly based on a given Boolean condition. The while loop can be thought of as a repeating if statement. \n",
    "\n",
    "With the **break** statement we can stop the loop even if the while condition is true. \n",
    "\n",
    "With the **continue** statement we can stop the current iteration, and continue with the next.\n",
    "\n",
    "With the **else** statement we can run a block of code once when the condition no longer is true"
   ]
  },
  {
   "cell_type": "code",
   "execution_count": 9,
   "metadata": {
    "id": "OKi1b5fdbbqw"
   },
   "outputs": [
    {
     "name": "stdout",
     "output_type": "stream",
     "text": [
      "10\n",
      "9\n",
      "8\n",
      "7\n",
      "6\n",
      "5\n",
      "4\n",
      "3\n",
      "2\n",
      "1\n",
      "Blastoff!\n"
     ]
    }
   ],
   "source": [
    "#define a variable \n",
    "\n",
    "n = 10\n",
    "#make a while loop to print n while it is greater than 0 and subtract one wiht every loop\n",
    "#print blastoff when done\n",
    "\n",
    "while n > 0:\n",
    "    print(n)\n",
    "    n -= 1\n",
    "\n",
    "print(\"Blastoff!\")"
   ]
  },
  {
   "cell_type": "code",
   "execution_count": 15,
   "metadata": {
    "id": "jANlpEzKiSjN"
   },
   "outputs": [
    {
     "name": "stdout",
     "output_type": "stream",
     "text": [
      "1\n",
      "1\n",
      "2\n",
      "2\n",
      "3\n",
      "6\n",
      "4\n",
      "24\n",
      "5\n",
      "120\n",
      "6\n",
      "720\n",
      "7\n",
      "5040\n",
      "8\n",
      "40320\n",
      "9\n",
      "362880\n",
      "10\n",
      "3628800\n",
      "11\n",
      "39916800\n"
     ]
    }
   ],
   "source": [
    "#make a counter\n",
    "counter = 0\n",
    "\n",
    "#define another variable \n",
    "mVar = 1\n",
    "\n",
    "#while the counter is less than or equal to 10, mutliply the variable by the counter\n",
    "#print the both variables\n",
    "\n",
    "while counter <= 10:\n",
    "    counter += 1\n",
    "\n",
    "    # multiply variable by counter\n",
    "    mVar *= counter\n",
    "\n",
    "    # print both variables\n",
    "    print(counter)\n",
    "    print(mVar)"
   ]
  },
  {
   "cell_type": "code",
   "execution_count": 19,
   "metadata": {
    "colab": {
     "base_uri": "https://localhost:8080/"
    },
    "executionInfo": {
     "elapsed": 8132,
     "status": "ok",
     "timestamp": 1686335896319,
     "user": {
      "displayName": "Anas Buhayh",
      "userId": "13931278578707862625"
     },
     "user_tz": 360
    },
    "id": "d2GAxCFzc10j",
    "outputId": "79850417-a5be-4586-abfc-36cc68505d1b"
   },
   "outputs": [
    {
     "name": "stdin",
     "output_type": "stream",
     "text": [
      "Type here:  hello\n"
     ]
    },
    {
     "name": "stdout",
     "output_type": "stream",
     "text": [
      "hello\n"
     ]
    },
    {
     "name": "stdin",
     "output_type": "stream",
     "text": [
      "Type here:  world\n"
     ]
    },
    {
     "name": "stdout",
     "output_type": "stream",
     "text": [
      "world\n"
     ]
    },
    {
     "name": "stdin",
     "output_type": "stream",
     "text": [
      "Type here:  haha\n"
     ]
    },
    {
     "name": "stdout",
     "output_type": "stream",
     "text": [
      "haha\n"
     ]
    },
    {
     "name": "stdin",
     "output_type": "stream",
     "text": [
      "Type here:  fast\n"
     ]
    },
    {
     "name": "stdout",
     "output_type": "stream",
     "text": [
      "fast\n"
     ]
    },
    {
     "name": "stdin",
     "output_type": "stream",
     "text": [
      "Type here:  slow\n"
     ]
    },
    {
     "name": "stdout",
     "output_type": "stream",
     "text": [
      "slow\n"
     ]
    },
    {
     "name": "stdin",
     "output_type": "stream",
     "text": [
      "Type here:  done\n"
     ]
    },
    {
     "name": "stdout",
     "output_type": "stream",
     "text": [
      "Done!\n"
     ]
    }
   ],
   "source": [
    "#make a new while loop that allows for input\n",
    "\n",
    "#print 'Done!' when broken\n",
    "\n",
    "while True:\n",
    "    line = input('Type here: ')\n",
    "\n",
    "    #when the user types 'done' break the loop\n",
    "    if line == 'done':\n",
    "        break\n",
    "\n",
    "    print(line)\n",
    "\n",
    "print(\"Done!\")\n"
   ]
  },
  {
   "cell_type": "code",
   "execution_count": 7,
   "metadata": {
    "colab": {
     "base_uri": "https://localhost:8080/"
    },
    "executionInfo": {
     "elapsed": 18381,
     "status": "ok",
     "timestamp": 1686335975300,
     "user": {
      "displayName": "Anas Buhayh",
      "userId": "13931278578707862625"
     },
     "user_tz": 360
    },
    "id": "HKAmwuhsdAox",
    "outputId": "f50fed78-71df-4142-afb6-755b797818e2"
   },
   "outputs": [],
   "source": [
    "#make a new while loop that allows for input\n",
    "# if the first thing in the line is a # continue\n",
    "# if they type 'done' break\n",
    "#print 'Done!' when broken\n",
    "\n"
   ]
  },
  {
   "cell_type": "markdown",
   "metadata": {
    "id": "swvcaX7Kdw7Y"
   },
   "source": [
    "## Excercise1:\n",
    " \n",
    "write an input statement assigned to a specific value. Then make a while loop to read a number and print out the even values between 0 and the inserted number"
   ]
  },
  {
   "cell_type": "code",
   "execution_count": 157,
   "metadata": {
    "colab": {
     "base_uri": "https://localhost:8080/"
    },
    "executionInfo": {
     "elapsed": 2000,
     "status": "ok",
     "timestamp": 1686599503076,
     "user": {
      "displayName": "Anas Buhayh",
      "userId": "13931278578707862625"
     },
     "user_tz": 300
    },
    "id": "h_905tugJnUT",
    "outputId": "43c8332d-70fb-4b3b-9e0d-4dcdbc80052e"
   },
   "outputs": [
    {
     "name": "stdin",
     "output_type": "stream",
     "text": [
      "Enter a number:  24\n"
     ]
    },
    {
     "name": "stdout",
     "output_type": "stream",
     "text": [
      "0\n",
      "2\n",
      "4\n",
      "6\n",
      "8\n",
      "10\n",
      "12\n",
      "14\n",
      "16\n",
      "18\n",
      "20\n",
      "22\n",
      "24\n"
     ]
    }
   ],
   "source": [
    "number = int(input(\"Enter a number: \"))\n",
    "currentNum = 0\n",
    "\n",
    "while currentNum <= number:\n",
    "    if currentNum%2 == 0:\n",
    "        print(currentNum)\n",
    "        currentNum += 1\n",
    "\n",
    "    else:\n",
    "        currentNum += 1"
   ]
  },
  {
   "cell_type": "code",
   "execution_count": null,
   "metadata": {},
   "outputs": [],
   "source": []
  },
  {
   "cell_type": "markdown",
   "metadata": {
    "id": "Yelj_zGfdZn3"
   },
   "source": [
    "## For loops\n",
    "\n",
    "A for loop is used for iterating over a sequence (that is either a list, a tuple, a dictionary, a set, or a string). With the for loop we can execute a set of statements, once for each item in a list, tuple, set etc.\n",
    "\n",
    "Even **strings** are iterable objects, they contain a sequence of characters\n",
    "\n",
    "With the **break** statement we can stop the loop before it has looped through all the items\n",
    "\n",
    "With the **continue** statement we can stop the current iteration of the loop, and continue with the next\n",
    "\n",
    "To loop through a set of code a specified number of times, we can use the **range()** function.\n",
    "The **range()** function returns a sequence of numbers, starting from 0 by default, and increments by 1 (by default), and ends at a specified number. The range() function defaults to 0 as a starting value, however it is possible to specify the starting value by adding a parameter: range(2, 6), which means values from 2 to 6 ***(but not including 6)***. The range() function defaults to increment the sequence by 1, however it is possible to specify the increment value by adding a third parameter: range(2, 30, 3). \n",
    "\n",
    "The **enumerate()** method adds a counter to an iterable and returns it in the form of an enumerating object. This enumerated object can then be used directly for loops or converted into a list of tuples using the list() function.\n",
    "\n",
    "The **else** keyword in a for loop specifies a block of code to be executed when the loop is finished"
   ]
  },
  {
   "cell_type": "code",
   "execution_count": 21,
   "metadata": {
    "id": "zON_9SR-c1Tl"
   },
   "outputs": [
    {
     "name": "stdout",
     "output_type": "stream",
     "text": [
      "Happy New Year,  Ally\n",
      "Happy New Year,  Dave\n",
      "Happy New Year,  Margot\n",
      "Done!\n"
     ]
    }
   ],
   "source": [
    "#lets make a list of names\n",
    "\n",
    "friends = ['Ally', 'Dave', 'Margot']\n",
    "\n",
    "#lets iterate through the list of friends \n",
    "# print out, 'Happy New Year,...' to every friend\n",
    "\n",
    "for friend in friends:\n",
    "    print('Happy New Year, ', friend)\n",
    "\n",
    "print(\"Done!\")\n"
   ]
  },
  {
   "cell_type": "code",
   "execution_count": 23,
   "metadata": {
    "id": "QNcBidpldoLd"
   },
   "outputs": [
    {
     "name": "stdout",
     "output_type": "stream",
     "text": [
      "Count:  5\n"
     ]
    }
   ],
   "source": [
    "#make a counter that increases each iteration and counts how many values are in the list\n",
    "# 99, 40, 13, 107, 45\n",
    "\n",
    "count = 0\n",
    "\n",
    "for itervar in [99, 40, 13, 107, 45]:\n",
    "    count = count + 1\n",
    "\n",
    "print('Count: ', count)\n"
   ]
  },
  {
   "cell_type": "code",
   "execution_count": 27,
   "metadata": {
    "colab": {
     "base_uri": "https://localhost:8080/"
    },
    "executionInfo": {
     "elapsed": 15,
     "status": "ok",
     "timestamp": 1686336366526,
     "user": {
      "displayName": "Anas Buhayh",
      "userId": "13931278578707862625"
     },
     "user_tz": 360
    },
    "id": "ElNVDh5MeL4I",
    "outputId": "e41e646b-1261-47b8-9b6b-0e3d40ef4214"
   },
   "outputs": [
    {
     "name": "stdout",
     "output_type": "stream",
     "text": [
      "0\n",
      "1\n",
      "2\n",
      "3\n",
      "4\n",
      "5\n",
      "6\n",
      "7\n",
      "8\n",
      "9\n"
     ]
    }
   ],
   "source": [
    "#using range(), make a for loop that iterates 10 times\n",
    "for number in range(10):\n",
    "    print(number)"
   ]
  },
  {
   "cell_type": "code",
   "execution_count": 39,
   "metadata": {
    "colab": {
     "base_uri": "https://localhost:8080/"
    },
    "executionInfo": {
     "elapsed": 139,
     "status": "ok",
     "timestamp": 1686336316517,
     "user": {
      "displayName": "Anas Buhayh",
      "userId": "13931278578707862625"
     },
     "user_tz": 360
    },
    "id": "pVwK6JRDeafS",
    "outputId": "a6ecf129-741b-4296-8b8d-a6fe66e2692a"
   },
   "outputs": [
    {
     "name": "stdout",
     "output_type": "stream",
     "text": [
      "i =  99\n",
      "prev =  99\n",
      "Largest =  None\n",
      "i =  40\n",
      "prev =  99\n",
      "Largest =  None\n",
      "i =  13\n",
      "prev =  40\n",
      "Largest =  None\n",
      "i =  107\n",
      "prev =  13\n",
      "Largest =  None\n",
      "i =  45\n",
      "prev =  107\n",
      "Largest =  107\n",
      "Largest =  107\n"
     ]
    }
   ],
   "source": [
    "# lets find the largest number in a list of numbers\n",
    "# 99, 40, 13, 107, 45\n",
    "\n",
    "largest = None\n",
    "prevNumber = 99\n",
    "\n",
    "for itervar in [99, 40, 13, 107, 45]:\n",
    "    print(\"i = \", itervar)\n",
    "    print(\"prev = \", prevNumber)\n",
    "    print(\"Largest = \", largest)\n",
    "    \n",
    "    if itervar > prevNumber:\n",
    "        largest = itervar\n",
    "\n",
    "\n",
    "    prevNumber = itervar\n",
    "\n",
    "print(\"Largest = \", largest)"
   ]
  },
  {
   "cell_type": "code",
   "execution_count": 43,
   "metadata": {},
   "outputs": [
    {
     "name": "stdout",
     "output_type": "stream",
     "text": [
      "107\n"
     ]
    }
   ],
   "source": [
    "largest = 0\n",
    "\n",
    "for itervar in [99, 40, 80, 13, 107, 45, 80]:\n",
    "    if itervar > largest:\n",
    "        largest = itervar\n",
    "\n",
    "print(largest)"
   ]
  },
  {
   "cell_type": "code",
   "execution_count": 47,
   "metadata": {
    "id": "VPcmfRL7hW9N"
   },
   "outputs": [],
   "source": [
    "# lets make a list of list\n",
    "\n",
    "myList = [\n",
    "    [\"Martin\", 24, \"INFO\"],\n",
    "    [\"Alex\", 25, \"BIO\"],\n",
    "    [\"Kit\", 23, \"ENG\"]\n",
    "\n",
    "]"
   ]
  },
  {
   "cell_type": "code",
   "execution_count": 49,
   "metadata": {
    "colab": {
     "base_uri": "https://localhost:8080/"
    },
    "executionInfo": {
     "elapsed": 148,
     "status": "ok",
     "timestamp": 1686337292135,
     "user": {
      "displayName": "Anas Buhayh",
      "userId": "13931278578707862625"
     },
     "user_tz": 360
    },
    "id": "gRpWPCfWhx48",
    "outputId": "b3299090-7c51-4156-c8b4-8206563841cc"
   },
   "outputs": [
    {
     "name": "stdout",
     "output_type": "stream",
     "text": [
      "['Martin', 24, 'INFO']\n",
      "Martin\n",
      "24\n",
      "INFO\n",
      "['Alex', 25, 'BIO']\n",
      "Alex\n",
      "25\n",
      "BIO\n",
      "['Kit', 23, 'ENG']\n",
      "Kit\n",
      "23\n",
      "ENG\n"
     ]
    }
   ],
   "source": [
    "#make a for loop that assignes a variable for each position in the second level list\n",
    "#print each variable \n",
    "\n",
    "for student in myList:\n",
    "    print(student)\n",
    "    name, age, major = student\n",
    "\n",
    "    print(name)\n",
    "    print(age)\n",
    "    print(major)\n",
    "    \n"
   ]
  },
  {
   "cell_type": "code",
   "execution_count": 53,
   "metadata": {},
   "outputs": [
    {
     "name": "stdout",
     "output_type": "stream",
     "text": [
      "Martin\n",
      "Alex\n",
      "Kit\n"
     ]
    }
   ],
   "source": [
    "# get the first item in each sublist\n",
    "\n",
    "for student in myList:\n",
    "    print(student[0])"
   ]
  },
  {
   "cell_type": "code",
   "execution_count": 59,
   "metadata": {
    "colab": {
     "base_uri": "https://localhost:8080/"
    },
    "executionInfo": {
     "elapsed": 16,
     "status": "ok",
     "timestamp": 1686586593555,
     "user": {
      "displayName": "Anas Buhayh",
      "userId": "13931278578707862625"
     },
     "user_tz": 360
    },
    "id": "Y3d4LYJXZMLq",
    "outputId": "ffed0dba-9371-44e1-8ec0-cbc57febcd97"
   },
   "outputs": [
    {
     "name": "stdout",
     "output_type": "stream",
     "text": [
      "position:  0\n",
      "value:  23\n",
      "position:  1\n",
      "value:  45\n",
      "position:  2\n",
      "value:  89\n",
      "position:  3\n",
      "value:  22\n"
     ]
    }
   ],
   "source": [
    "#using enumerate (), iterate throuhg a list and print out the counter (position)\n",
    "\n",
    "newList = [23, 45, 89, 22]\n",
    "\n",
    "for position, value in enumerate(newList):\n",
    "    print(\"position: \", position)\n",
    "    print(\"value: \", value)\n"
   ]
  },
  {
   "cell_type": "code",
   "execution_count": 69,
   "metadata": {
    "colab": {
     "base_uri": "https://localhost:8080/"
    },
    "executionInfo": {
     "elapsed": 13,
     "status": "ok",
     "timestamp": 1686337735544,
     "user": {
      "displayName": "Anas Buhayh",
      "userId": "13931278578707862625"
     },
     "user_tz": 360
    },
    "id": "-ag02eEEip1o",
    "outputId": "6275359f-4b3b-4bba-ad1d-8001ed8e7a01"
   },
   "outputs": [
    {
     "name": "stdout",
     "output_type": "stream",
     "text": [
      "[23, 9449, 181]\n",
      "23\n",
      "23\n",
      "9449\n",
      "9472\n",
      "181\n",
      "9653\n",
      "[3939, 11, 990]\n",
      "3939\n",
      "3939\n",
      "11\n",
      "3950\n",
      "990\n",
      "4940\n",
      "[384, 12, 32]\n",
      "384\n",
      "384\n",
      "12\n",
      "396\n",
      "32\n",
      "428\n"
     ]
    }
   ],
   "source": [
    "#make a list of lists of numbers\n",
    "\n",
    "myNums = [[23, 9449, 181], [3939, 11, 990], [384, 12, 32]]\n",
    "\n",
    "#iterate through both levels of lists using a nested for loop\n",
    "\n",
    "for i in myNums:\n",
    "    subSum = 0\n",
    "    print(i)\n",
    "\n",
    "    for j in i:\n",
    "        print(j)\n",
    "\n",
    "# add up all of the numbers in each sub list\n",
    "\n",
    "        subSum += j\n",
    "        print(subSum)\n",
    "\n",
    "\n"
   ]
  },
  {
   "cell_type": "code",
   "execution_count": 73,
   "metadata": {},
   "outputs": [
    {
     "name": "stdout",
     "output_type": "stream",
     "text": [
      "a\n",
      "1\n",
      "2\n",
      "3\n",
      "b\n",
      "1\n",
      "2\n",
      "3\n",
      "c\n",
      "1\n",
      "2\n",
      "3\n",
      "d\n",
      "1\n",
      "2\n",
      "3\n"
     ]
    }
   ],
   "source": [
    "# make two lists\n",
    "\n",
    "lyst1 = [\"a\", \"b\", \"c\", \"d\"]\n",
    "lyst2 = [1, 2, 3]\n",
    "\n",
    "# using nested for loops, after every variable in lyst 1 print the varible in the second list\n",
    "\n",
    "for i in lyst1:\n",
    "    print(i)\n",
    "    \n",
    "    for j in lyst2:\n",
    "        print(j)\n"
   ]
  },
  {
   "cell_type": "code",
   "execution_count": null,
   "metadata": {},
   "outputs": [],
   "source": []
  },
  {
   "cell_type": "markdown",
   "metadata": {
    "id": "U0JZT35qgVF1"
   },
   "source": [
    "### Excercise 2\n",
    "1. Write a loop that reads a set of values and appends them to a list.\n",
    "2. sort the values in the list\n",
    "3. Print out the list using a for loop in the following formatting.\n",
    "  - item 1: -----\n",
    "\n"
   ]
  },
  {
   "cell_type": "code",
   "execution_count": 177,
   "metadata": {
    "id": "0begRNd1TXy8"
   },
   "outputs": [],
   "source": [
    "values = (6, 44, 23, 25, 11)\n",
    "numList = []\n",
    "\n",
    "for number in values:\n",
    "    numList.append(number)"
   ]
  },
  {
   "cell_type": "code",
   "execution_count": 179,
   "metadata": {
    "colab": {
     "base_uri": "https://localhost:8080/"
    },
    "executionInfo": {
     "elapsed": 12216,
     "status": "ok",
     "timestamp": 1686602018060,
     "user": {
      "displayName": "Anas Buhayh",
      "userId": "13931278578707862625"
     },
     "user_tz": 300
    },
    "id": "QQufLms6TrG7",
    "outputId": "d7b335b8-bf0b-44fe-c324-26924c3e90bd"
   },
   "outputs": [],
   "source": [
    "numList = sorted(numList)"
   ]
  },
  {
   "cell_type": "code",
   "execution_count": 181,
   "metadata": {},
   "outputs": [
    {
     "name": "stdout",
     "output_type": "stream",
     "text": [
      "item 1: 6\n",
      "item 2: 11\n",
      "item 3: 23\n",
      "item 4: 25\n",
      "item 5: 44\n"
     ]
    }
   ],
   "source": [
    "itemNum = 1\n",
    "for number in numList:\n",
    "    print(\"item \" + str(itemNum) + \": \" + str(number))\n",
    "    itemNum += 1"
   ]
  },
  {
   "cell_type": "markdown",
   "metadata": {
    "id": "X5GME_w7ewyu"
   },
   "source": [
    "## Strings\n",
    "Strings in python are surrounded by either single quotation marks, or double quotation marks.'hello' is the same as \"hello\".\n",
    "\n",
    "Like many other popular programming languages, strings in Python are arrays of bytes representing unicode characters.\n",
    "\n",
    "However, Python does not have a character data type, a single character is simply a string with a length of 1.\n",
    "\n",
    "Square brackets can be used to access elements of the string.\n",
    "\n",
    "Since strings are arrays, we can loop through the characters in a string, with a for loop.\n",
    "\n",
    "To check if a certain phrase or character is present in a string, we can use the keyword **in**. To check if a certain phrase or character is NOT present in a string, we can use the keyword **not in**.\n",
    "\n",
    "\n",
    "To check if a certain phrase or character is present in a string, we can use the keyword in.\n",
    "\n",
    "**Methods**\n",
    "- len()\n",
    "- upper()\n",
    "- find()\n",
    "- startswith()\n",
    "- strip()\n",
    "- rstrip()\n",
    "- replace()"
   ]
  },
  {
   "cell_type": "code",
   "execution_count": 75,
   "metadata": {
    "id": "ywWjMQ5Te3Co"
   },
   "outputs": [],
   "source": [
    "# make a string variable\n",
    "\n",
    "myNameIs = \"Nora\""
   ]
  },
  {
   "cell_type": "code",
   "execution_count": 77,
   "metadata": {
    "colab": {
     "base_uri": "https://localhost:8080/",
     "height": 35
    },
    "executionInfo": {
     "elapsed": 178,
     "status": "ok",
     "timestamp": 1686336415815,
     "user": {
      "displayName": "Anas Buhayh",
      "userId": "13931278578707862625"
     },
     "user_tz": 360
    },
    "id": "-VKBVfHveog8",
    "outputId": "c7620016-46ea-47b3-8007-bbf6227ef543"
   },
   "outputs": [
    {
     "data": {
      "text/plain": [
       "'N'"
      ]
     },
     "execution_count": 77,
     "metadata": {},
     "output_type": "execute_result"
    }
   ],
   "source": [
    "#get the first letter in that string\n",
    "\n",
    "myNameIs[0]"
   ]
  },
  {
   "cell_type": "code",
   "execution_count": 79,
   "metadata": {
    "colab": {
     "base_uri": "https://localhost:8080/",
     "height": 35
    },
    "executionInfo": {
     "elapsed": 21,
     "status": "ok",
     "timestamp": 1686336423131,
     "user": {
      "displayName": "Anas Buhayh",
      "userId": "13931278578707862625"
     },
     "user_tz": 360
    },
    "id": "BTW8-Gq3eiLK",
    "outputId": "b379b2f0-441c-4ff6-8d50-0c2f6da75c49"
   },
   "outputs": [
    {
     "data": {
      "text/plain": [
       "'a'"
      ]
     },
     "execution_count": 79,
     "metadata": {},
     "output_type": "execute_result"
    }
   ],
   "source": [
    "#get the last letter in that string\n",
    "\n",
    "myNameIs[-1]"
   ]
  },
  {
   "cell_type": "code",
   "execution_count": 81,
   "metadata": {
    "colab": {
     "base_uri": "https://localhost:8080/"
    },
    "executionInfo": {
     "elapsed": 12,
     "status": "ok",
     "timestamp": 1686336456135,
     "user": {
      "displayName": "Anas Buhayh",
      "userId": "13931278578707862625"
     },
     "user_tz": 360
    },
    "id": "ql3o9REWe8NS",
    "outputId": "e1724411-c68a-44fe-d3fd-85f326a614fb"
   },
   "outputs": [
    {
     "data": {
      "text/plain": [
       "4"
      ]
     },
     "execution_count": 81,
     "metadata": {},
     "output_type": "execute_result"
    }
   ],
   "source": [
    "#get the length of the string\n",
    "\n",
    "len(myNameIs)"
   ]
  },
  {
   "cell_type": "code",
   "execution_count": 85,
   "metadata": {
    "colab": {
     "base_uri": "https://localhost:8080/"
    },
    "executionInfo": {
     "elapsed": 10,
     "status": "ok",
     "timestamp": 1686336496819,
     "user": {
      "displayName": "Anas Buhayh",
      "userId": "13931278578707862625"
     },
     "user_tz": 360
    },
    "id": "pzG4MRPyfERX",
    "outputId": "59dbc69b-c15f-4915-c436-7852ed108b8e"
   },
   "outputs": [
    {
     "name": "stdout",
     "output_type": "stream",
     "text": [
      "N\n",
      "o\n",
      "r\n",
      "a\n"
     ]
    }
   ],
   "source": [
    "#use a for loop and print every letter in that string\n",
    "\n",
    "for char in myNameIs:\n",
    "    print(char)"
   ]
  },
  {
   "cell_type": "code",
   "execution_count": 87,
   "metadata": {
    "colab": {
     "base_uri": "https://localhost:8080/",
     "height": 183
    },
    "executionInfo": {
     "elapsed": 190,
     "status": "error",
     "timestamp": 1686336568683,
     "user": {
      "displayName": "Anas Buhayh",
      "userId": "13931278578707862625"
     },
     "user_tz": 360
    },
    "id": "YCcO7MaXfOMv",
    "outputId": "fcd58de8-3e42-43bd-f07f-a69fbc5e7e85"
   },
   "outputs": [
    {
     "ename": "TypeError",
     "evalue": "'str' object does not support item assignment",
     "output_type": "error",
     "traceback": [
      "\u001b[0;31m---------------------------------------------------------------------------\u001b[0m",
      "\u001b[0;31mTypeError\u001b[0m                                 Traceback (most recent call last)",
      "Cell \u001b[0;32mIn[87], line 3\u001b[0m\n\u001b[1;32m      1\u001b[0m \u001b[38;5;66;03m#try to reassign the first letter in a string\u001b[39;00m\n\u001b[0;32m----> 3\u001b[0m myNameIs[\u001b[38;5;241m0\u001b[39m] \u001b[38;5;241m=\u001b[39m \u001b[38;5;124m\"\u001b[39m\u001b[38;5;124mB\u001b[39m\u001b[38;5;124m\"\u001b[39m\n",
      "\u001b[0;31mTypeError\u001b[0m: 'str' object does not support item assignment"
     ]
    }
   ],
   "source": [
    "#try to reassign the first letter in a string\n",
    "\n",
    "myNameIs[0] = \"B\""
   ]
  },
  {
   "cell_type": "code",
   "execution_count": 93,
   "metadata": {
    "colab": {
     "base_uri": "https://localhost:8080/"
    },
    "executionInfo": {
     "elapsed": 126,
     "status": "ok",
     "timestamp": 1686336617346,
     "user": {
      "displayName": "Anas Buhayh",
      "userId": "13931278578707862625"
     },
     "user_tz": 360
    },
    "id": "0TWQhyFOfel0",
    "outputId": "deb9cca5-b62f-49c5-aeb9-ff497e9b52aa"
   },
   "outputs": [],
   "source": [
    "#check if a sub string is a part of a string\n",
    "\n",
    "slogan = \"Sko Buffs\"\n"
   ]
  },
  {
   "cell_type": "code",
   "execution_count": 95,
   "metadata": {},
   "outputs": [
    {
     "data": {
      "text/plain": [
       "True"
      ]
     },
     "execution_count": 95,
     "metadata": {},
     "output_type": "execute_result"
    }
   ],
   "source": [
    "\"Sko\" in slogan"
   ]
  },
  {
   "cell_type": "code",
   "execution_count": 97,
   "metadata": {
    "colab": {
     "base_uri": "https://localhost:8080/",
     "height": 35
    },
    "executionInfo": {
     "elapsed": 188,
     "status": "ok",
     "timestamp": 1686336670414,
     "user": {
      "displayName": "Anas Buhayh",
      "userId": "13931278578707862625"
     },
     "user_tz": 360
    },
    "id": "UOk3b3jEfroP",
    "outputId": "dd2183ef-e742-4bb4-c09d-4126a5957629"
   },
   "outputs": [
    {
     "data": {
      "text/plain": [
       "'NORA'"
      ]
     },
     "execution_count": 97,
     "metadata": {},
     "output_type": "execute_result"
    }
   ],
   "source": [
    "#make the string all uppercase\n",
    "\n",
    "myNameIs.upper()"
   ]
  },
  {
   "cell_type": "code",
   "execution_count": 99,
   "metadata": {
    "colab": {
     "base_uri": "https://localhost:8080/"
    },
    "executionInfo": {
     "elapsed": 10,
     "status": "ok",
     "timestamp": 1686336698965,
     "user": {
      "displayName": "Anas Buhayh",
      "userId": "13931278578707862625"
     },
     "user_tz": 360
    },
    "id": "PmENLoydf4jx",
    "outputId": "643bcc14-4cfe-405d-a521-21c0703440a5"
   },
   "outputs": [
    {
     "data": {
      "text/plain": [
       "2"
      ]
     },
     "execution_count": 99,
     "metadata": {},
     "output_type": "execute_result"
    }
   ],
   "source": [
    "#find at what index a letter is in a string\n",
    "\n",
    "charIndex = myNameIs.find(\"r\")\n",
    "charIndex"
   ]
  },
  {
   "cell_type": "code",
   "execution_count": 101,
   "metadata": {},
   "outputs": [
    {
     "data": {
      "text/plain": [
       "9"
      ]
     },
     "execution_count": 101,
     "metadata": {},
     "output_type": "execute_result"
    }
   ],
   "source": [
    "# will get me the index of the passed value (or string variable)\n",
    "\n",
    "myString = \"Hello my name is Nora\"\n",
    "\n",
    "myString.find(\"name\")\n",
    "\n"
   ]
  },
  {
   "cell_type": "code",
   "execution_count": 103,
   "metadata": {},
   "outputs": [
    {
     "data": {
      "text/plain": [
       "True"
      ]
     },
     "execution_count": 103,
     "metadata": {},
     "output_type": "execute_result"
    }
   ],
   "source": [
    "#check if the string starts with a specific char.\n",
    "\n",
    "myString.startswith(\"Hello\")"
   ]
  },
  {
   "cell_type": "markdown",
   "metadata": {
    "id": "Sif2Y0SmkMf9"
   },
   "source": [
    "### lists and strings\n",
    "- split\n",
    "- join"
   ]
  },
  {
   "cell_type": "code",
   "execution_count": 105,
   "metadata": {},
   "outputs": [
    {
     "data": {
      "text/plain": [
       "'Hello my name is Nora'"
      ]
     },
     "execution_count": 105,
     "metadata": {},
     "output_type": "execute_result"
    }
   ],
   "source": [
    "#check string\n",
    "\n",
    "myString"
   ]
  },
  {
   "cell_type": "code",
   "execution_count": 107,
   "metadata": {},
   "outputs": [
    {
     "data": {
      "text/plain": [
       "['Hello', 'my', 'name', 'is', 'Nora']"
      ]
     },
     "execution_count": 107,
     "metadata": {},
     "output_type": "execute_result"
    }
   ],
   "source": [
    "# convert a string to a list\n",
    "\n",
    "myStringList = myString.split()\n",
    "myStringList"
   ]
  },
  {
   "cell_type": "code",
   "execution_count": 111,
   "metadata": {},
   "outputs": [
    {
     "data": {
      "text/plain": [
       "'Hello-----my-----name-----is-----Nora'"
      ]
     },
     "execution_count": 111,
     "metadata": {},
     "output_type": "execute_result"
    }
   ],
   "source": [
    "#use .join to add to every string in the string list\n",
    "\n",
    "#\"cat\".join(myStringList)\n",
    "\n",
    "\"-----\".join(myStringList)"
   ]
  },
  {
   "cell_type": "code",
   "execution_count": null,
   "metadata": {},
   "outputs": [],
   "source": []
  },
  {
   "cell_type": "markdown",
   "metadata": {
    "id": "GoNhncE6g8yZ"
   },
   "source": [
    "## Excercise 3\n",
    "\n",
    "str = 'X-DSPAM-Confidence:0.8475'\n",
    "\n",
    "Use find and string slicing to extract the portion of the string after the\n",
    "colon character and then use the float function to convert the extracted\n",
    "string into a floating point number."
   ]
  },
  {
   "cell_type": "code",
   "execution_count": 191,
   "metadata": {
    "colab": {
     "base_uri": "https://localhost:8080/"
    },
    "executionInfo": {
     "elapsed": 132,
     "status": "ok",
     "timestamp": 1686684657530,
     "user": {
      "displayName": "Anas Buhayh",
      "userId": "13931278578707862625"
     },
     "user_tz": 300
    },
    "id": "DOoMekVGOxjB",
    "outputId": "c98f9af8-4beb-4f39-805d-f0c8e70d709d"
   },
   "outputs": [
    {
     "data": {
      "text/plain": [
       "18"
      ]
     },
     "execution_count": 191,
     "metadata": {},
     "output_type": "execute_result"
    }
   ],
   "source": [
    "string = 'X-DSPAM-Confidence:0.8475'\n",
    "\n",
    "string.find(\":\")"
   ]
  },
  {
   "cell_type": "code",
   "execution_count": 203,
   "metadata": {},
   "outputs": [],
   "source": [
    "extractString = string[19::]\n",
    "\n",
    "extractString = float(extractString)"
   ]
  },
  {
   "cell_type": "markdown",
   "metadata": {
    "id": "B3PIBJR7kgSe"
   },
   "source": [
    "## Looping and dictionaries\n",
    "\n",
    "Remember: \n",
    "Dictionaries are used to store data values in key:value pairs.\n",
    "\n",
    "A dictionary is a collection which is ordered*, changeable and do not allow duplicates. Dictionaries are written with curly brackets, and have keys and values.\n",
    "\n",
    "ex: counts = { 'chuck' : 1 , 'annie' : 42, 'jan': 100}\n",
    "\n",
    "\n",
    "**with for loops** \n",
    "\n",
    "You can loop through a dictionary by using a for loop.\n",
    "When looping through a dictionary, the return value are the keys of the dictionary, but there are methods to return the values as well.\n",
    "\n",
    "The **get()** method returns the value of the item with the specified key.\n",
    "\n",
    "\n"
   ]
  },
  {
   "cell_type": "code",
   "execution_count": 115,
   "metadata": {
    "id": "MDOqEkUelRbI"
   },
   "outputs": [
    {
     "name": "stdout",
     "output_type": "stream",
     "text": [
      "chuck 1\n",
      "annie 42\n",
      "jan 100\n"
     ]
    }
   ],
   "source": [
    "# make a dictionary\n",
    "\n",
    "counts = {'chuck' : 1 , 'annie' : 42, 'jan': 100}\n",
    "\n",
    "# print the value of every key\n",
    "\n",
    "for key in counts:\n",
    "    print(key, counts[key])\n",
    "    \n"
   ]
  },
  {
   "cell_type": "code",
   "execution_count": 127,
   "metadata": {},
   "outputs": [
    {
     "name": "stdout",
     "output_type": "stream",
     "text": [
      "chuck 1\n",
      "annie 42\n",
      "jan 100\n"
     ]
    }
   ],
   "source": [
    "# USE THIS!!!!!!!!!\n",
    "\n",
    "\n",
    "for key, values in counts.items():\n",
    "    print(key, values)"
   ]
  },
  {
   "cell_type": "code",
   "execution_count": 129,
   "metadata": {},
   "outputs": [
    {
     "name": "stdout",
     "output_type": "stream",
     "text": [
      "1\n"
     ]
    },
    {
     "ename": "TypeError",
     "evalue": "'int' object is not iterable",
     "output_type": "error",
     "traceback": [
      "\u001b[0;31m---------------------------------------------------------------------------\u001b[0m",
      "\u001b[0;31mTypeError\u001b[0m                                 Traceback (most recent call last)",
      "Cell \u001b[0;32mIn[129], line 5\u001b[0m\n\u001b[1;32m      3\u001b[0m \u001b[38;5;28;01mfor\u001b[39;00m key \u001b[38;5;129;01min\u001b[39;00m counts:\n\u001b[1;32m      4\u001b[0m     \u001b[38;5;28mprint\u001b[39m(counts[key])\n\u001b[0;32m----> 5\u001b[0m     \u001b[38;5;28;01mfor\u001b[39;00m value \u001b[38;5;129;01min\u001b[39;00m counts[key]:\n\u001b[1;32m      6\u001b[0m         \u001b[38;5;28mprint\u001b[39m(key, value)\n",
      "\u001b[0;31mTypeError\u001b[0m: 'int' object is not iterable"
     ]
    }
   ],
   "source": [
    "# if values are a list, you can use this\n",
    "\n",
    "for key in counts:\n",
    "    print(counts[key])\n",
    "    for value in counts[key]:\n",
    "        print(key, value)"
   ]
  },
  {
   "cell_type": "code",
   "execution_count": 143,
   "metadata": {
    "colab": {
     "base_uri": "https://localhost:8080/"
    },
    "executionInfo": {
     "elapsed": 11,
     "status": "ok",
     "timestamp": 1686337982676,
     "user": {
      "displayName": "Anas Buhayh",
      "userId": "13931278578707862625"
     },
     "user_tz": 360
    },
    "id": "hByLbAPNgKNj",
    "outputId": "f6345778-c34d-4451-80c6-067ce3e14629"
   },
   "outputs": [
    {
     "name": "stdout",
     "output_type": "stream",
     "text": [
      "{'b': 1, 'r': 2, 'o': 2, 'n': 1, 't': 1, 's': 2, 'a': 1, 'u': 2}\n"
     ]
    }
   ],
   "source": [
    "#make a dicitonary of letters in a string and how many of those letters there are\n",
    "\n",
    "\n",
    "word = \"brontosaurus\"\n",
    "\n",
    "letterDict = {}\n",
    "\n",
    "for i in word:\n",
    "    if i in letterDict:\n",
    "        letterDict[i] += 1\n",
    "\n",
    "    else:\n",
    "        letterDict[i] = 1\n",
    "\n",
    "print(letterDict)"
   ]
  },
  {
   "cell_type": "code",
   "execution_count": null,
   "metadata": {},
   "outputs": [],
   "source": [
    "# counting characters using get"
   ]
  },
  {
   "cell_type": "code",
   "execution_count": 147,
   "metadata": {
    "colab": {
     "base_uri": "https://localhost:8080/"
    },
    "executionInfo": {
     "elapsed": 151,
     "status": "ok",
     "timestamp": 1686338082995,
     "user": {
      "displayName": "Anas Buhayh",
      "userId": "13931278578707862625"
     },
     "user_tz": 360
    },
    "id": "pvgezgf4k45i",
    "outputId": "c33ad9e8-454d-4af4-ecff-821c9fda41b7"
   },
   "outputs": [
    {
     "name": "stdout",
     "output_type": "stream",
     "text": [
      "{'b': 1, 'r': 2, 'o': 2, 'n': 1, 't': 1, 's': 2, 'a': 1, 'u': 2}\n"
     ]
    }
   ],
   "source": [
    "# with '.get()' do the same thing\n",
    "\n",
    "letterDict = {}\n",
    "\n",
    "for letter in word:\n",
    "    letterDict[letter] = letterDict.get(letter, 0) + 1\n",
    "\n",
    "print(letterDict)"
   ]
  },
  {
   "cell_type": "code",
   "execution_count": 151,
   "metadata": {
    "colab": {
     "base_uri": "https://localhost:8080/"
    },
    "executionInfo": {
     "elapsed": 152,
     "status": "ok",
     "timestamp": 1686338245611,
     "user": {
      "displayName": "Anas Buhayh",
      "userId": "13931278578707862625"
     },
     "user_tz": 360
    },
    "id": "uh63ep64l1OC",
    "outputId": "ad979dad-d452-4f44-ba81-a31df6dfdc39"
   },
   "outputs": [
    {
     "name": "stdout",
     "output_type": "stream",
     "text": [
      "['annie', 'chuck', 'jan']\n",
      "annie 42\n",
      "chuck 1\n",
      "jan 100\n"
     ]
    }
   ],
   "source": [
    "#print the items of a dictionary in alphabetical order\n",
    "\n",
    "counts = {'chuck' : 1 , 'annie' : 42, 'jan': 100}\n",
    "\n",
    "# organize the keys by alphabetical\n",
    "\n",
    "lyst = list(counts.keys())\n",
    "lyst.sort()\n",
    "\n",
    "print(lyst)\n",
    "\n",
    "# print the key:value (items) in alphabetical\n",
    "for key in lyst:\n",
    "    print(key, counts[key])\n"
   ]
  },
  {
   "cell_type": "code",
   "execution_count": null,
   "metadata": {},
   "outputs": [],
   "source": []
  },
  {
   "cell_type": "markdown",
   "metadata": {
    "id": "84rn4HEWo0LU"
   },
   "source": [
    "## Putting it all together"
   ]
  },
  {
   "cell_type": "markdown",
   "metadata": {
    "id": "9DM3kOHvZpwa"
   },
   "source": [
    "**Excercise**\n",
    "- Create a dictionary with four grocery items and their prices\n",
    "- Using input, read items and store them in a list\n",
    "- Print out the total price of the inserted items"
   ]
  },
  {
   "cell_type": "code",
   "execution_count": 233,
   "metadata": {
    "id": "AtEFNZQVl5Ii"
   },
   "outputs": [],
   "source": [
    "groceryDict = {\"Milk\": 3.50, \"Apple\": 0.50, \"Bread\": 5.00, \"Eggs\": 6.00}\n",
    "newList = []"
   ]
  },
  {
   "cell_type": "code",
   "execution_count": 243,
   "metadata": {
    "colab": {
     "base_uri": "https://localhost:8080/"
    },
    "executionInfo": {
     "elapsed": 8668,
     "status": "ok",
     "timestamp": 1686686635142,
     "user": {
      "displayName": "Anas Buhayh",
      "userId": "13931278578707862625"
     },
     "user_tz": 300
    },
    "id": "KYO9tHby68aI",
    "outputId": "6a84cba9-de42-46ff-c077-7e875af86e8d"
   },
   "outputs": [
    {
     "name": "stdin",
     "output_type": "stream",
     "text": [
      "Enter a grocery item:  Milk\n"
     ]
    }
   ],
   "source": [
    "item = input(\"Enter a grocery item: \")\n",
    "newList.append(item)"
   ]
  },
  {
   "cell_type": "code",
   "execution_count": 245,
   "metadata": {},
   "outputs": [
    {
     "data": {
      "text/plain": [
       "['Bread', 'Apple', 'Milk']"
      ]
     },
     "execution_count": 245,
     "metadata": {},
     "output_type": "execute_result"
    }
   ],
   "source": [
    "newList"
   ]
  },
  {
   "cell_type": "code",
   "execution_count": 247,
   "metadata": {
    "colab": {
     "base_uri": "https://localhost:8080/",
     "height": 166
    },
    "executionInfo": {
     "elapsed": 302,
     "status": "error",
     "timestamp": 1686686508922,
     "user": {
      "displayName": "Anas Buhayh",
      "userId": "13931278578707862625"
     },
     "user_tz": 300
    },
    "id": "OUN1fuhz7FGb",
    "outputId": "dd36b501-e456-4509-81ee-be2ab5dfa790"
   },
   "outputs": [],
   "source": [
    "totalPrice = 0\n",
    "\n",
    "for item in newList:\n",
    "    if item in groceryDict:\n",
    "        totalPrice += groceryDict[item]"
   ]
  },
  {
   "cell_type": "code",
   "execution_count": 249,
   "me