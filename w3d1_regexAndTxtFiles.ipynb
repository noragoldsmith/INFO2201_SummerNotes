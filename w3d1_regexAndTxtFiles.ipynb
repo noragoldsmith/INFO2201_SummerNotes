{
 "cells": [
  {
   "cell_type": "markdown",
   "metadata": {
    "id": "hZRSoSReu5Mn"
   },
   "source": [
    "# Week 3 Day 1: Files, .txt files and Regular Expressions\n",
    "*   Reading and downloading files\n",
    "*   Introduction to regular expressions\n",
    "\n"
   ]
  },
  {
   "cell_type": "markdown",
   "metadata": {
    "id": "vfO9JFSwvneI"
   },
   "source": [
    "## Files\n",
    "\n",
    "Where files are downloaded to are not the same as where you are working necesarily \n",
    "\n",
    "**Lets take a moment to download the .txt file on the week 2 module, see where it is compared to where we are working**\n",
    "\n",
    "*Laurie -- do this and screenshare*"
   ]
  },
  {
   "cell_type": "markdown",
   "metadata": {},
   "source": [
    "### OS Package\n",
    "this is a package that can help you navigate different files and folders within your operating control. "
   ]
  },
  {
   "cell_type": "code",
   "execution_count": 1,
   "metadata": {},
   "outputs": [],
   "source": [
    "### Import OS\n"
   ]
  },
  {
   "cell_type": "code",
   "execution_count": 1,
   "metadata": {},
   "outputs": [],
   "source": [
    "#get your current working directory\n"
   ]
  },
  {
   "cell_type": "markdown",
   "metadata": {},
   "source": [
    "### File Handling\n",
    "The key function for working with files in Python is the open() function.\n",
    "\n",
    "The **open()** function takes two parameters; filename, and mode.\n",
    "\n",
    "There are four different methods (modes) for opening a file:\n",
    "- \"r\" - Read - Default value. Opens a file for reading, error if the file does not exist\n",
    "- \"a\" - Append - Opens a file for appending, creates the file if it does not exist\n",
    "- \"w\" - Write - Opens a file for writing, creates the file if it does not exist\n",
    "- \"x\" - Create - Creates the specified file, returns an error if the file exists\n",
    "\n",
    "In addition you can specify if the file should be handled as binary or text mode\n",
    "- \"t\" - Text - Default value. Text mode\n",
    "- \"b\" - Binary - Binary mode (e.g. images)"
   ]
  },
  {
   "cell_type": "code",
   "execution_count": null,
   "metadata": {},
   "outputs": [],
   "source": [
    "f = open(\"demofile.txt\")\n",
    "f.close()"
   ]
  },
  {
   "cell_type": "markdown",
   "metadata": {},
   "source": [
    "is the same as "
   ]
  },
  {
   "cell_type": "code",
   "execution_count": null,
   "metadata": {},
   "outputs": [],
   "source": [
    "f = open(\"demofile.txt\", \"rt\")\n",
    "f.close()"
   ]
  },
  {
   "cell_type": "markdown",
   "metadata": {},
   "source": [
    "Because \"r\" for read, and \"t\" for text are the default values, you do not need to specify them.\n",
    "\n",
    "However we will not use open() alone we will use.."
   ]
  },
  {
   "cell_type": "code",
   "execution_count": null,
   "metadata": {},
   "outputs": [],
   "source": [
    "#example 1\n",
    "with open(\"demofile.txt\", r) as f:\n",
    "    lines = f.readlines()\n",
    "\n",
    "#example 2\n",
    "with open(\"demofile.txt\", r) as f:\n",
    "    fullFile = f.read()"
   ]
  },
  {
   "cell_type": "markdown",
   "metadata": {},
   "source": [
    " #### we use with because it automatically closes the file when we're done with it\n",
    " \n",
    "Once you get your file imported into the code there are many other methods that you can work with\n",
    "- read()\n",
    "- readlines()\n",
    "- strip()"
   ]
  },
  {
   "cell_type": "code",
   "execution_count": 2,
   "metadata": {
    "colab": {
     "base_uri": "https://localhost:8080/"
    },
    "executionInfo": {
     "elapsed": 1157,
     "status": "ok",
     "timestamp": 1687198584771,
     "user": {
      "displayName": "Anas X384569",
      "userId": "13931278578707862625"
     },
     "user_tz": 360
    },
    "id": "p2E4EKhCWEC5",
    "outputId": "5d9a8ead-3dd1-4499-c6e4-a84b997a1b6c"
   },
   "outputs": [],
   "source": [
    "#import the .txt file\n",
    "# programmingImportance.txt\n"
   ]
  },
  {
   "cell_type": "code",
   "execution_count": 3,
   "metadata": {
    "colab": {
     "base_uri": "https://localhost:8080/"
    },
    "executionInfo": {
     "elapsed": 440,
     "status": "ok",
     "timestamp": 1687198585208,
     "user": {
      "displayName": "Anas X384569",
      "userId": "13931278578707862625"
     },
     "user_tz": 360
    },
    "id": "G7GVVA3IwvTS",
    "outputId": "b39b4f2e-241c-4c7e-fa83-6aab266cacab"
   },
   "outputs": [],
   "source": [
    "#print a line as the line is read\n"
   ]
  },
  {
   "cell_type": "markdown",
   "metadata": {},
   "source": [
    "**.strip()**\n",
    "this removes any leading, and trailing whitespaces"
   ]
  },
  {
   "cell_type": "code",
   "execution_count": null,
   "metadata": {},
   "outputs": [],
   "source": [
    "#example make one with alot of white spaces"
   ]
  },
  {
   "cell_type": "code",
   "execution_count": 4,
   "metadata": {
    "colab": {
     "base_uri": "https://localhost:8080/"
    },
    "executionInfo": {
     "elapsed": 29,
     "status": "ok",
     "timestamp": 1687198585437,
     "user": {
      "displayName": "Anas X384569",
      "userId": "13931278578707862625"
     },
     "user_tz": 360
    },
    "id": "Upt-lqdgzQW1",
    "outputId": "b910fa1a-c4af-4c9e-f6cd-e9bb00e6bc4a"
   },
   "outputs": [],
   "source": [
    "# strip the line as it is read for our file\n"
   ]
  },
  {
   "cell_type": "code",
   "execution_count": 5,
   "metadata": {
    "colab": {
     "base_uri": "https://localhost:8080/"
    },
    "executionInfo": {
     "elapsed": 21,
     "status": "ok",
     "timestamp": 1687198585437,
     "user": {
      "displayName": "Anas X384569",
      "userId": "13931278578707862625"
     },
     "user_tz": 360
    },
    "id": "P-NO676hzbs6",
    "outputId": "92e6d90b-e0a7-457a-e00c-bef57a25fe76"
   },
   "outputs": [],
   "source": [
    "# strip each line with a for loop\n"
   ]
  },
  {
   "cell_type": "code",
   "execution_count": 6,
   "metadata": {
    "executionInfo": {
     "elapsed": 7,
     "status": "ok",
     "timestamp": 1687198585438,
     "user": {
      "displayName": "Anas X384569",
      "userId": "13931278578707862625"
     },
     "user_tz": 360
    },
    "id": "dNVL1iQszs_h"
   },
   "outputs": [],
   "source": [
    "#assign the content in the file to a variable\n"
   ]
  },
  {
   "cell_type": "markdown",
   "metadata": {},
   "source": []
  },
  {
   "cell_type": "markdown",
   "metadata": {},
   "source": [
    "### Exercise 1: \n",
    "import yoga.txt and find out which word is said the most"
   ]
  },
  {
   "cell_type": "code",
   "execution_count": 64,
   "metadata": {},
   "outputs": [],
   "source": []
  },
  {
   "cell_type": "code",
   "execution_count": null,
   "metadata": {},
   "outputs": [],
   "source": []
  },
  {
   "cell_type": "markdown",
   "metadata": {
    "id": "IAIOyOXe1Uq2"
   },
   "source": [
    "### Regular Expressions (re)\n",
    "This is another package that allows you to navigate, and edit things such as strings. There are some key methods that we should know\n",
    "- find()\n",
    "- findall(): returns a list of all the matches of the pattern we specified found in the source\n",
    "- replace()"
   ]
  },
  {
   "cell_type": "code",
   "execution_count": 7,
   "metadata": {
    "executionInfo": {
     "elapsed": 8,
     "status": "ok",
     "timestamp": 1687198586018,
     "user": {
      "displayName": "Anas X384569",
      "userId": "13931278578707862625"
     },
     "user_tz": 360
    },
    "id": "k4z8QO0o1Yvz"
   },
   "outputs": [],
   "source": [
    "#import the regular expressions package\n"
   ]
  },
  {
   "cell_type": "code",
   "execution_count": 8,
   "metadata": {},
   "outputs": [],
   "source": [
    "# import nyt_restaurantRevolution.txt to a string\n"
   ]
  },
  {
   "cell_type": "code",
   "execution_count": null,
   "metadata": {},
   "outputs": [],
   "source": []
  },
  {
   "cell_type": "code",
   "execution_count": 9,
   "metadata": {
    "colab": {
     "base_uri": "https://localhost:8080/"
    },
    "executionInfo": {
     "elapsed": 7,
     "status": "ok",
     "timestamp": 1687198586019,
     "user": {
      "displayName": "Anas X384569",
      "userId": "13931278578707862625"
     },
     "user_tz": 360
    },
    "id": "pN7QQKxL13UJ",
    "outputId": "6d4e2167-df83-429d-cc63-cc01177bc399"
   },
   "outputs": [],
   "source": [
    "# get all the instances of the word \"programming\"\n"
   ]
  },
  {
   "cell_type": "code",
   "execution_count": 10,
   "metadata": {},
   "outputs": [],
   "source": [
    "#what type is the resulting findall() method"
   ]
  },
  {
   "cell_type": "code",
   "execution_count": 11,
   "metadata": {},
   "outputs": [],
   "source": [
    "#find the number of instances of the word 'computer'\n"
   ]
  },
  {
   "cell_type": "markdown",
   "metadata": {},
   "source": [
    "#### wildcards / regex symbols\n",
    "* \\d : any digit\n",
    "* \\s : any whitespace character\n",
    "* \\S : any non-whitespace character\n",
    "* \\w : any alphanumeric character (a-z, A-Z, 0-9, _)\n",
    "* \\W : any non-alphanumeric character\n",
    "* \\t : tab characters\n",
    "* \\n : newline\n",
    "* . : any character except the newline character"
   ]
  },
  {
   "cell_type": "code",
   "execution_count": 12,
   "metadata": {
    "colab": {
     "base_uri": "https://localhost:8080/"
    },
    "executionInfo": {
     "elapsed": 4,
     "status": "ok",
     "timestamp": 1687198586137,
     "user": {
      "displayName": "Anas X384569",
      "userId": "13931278578707862625"
     },
     "user_tz": 360
    },
    "id": "f9JZcdYw2IYM",
    "outputId": "fb13b405-a071-4bc9-9c05-3a255c6b0675"
   },
   "outputs": [],
   "source": [
    "#find all the numbers in the .txt file\n"
   ]
  },
  {
   "cell_type": "code",
   "execution_count": 13,
   "metadata": {
    "colab": {
     "base_uri": "https://localhost:8080/"
    },
    "executionInfo": {
     "elapsed": 167,
     "status": "ok",
     "timestamp": 1687198586457,
     "user": {
      "displayName": "Anas X384569",
      "userId": "13931278578707862625"
     },
     "user_tz": 360
    },
    "id": "yE-3Wja02Q4Y",
    "outputId": "ce4d7317-fe09-43fc-a67c-5432faf713a3"
   },
   "outputs": [],
   "source": [
    "#find all of the WORDS ONLY \n"
   ]
  },
  {
   "cell_type": "code",
   "execution_count": 14,
   "metadata": {
    "colab": {
     "base_uri": "https://localhost:8080/"
    },
    "executionInfo": {
     "elapsed": 10,
     "status": "ok",
     "timestamp": 1687198586617,
     "user": {
      "displayName": "Anas X384569",
      "userId": "13931278578707862625"
     },
     "user_tz": 360
    },
    "id": "YcLccBM62R4P",
    "outputId": "81966bbc-ae98-4bf7-9fc8-a3af67fcd4a9"
   },
   "outputs": [],
   "source": [
    "# how many words are there?\n"
   ]
  },
  {
   "cell_type": "code",
   "execution_count": 15,
   "metadata": {
    "colab": {
     "base_uri": "https://localhost:8080/"
    },
    "executionInfo": {
     "elapsed": 4,
     "status": "ok",
     "timestamp": 1687198586897,
     "user": {
      "displayName": "Anas X384569",
      "userId": "13931278578707862625"
     },
     "user_tz": 360
    },
    "id": "3OMayYvh2YUG",
    "outputId": "34bf8131-2142-4e46-d95b-c2ab5a9762a2"
   },
   "outputs": [],
   "source": [
    "# let's find all the numeric representations of dollar amounts in the story\n",
    "# $ means something in regex so we need to escape it if we're just looking for the $ character"
   ]
  },
  {
   "cell_type": "code",
   "execution_count": 16,
   "metadata": {
    "colab": {
     "base_uri": "https://localhost:8080/"
    },
    "executionInfo": {
     "elapsed": 7,
     "status": "ok",
     "timestamp": 1687198587201,
     "user": {
      "displayName": "Anas X384569",
      "userId": "13931278578707862625"
     },
     "user_tz": 360
    },
    "id": "NvIjPSfK2ity",
    "outputId": "db11ad94-fa29-4a99-e3da-347f41719cda"
   },
   "outputs": [],
   "source": [
    "# let's match the dollar amounts along with the word following those amounts\n"
   ]
  },
  {
   "cell_type": "code",
   "execution_count": 17,
   "metadata": {
    "colab": {
     "base_uri": "https://localhost:8080/"
    },
    "executionInfo": {
     "elapsed": 5,
     "status": "ok",
     "timestamp": 1687198587366,
     "user": {
      "displayName": "Anas X384569",
      "userId": "13931278578707862625"
     },
     "user_tz": 360
    },
    "id": "9ERkYeLS2lob",
    "outputId": "22d5aca4-58a9-4467-8622-76b3bc6267d0"
   },
   "outputs": [],
   "source": [
    "# we're still not matching decimal numbers, so let's do that\n",
    "# \\S matches any non-whitespace character"
   ]
  },
  {
   "cell_type": "code",
   "execution_count": 18,
   "metadata": {
    "colab": {
     "base_uri": "https://localhost:8080/"
    },
    "executionInfo": {
     "elapsed": 13,
     "status": "ok",
     "timestamp": 1687198587696,
     "user": {
      "displayName": "Anas X384569",
      "userId": "13931278578707862625"
     },
     "user_tz": 360
    },
    "id": "y8rIXCXu2pBp",
    "outputId": "6b60307e-3762-497b-dd26-61cd2c9a4785"
   },
   "outputs": [],
   "source": [
    "# if you only wanted to match million,"
   ]
  },
  {
   "cell_type": "code",
   "execution_count": 19,
   "metadata": {
    "colab": {
     "base_uri": "https://localhost:8080/"
    },
    "executionInfo": {
     "elapsed": 5,
     "status": "ok",
     "timestamp": 1687198587963,
     "user": {
      "displayName": "Anas X384569",
      "userId": "13931278578707862625"
     },
     "user_tz": 360
    },
    "id": "rLaNj3t92rTq",
    "outputId": "9c3a5d9f-2c46-4c68-e0d2-bcb5d20c8e0e"
   },
   "outputs": [],
   "source": [
    "# what if we want to find all words that start with a vowel?\n",
    "# square brackets in regex does or"
   ]
  },
  {
   "cell_type": "code",
   "execution_count": 20,
   "metadata": {
    "colab": {
     "base_uri": "https://localhost:8080/"
    },
    "executionInfo": {
     "elapsed": 5,
     "status": "ok",
     "timestamp": 1687198588075,
     "user": {
      "displayName": "Anas X384569",
      "userId": "13931278578707862625"
     },
     "user_tz": 360
    },
    "id": "Eci3Kh9F2tsG",
    "outputId": "407bef96-afdd-4069-cb7b-cef3d5260a8b"
   },
   "outputs": [],
   "source": [
    "# we need a way to say \"beginning of a word\"\n",
    "# \\\\b is the symbol for \"word boundary\""
   ]
  },
  {
   "cell_type": "code",
   "execution_count": 21,
   "metadata": {
    "colab": {
     "base_uri": "https://localhost:8080/"
    },
    "executionInfo": {
     "elapsed": 128,
     "status": "ok",
     "timestamp": 1687198588642,
     "user": {
      "displayName": "Anas X384569",
      "userId": "13931278578707862625"
     },
     "user_tz": 360
    },
    "id": "-hKXRCkT2xLT",
    "outputId": "a55ad3e6-ce5c-48c2-a48d-794482b38808"
   },
   "outputs": [],
   "source": [
    "# with [] you can also do ranges\n",
    "# \\\\b works at the beginning and end of a word"
   ]
  },
  {
   "cell_type": "code",
   "execution_count": 22,
   "metadata": {
    "colab": {
     "base_uri": "https://localhost:8080/"
    },
    "executionInfo": {
     "elapsed": 4,
     "status": "ok",
     "timestamp": 1687198589243,
     "user": {
      "displayName": "Anas X384569",
      "userId": "13931278578707862625"
     },
     "user_tz": 360
    },
    "id": "FsVCGy_z20ed",
    "outputId": "b3a355f7-62c1-4469-b20d-b94bf78de8fb"
   },
   "outputs": [],
   "source": [
    "# what about any digits from 2-4 digits in length?\n"
   ]
  },
  {
   "cell_type": "code",
   "execution_count": 23,
   "metadata": {
    "colab": {
     "base_uri": "https://localhost:8080/"
    },
    "executionInfo": {
     "elapsed": 126,
     "status": "ok",
     "timestamp": 1687198589486,
     "user": {
      "displayName": "Anas X384569",
      "userId": "13931278578707862625"
     },
     "user_tz": 360
    },
    "id": "p-HbGeV823HJ",
    "outputId": "67880ca5-14fa-4fa3-9f96-1f81dbeecd05"
   },
   "outputs": [],
   "source": [
    "# you can even use this syntax to set a lower limit but no upper limit\n"
   ]
  },
  {
   "cell_type": "code",
   "execution_count": 24,
   "metadata": {
    "colab": {
     "base_uri": "https://localhost:8080/"
    },
    "executionInfo": {
     "elapsed": 137,
     "status": "ok",
     "timestamp": 1687198589919,
     "user": {
      "displayName": "Anas X384569",
      "userId": "13931278578707862625"
     },
     "user_tz": 360
    },
    "id": "0n5r18nZ26AO",
    "outputId": "3690f302-f81e-4967-afd5-5c471ce3734a"
   },
   "outputs": [],
   "source": [
    "# find the word guitar and the word preceding it and the word following it\n"
   ]
  },
  {
   "cell_type": "code",
   "execution_count": 68,
   "metadata": {
    "executionInfo": {
     "elapsed": 5,
     "status": "ok",
     "timestamp": 1687198590211,
     "user": {
      "displayName": "Anas X384569",
      "userId": "13931278578707862625"
     },
     "user_tz": 360
    },
    "id": "6ii9HIf132J1"
   },
   "outputs": [],
   "source": []
  },
  {
   "cell_type": "markdown",
   "metadata": {},
   "source": [
    "### Metacharacters\n",
    "Metacharacters are characters with a special meaning:"
   ]
  },
  {
   "cell_type": "code",
   "execution_count": null,
   "metadata": {},
   "outputs": [],
   "source": [
    "# open the sorcerers-stone.txt file"
   ]
  },
  {
   "cell_type": "code",
   "execution_count": null,
   "metadata": {},
   "outputs": [],
   "source": [
    "# clean your code and stip the new lines and the spaces"
   ]
  },
  {
   "cell_type": "code",
   "execution_count": null,
   "metadata": {},
   "outputs": [],
   "source": [
    "# find all the times \"witch is said\""
   ]
  },
  {
   "cell_type": "code",
   "execution_count": null,
   "metadata": {},
   "outputs": [],
   "source": [
    "# find what words come after \"Harry\""
   ]
  },
  {
   "cell_type": "code",
   "execution_count": null,
   "metadata": {},
   "outputs": [],
   "source": [
    "# find how many times magic appears (upper and lowercase)"
   ]
  },
  {
   "cell_type": "code",
   "execution_count": null,
   "metadata": {},
   "outputs": [],
   "source": [
    "# find all the words that start with a vowel"
   ]
  },
  {
   "cell_type": "code",
   "execution_count": null,
   "metadata": {},
   "outputs": [],
   "source": [
    "# find every word that ends in \"ing\""
   ]
  },
  {
   "cell_type": "code",
   "execution_count": null,
   "metadata": {},
   "outputs": [],
   "source": []
  },
  {
   "cell_type": "markdown",
   "metadata": {},
   "source": []
  }
 ],
 "metadata": {
  "colab": {
   "authorship_tag": "ABX9TyMqQgmkR7UmKkFEVAQgS5Ye",
   "provenance": []
  },
  "kernelspec": {
   "display_name": "base",
   "language": "python",
   "name": "python3"
  },
  "language_info": {
   "codemirror_mode": {
    "name": "ipython",
    "version": 3
   },
   "file_extension": ".py",
   "mimetype": "text/x-python",
   "name": "python",
   "nbconvert_exporter": "python",
   "pygments_lexer": "ipython3",
   "version": "3.12.4"
  }
 },
 "nbformat": 4,
 "nbformat_minor": 0
}
